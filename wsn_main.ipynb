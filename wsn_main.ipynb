{
 "cells": [
  {
   "cell_type": "markdown",
   "metadata": {},
   "source": [
    "# Filter wsn data"
   ]
  },
  {
   "cell_type": "markdown",
   "metadata": {},
   "source": [
    "Load libraries"
   ]
  },
  {
   "cell_type": "code",
   "execution_count": 1,
   "metadata": {},
   "outputs": [],
   "source": [
    "from wsn_client import query\n",
    "import datetime, os\n",
    "from matplotlib import pyplot\n",
    "import numpy as np\n",
    "import pandas as pd\n",
    "import os.path\n"
   ]
  },
  {
   "cell_type": "markdown",
   "metadata": {},
   "source": [
    "Load one station"
   ]
  },
  {
   "cell_type": "code",
   "execution_count": 244,
   "metadata": {},
   "outputs": [
    {
     "name": "stdout",
     "output_type": "stream",
     "text": [
      "sw-001\n",
      "Number of columns : 29\n",
      "Index(['time', 'frame', 'type', 'bat', 'acc_x', 'acc_y', 'acc_z', 'bme_tc',\n",
      "       'int_tc', 'bme_hum', 'int_hum', 'bme_pres', 'int_pres', 'mb_distance',\n",
      "       'vl_distance', 'tmp_temperature', 'ds1820', 'altitude', 'latitude',\n",
      "       'longitude', 'gps_accuracy', 'gps_satellites', 'mlx_object',\n",
      "       'mlx_ambient', 'received', 'momsn', 'iridium_cep', 'iridium_latitude',\n",
      "       'iridium_longitude'],\n",
      "      dtype='object')\n"
     ]
    }
   ],
   "source": [
    "# Time period\n",
    "start = datetime.datetime(2019, 1, 1)\n",
    "end = datetime.datetime(2020, 10, 10)\n",
    "\n",
    "# Load station\n",
    "#station_name =   [ f\"sw-{x:03d}\"  for x in range(1,14) ]\n",
    "#for name in station_name:\n",
    "name = \"sw-001\"\n",
    "#var_oi = ['tmp_temperature','bme_hum'] #[]'type','acc_x','acc_y','acc_z','ds1820','mb_distance','vl_distance','tmp_temperature'\n",
    "df = query.query('postgresql', name=name, time__gte=start, time__lte=end, limit=2000000000000)\n",
    "\n",
    "# Check if empty\n",
    "if df.empty: \n",
    "    print(name,\" --- Frame is >> EMPTY <<\")\n",
    "else:     \n",
    "    # Remove non recorded data\n",
    "    if 'type' in df.columns:\n",
    "        df = df[df.type==0]\n",
    "    print(name)\n",
    "    # Remove duplicated indexes and frames\n",
    "    df=df.drop_duplicates(['time', 'frame'])\n",
    "    # Printing Number of columns and names\n",
    "    print('Number of columns :', df.shape[1]) \n",
    "    print(df.columns)"
   ]
  },
  {
   "cell_type": "code",
   "execution_count": 243,
   "metadata": {},
   "outputs": [],
   "source": [
    "# print(\"NaN percentage per column\")\n",
    "# print((df.isna().sum()/len(df)*100).round(2))"
   ]
  },
  {
   "cell_type": "code",
   "execution_count": 3,
   "metadata": {},
   "outputs": [],
   "source": [
    "sensor_tmp = ['tmp_temperature','bme_tc']#, 'ds1820', 'mlx_ambient'\n",
    "sensor_hum = ['bme_hum',]\n",
    "sensor_wind = ['wind_dir','wind_gust','wind_speed']\n",
    "sensor_snow = ['mb_distance','vl_distance']\n",
    "sensor_pres = ['bme_pres']\n",
    "sensor_acc = ['acc_x','acc_y','acc_z']"
   ]
  },
  {
   "cell_type": "code",
   "execution_count": 4,
   "metadata": {},
   "outputs": [],
   "source": [
    "coord=df[df.columns[df.columns.isin(['latitude','longitude','altitude'])]][df.gps_satellites>7].agg(['mean','median', 'std']).round(4)"
   ]
  },
  {
   "cell_type": "code",
   "execution_count": 5,
   "metadata": {},
   "outputs": [
    {
     "data": {
      "text/html": [
       "<div>\n",
       "<style scoped>\n",
       "    .dataframe tbody tr th:only-of-type {\n",
       "        vertical-align: middle;\n",
       "    }\n",
       "\n",
       "    .dataframe tbody tr th {\n",
       "        vertical-align: top;\n",
       "    }\n",
       "\n",
       "    .dataframe thead th {\n",
       "        text-align: right;\n",
       "    }\n",
       "</style>\n",
       "<table border=\"1\" class=\"dataframe\">\n",
       "  <thead>\n",
       "    <tr style=\"text-align: right;\">\n",
       "      <th></th>\n",
       "      <th>bme_tc</th>\n",
       "      <th>bme_hum</th>\n",
       "      <th>bme_pres</th>\n",
       "      <th>mb_distance</th>\n",
       "      <th>mlx_object</th>\n",
       "    </tr>\n",
       "    <tr>\n",
       "      <th>time</th>\n",
       "      <th></th>\n",
       "      <th></th>\n",
       "      <th></th>\n",
       "      <th></th>\n",
       "      <th></th>\n",
       "    </tr>\n",
       "  </thead>\n",
       "  <tbody>\n",
       "    <tr>\n",
       "      <th>2019-04-06 15:00:00</th>\n",
       "      <td>22.820000</td>\n",
       "      <td>12.080078</td>\n",
       "      <td>103088.164062</td>\n",
       "      <td>[2161, 2164, 2166, 2165, 2165]</td>\n",
       "      <td>NaN</td>\n",
       "    </tr>\n",
       "    <tr>\n",
       "      <th>2019-04-06 15:10:00</th>\n",
       "      <td>23.020000</td>\n",
       "      <td>11.994141</td>\n",
       "      <td>103092.312500</td>\n",
       "      <td>[1203, 1200, 1201, 1207, 1210]</td>\n",
       "      <td>NaN</td>\n",
       "    </tr>\n",
       "    <tr>\n",
       "      <th>2019-04-06 15:20:00</th>\n",
       "      <td>23.590000</td>\n",
       "      <td>10.735352</td>\n",
       "      <td>103091.242188</td>\n",
       "      <td>[1286, 1913, 1910, 1910, 1911]</td>\n",
       "      <td>NaN</td>\n",
       "    </tr>\n",
       "    <tr>\n",
       "      <th>2019-04-06 15:30:00</th>\n",
       "      <td>23.889999</td>\n",
       "      <td>11.067383</td>\n",
       "      <td>103101.437500</td>\n",
       "      <td>[1236, 1247, 1234, 1247, 1237]</td>\n",
       "      <td>NaN</td>\n",
       "    </tr>\n",
       "    <tr>\n",
       "      <th>2019-04-06 15:40:00</th>\n",
       "      <td>24.070000</td>\n",
       "      <td>10.757812</td>\n",
       "      <td>103115.226562</td>\n",
       "      <td>[1303, 1254, 1251, 1221, 1929]</td>\n",
       "      <td>NaN</td>\n",
       "    </tr>\n",
       "    <tr>\n",
       "      <th>...</th>\n",
       "      <td>...</td>\n",
       "      <td>...</td>\n",
       "      <td>...</td>\n",
       "      <td>...</td>\n",
       "      <td>...</td>\n",
       "    </tr>\n",
       "    <tr>\n",
       "      <th>2020-01-07 19:00:00</th>\n",
       "      <td>-9.480000</td>\n",
       "      <td>100.000000</td>\n",
       "      <td>93323.742188</td>\n",
       "      <td>[2666, 2661, 2652, 2653, 2652]</td>\n",
       "      <td>NaN</td>\n",
       "    </tr>\n",
       "    <tr>\n",
       "      <th>2020-01-07 19:10:00</th>\n",
       "      <td>-9.530000</td>\n",
       "      <td>100.000000</td>\n",
       "      <td>93313.500000</td>\n",
       "      <td>[2703, 2678, 2680, 2710, 2679]</td>\n",
       "      <td>NaN</td>\n",
       "    </tr>\n",
       "    <tr>\n",
       "      <th>2020-01-07 19:20:00</th>\n",
       "      <td>-9.380000</td>\n",
       "      <td>100.000000</td>\n",
       "      <td>93264.695312</td>\n",
       "      <td>NaN</td>\n",
       "      <td>NaN</td>\n",
       "    </tr>\n",
       "    <tr>\n",
       "      <th>2020-01-07 19:30:00</th>\n",
       "      <td>-9.460000</td>\n",
       "      <td>100.000000</td>\n",
       "      <td>93313.304688</td>\n",
       "      <td>[2715, 2719, 2728, 2726, 2724]</td>\n",
       "      <td>-9.410004</td>\n",
       "    </tr>\n",
       "    <tr>\n",
       "      <th>2020-01-07 19:40:00</th>\n",
       "      <td>NaN</td>\n",
       "      <td>NaN</td>\n",
       "      <td>NaN</td>\n",
       "      <td>[2723, 2718, 2720, 2721, 2721]</td>\n",
       "      <td>NaN</td>\n",
       "    </tr>\n",
       "  </tbody>\n",
       "</table>\n",
       "<p>41435 rows × 5 columns</p>\n",
       "</div>"
      ],
      "text/plain": [
       "                        bme_tc     bme_hum       bme_pres  \\\n",
       "time                                                        \n",
       "2019-04-06 15:00:00  22.820000   12.080078  103088.164062   \n",
       "2019-04-06 15:10:00  23.020000   11.994141  103092.312500   \n",
       "2019-04-06 15:20:00  23.590000   10.735352  103091.242188   \n",
       "2019-04-06 15:30:00  23.889999   11.067383  103101.437500   \n",
       "2019-04-06 15:40:00  24.070000   10.757812  103115.226562   \n",
       "...                        ...         ...            ...   \n",
       "2020-01-07 19:00:00  -9.480000  100.000000   93323.742188   \n",
       "2020-01-07 19:10:00  -9.530000  100.000000   93313.500000   \n",
       "2020-01-07 19:20:00  -9.380000  100.000000   93264.695312   \n",
       "2020-01-07 19:30:00  -9.460000  100.000000   93313.304688   \n",
       "2020-01-07 19:40:00        NaN         NaN            NaN   \n",
       "\n",
       "                                        mb_distance  mlx_object  \n",
       "time                                                             \n",
       "2019-04-06 15:00:00  [2161, 2164, 2166, 2165, 2165]         NaN  \n",
       "2019-04-06 15:10:00  [1203, 1200, 1201, 1207, 1210]         NaN  \n",
       "2019-04-06 15:20:00  [1286, 1913, 1910, 1910, 1911]         NaN  \n",
       "2019-04-06 15:30:00  [1236, 1247, 1234, 1247, 1237]         NaN  \n",
       "2019-04-06 15:40:00  [1303, 1254, 1251, 1221, 1929]         NaN  \n",
       "...                                             ...         ...  \n",
       "2020-01-07 19:00:00  [2666, 2661, 2652, 2653, 2652]         NaN  \n",
       "2020-01-07 19:10:00  [2703, 2678, 2680, 2710, 2679]         NaN  \n",
       "2020-01-07 19:20:00                             NaN         NaN  \n",
       "2020-01-07 19:30:00  [2715, 2719, 2728, 2726, 2724]   -9.410004  \n",
       "2020-01-07 19:40:00  [2723, 2718, 2720, 2721, 2721]         NaN  \n",
       "\n",
       "[41435 rows x 5 columns]"
      ]
     },
     "execution_count": 5,
     "metadata": {},
     "output_type": "execute_result"
    }
   ],
   "source": [
    "# Extract wanted and existing columns\n",
    "coltoget2 = ['bme_tc','bme_hum', 'bme_pres', 'mlx_object','mb_distance',]\n",
    "df[df.columns[df.columns.isin(coltoget2)]]"
   ]
  },
  {
   "cell_type": "code",
   "execution_count": 89,
   "metadata": {},
   "outputs": [
    {
     "data": {
      "text/plain": [
       "pandas.core.frame.DataFrame"
      ]
     },
     "execution_count": 89,
     "metadata": {},
     "output_type": "execute_result"
    }
   ],
   "source": [
    "type(df)"
   ]
  },
  {
   "cell_type": "code",
   "execution_count": 387,
   "metadata": {},
   "outputs": [],
   "source": [
    "def quality_control_air_temperature(df,f_update=False,f_print=True):\n",
    "    \"\"\"Apply quality control on air temperature data.\n",
    "\n",
    "    The following tests are applied:\n",
    "        - Must pass monthly temperature limit. QC.\n",
    "\n",
    "    Parameters\n",
    "    ----------\n",
    "    df : pandas.core.frame.DataFrame\n",
    "        data downloaded from wsn\n",
    "    flag_update : boolean\n",
    "        Flag to recompute the monthly min and max of the temperature (saved \n",
    "        in csv at data_qc/temperature_,monthly_limit.csv)\n",
    "    \"\"\"\n",
    "\n",
    "    sensor_tmp = ['tmp_temperature','bme_tc']\n",
    "        \n",
    "    \n",
    "    if all(~df.columns.isin(sensor_tmp)):\n",
    "        if f_print: print('No temperature data defined as:')\n",
    "        if f_print: print(sensor_tmp) \n",
    "        temp=None\n",
    "        return(temp)\n",
    "        \n",
    "    # Update monthly limits and save it in a csv file (can be manually edited)\n",
    "    filename='data_qc/temperature_monthly_limit.csv'\n",
    "    if (f_update) | (~os.path.isfile(filename)): \n",
    "        update_file_temperature_monthly_limits(df.tmp_temperature,filename,f_print)\n",
    "    \n",
    "    # Load and select data source\n",
    "    if f_print: print('Load temperature data')        \n",
    "    col_to_get=df.columns.isin([sensor_tmp[0]])\n",
    "    if any(col_to_get):\n",
    "        temp=df[df.columns[col_to_get]]\n",
    "        if f_print: print(temp)\n",
    "        \n",
    "        # Quality Control -- 1) -- Monthly limit\n",
    "        limit_table=pd.read_csv(filename)\n",
    "        temp[sensor_tmp[0] + '_qc']=df[[sensor_tmp[0]]].apply(lambda x: qc_temperature_monthly_limits(x,limit_table,\n",
    "                                                                                                      var='temp'),axis=1)\n",
    "    \n",
    "    return(temp)\n",
    "\n",
    "\n",
    "\n",
    "def update_file_temperature_monthly_limits(df,filename='data_qc/temperature_monthly_limit.csv',f_print=True):\n",
    "    \"\"\"Compute monthly air temperature minum and maximum.\n",
    "\n",
    "    Parameters\n",
    "    ----------\n",
    "    df : pandas.core.frame.DataFrame\n",
    "        temperature data downloaded from wsn\n",
    "    \"\"\"\n",
    "    if f_print: print('Update monthly limits for Air Temperature')\n",
    "    monthly_data=df.groupby(df.index.month).agg(['min', 'max','std','count']).round(2)\n",
    "    monthly_data=monthly_data.rename(columns = {'min':'temp_min','max':'temp_max',\n",
    "                                                'std':'temp_std','count':'temp_count'})\n",
    "    monthly_data.to_csv(filename,index_label='month')\n",
    "    \n",
    "    \n",
    "def qc_temperature_monthly_limits(x,limit_table, var='temp'):\n",
    "    \"\"\"Compute whether points are in range and assign quality assessment.\n",
    "    \n",
    "    The function is built for apply() and needs to be run as followed:\n",
    "    qc_range=df[['tmp_temperature']].apply(lambda x: fun(x,limit_table),axis=1)\n",
    "    \n",
    "    Parameters\n",
    "    ----------\n",
    "    x : pandas.core.frame.DataFrame (one column)\n",
    "        temperature data downloaded from wsn\n",
    "    limit_table : pandas.core.frame.DataFrame \n",
    "        defining the limit in temperature range per month\n",
    "    var : string\n",
    "        name of the variable\n",
    "    \"\"\"\n",
    "    limit=limit_table[limit_table.month.values==x.name.month]\n",
    "    out=(x<limit.iloc[0][var + '_min']) | (x>limit.iloc[0][var + '_max'])\n",
    "    out.at[out]='QC1-1'\n",
    "    return out\n"
   ]
  },
  {
   "cell_type": "markdown",
   "metadata": {},
   "source": [
    "## Function to update monthly limits in temperature"
   ]
  },
  {
   "cell_type": "code",
   "execution_count": null,
   "metadata": {},
   "outputs": [],
   "source": []
  },
  {
   "cell_type": "code",
   "execution_count": 389,
   "metadata": {},
   "outputs": [
    {
     "name": "stdout",
     "output_type": "stream",
     "text": [
      "Update monthly limits for Air Temperature\n",
      "Load temperature data\n",
      "                     tmp_temperature\n",
      "time                                \n",
      "2019-04-06 15:00:00          22.6875\n",
      "2019-04-06 15:10:00          22.8750\n",
      "2019-04-06 15:20:00          23.4375\n",
      "2019-04-06 15:30:00          23.7500\n",
      "2019-04-06 15:40:00          23.9375\n",
      "...                              ...\n",
      "2020-01-07 19:00:00          -8.6250\n",
      "2020-01-07 19:10:00          -8.6875\n",
      "2020-01-07 19:20:00          -8.5625\n",
      "2020-01-07 19:30:00          -8.6250\n",
      "2020-01-07 19:40:00         248.3125\n",
      "\n",
      "[35868 rows x 1 columns]\n"
     ]
    },
    {
     "name": "stderr",
     "output_type": "stream",
     "text": [
      "/Users/pmlefeuv/miniconda3/envs/uioData/lib/python3.7/site-packages/ipykernel_launcher.py:39: SettingWithCopyWarning: \n",
      "A value is trying to be set on a copy of a slice from a DataFrame.\n",
      "Try using .loc[row_indexer,col_indexer] = value instead\n",
      "\n",
      "See the caveats in the documentation: https://pandas.pydata.org/pandas-docs/stable/user_guide/indexing.html#returning-a-view-versus-a-copy\n"
     ]
    }
   ],
   "source": [
    "tmp=quality_control_air_temperature(df)"
   ]
  },
  {
   "cell_type": "code",
   "execution_count": 390,
   "metadata": {},
   "outputs": [],
   "source": [
    "# tmp=quality_control_air_temperature(df[df.columns[1:3]])"
   ]
  },
  {
   "cell_type": "code",
   "execution_count": 136,
   "metadata": {},
   "outputs": [
    {
     "name": "stdout",
     "output_type": "stream",
     "text": [
      "None\n"
     ]
    }
   ],
   "source": [
    "df.all()"
   ]
  },
  {
   "cell_type": "code",
   "execution_count": 85,
   "metadata": {},
   "outputs": [
    {
     "data": {
      "text/plain": [
       "Index(['bme_tc', 'tmp_temperature'], dtype='object')"
      ]
     },
     "execution_count": 85,
     "metadata": {},
     "output_type": "execute_result"
    }
   ],
   "source": [
    "df.columns[df.columns.isin(sensor_tmp)]"
   ]
  },
  {
   "cell_type": "code",
   "execution_count": null,
   "metadata": {},
   "outputs": [],
   "source": []
  }
 ],
 "metadata": {
  "kernelspec": {
   "display_name": "uioData_kernel",
   "language": "python",
   "name": "uiodata_kernel"
  },
  "language_info": {
   "codemirror_mode": {
    "name": "ipython",
    "version": 3
   },
   "file_extension": ".py",
   "mimetype": "text/x-python",
   "name": "python",
   "nbconvert_exporter": "python",
   "pygments_lexer": "ipython3",
   "version": "3.7.6"
  }
 },
 "nbformat": 4,
 "nbformat_minor": 4
}
