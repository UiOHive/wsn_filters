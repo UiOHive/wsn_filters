{
 "cells": [
  {
   "cell_type": "markdown",
   "id": "633da789-017e-49f1-a0eb-393381b94423",
   "metadata": {},
   "source": [
    "# Assessment of MeteoIO's filters"
   ]
  },
  {
   "cell_type": "markdown",
   "id": "c8127068-cc67-45b8-be63-6aca3a6b6f42",
   "metadata": {
    "tags": []
   },
   "source": [
    "## Load libraries"
   ]
  },
  {
   "cell_type": "code",
   "execution_count": 2,
   "id": "ecb4ea2f-d98b-4e95-8dbd-fb694ec32387",
   "metadata": {},
   "outputs": [
    {
     "name": "stdout",
     "output_type": "stream",
     "text": [
      "Using matplotlib backend: MacOSX\n"
     ]
    }
   ],
   "source": [
    "import xarray as xr\n",
    "import matplotlib.pyplot as plt\n",
    "%matplotlib"
   ]
  },
  {
   "cell_type": "markdown",
   "id": "395bde30-577f-469a-8967-5a53167d4238",
   "metadata": {
    "tags": []
   },
   "source": [
    "---\n",
    "---\n",
    "## Midtre Lovenbreen"
   ]
  },
  {
   "cell_type": "markdown",
   "id": "bb506c83-746b-4f4e-a10a-b4d49000b1f9",
   "metadata": {
    "tags": []
   },
   "source": [
    "### Load all stations"
   ]
  },
  {
   "cell_type": "code",
   "execution_count": 39,
   "id": "6178a821-a414-4ddf-944d-4ce6bfabed5b",
   "metadata": {},
   "outputs": [],
   "source": [
    "sw110 = xr.open_dataset('data_qc/aws-sw-110-20210426-20220401.nc')\n",
    "sw120 = xr.open_dataset('data_qc/aws-sw-120-20210426-20220330.nc')\n",
    "sw125 = xr.open_dataset('data_qc/aws-sw-125-20210427-20220401.nc')\n",
    "sw130 = xr.open_dataset('data_qc/aws-sw-130-20210426-20220401.nc')\n",
    "sw140 = xr.open_dataset('data_qc/aws-sw-140-20210426-20220429.nc')\n",
    "#swcorbel = xr.open_dataset('data_qc/aws-sw-corbel-20210426-20220429.nc')\n",
    "sw140"
   ]
  },
  {
   "cell_type": "markdown",
   "id": "678d08c0-a4b4-42a7-870c-fe41667851ad",
   "metadata": {
    "jp-MarkdownHeadingCollapsed": true,
    "tags": []
   },
   "source": [
    "### Snow depth"
   ]
  },
  {
   "cell_type": "code",
   "execution_count": null,
   "id": "6dcdfc3e-4eb3-4a5e-9afd-29f819589926",
   "metadata": {},
   "outputs": [],
   "source": [
    "plt.figure()\n",
    "plt.scatter(sw110.time, sw110.snd,label=\"sw110\", alpha=.5, s=.1)\n",
    "plt.scatter(sw120.time, sw120.snd,label=\"sw120\", alpha=.5, s=.1)\n",
    "#plt.scatter(sw125.time, sw125.snd,label=\"sw125\", alpha=.5, s=.1) # failed - no data\n",
    "plt.scatter(sw130.time, sw130.snd,label=\"sw130\", alpha=.5, s=.1)\n",
    "plt.scatter(sw140.time, sw140.snd,label=\"sw140\", alpha=.5, s=.1)\n",
    "plt.legend()\n",
    "plt.show()"
   ]
  },
  {
   "cell_type": "code",
   "execution_count": null,
   "id": "e059e408-fdf4-4971-b438-1cc2e154850d",
   "metadata": {},
   "outputs": [],
   "source": [
    "plt.figure()\n",
    "sw110.snd.plot(label=\"sw110\")\n",
    "sw120.snd.plot(label=\"sw120\")\n",
    "#sw125.snd.plot(label=\"sw125\") # failed - no data\n",
    "sw130.snd.plot(label=\"sw130\")\n",
    "sw140.snd.plot(label=\"sw140\")\n",
    "plt.legend()\n",
    "plt.show()"
   ]
  },
  {
   "cell_type": "markdown",
   "id": "2c220045-972c-4e82-8b5e-73861b963997",
   "metadata": {
    "jp-MarkdownHeadingCollapsed": true,
    "tags": []
   },
   "source": [
    "### Air temperature"
   ]
  },
  {
   "cell_type": "code",
   "execution_count": null,
   "id": "b01e4eb5-ce97-4c45-b80b-201fe8a938ea",
   "metadata": {},
   "outputs": [],
   "source": [
    "plt.figure()\n",
    "sw110.ta.plot(label=\"sw110\")\n",
    "sw120.ta.plot(label=\"sw120\")\n",
    "sw125.ta.plot(label=\"sw125\")\n",
    "sw130.ta.plot(label=\"sw130\")\n",
    "sw140.ta.plot(label=\"sw140\")\n",
    "plt.legend()\n",
    "plt.show()"
   ]
  },
  {
   "cell_type": "markdown",
   "id": "190f9135-6835-41ed-8007-3804836c0c48",
   "metadata": {
    "jp-MarkdownHeadingCollapsed": true,
    "tags": []
   },
   "source": [
    "### Surface temperature"
   ]
  },
  {
   "cell_type": "code",
   "execution_count": null,
   "id": "799e8d4b-a64d-4f34-9eb8-36db7fb0bb0e",
   "metadata": {},
   "outputs": [],
   "source": [
    "plt.figure()\n",
    "sw110.ts.plot(label=\"sw110\")\n",
    "sw120.ts.plot(label=\"sw120\")\n",
    "sw125.ts.plot(label=\"sw125\")\n",
    "sw130.ts.plot(label=\"sw130\")\n",
    "sw140.ts.plot(label=\"sw140\")\n",
    "plt.legend()\n",
    "plt.show()"
   ]
  },
  {
   "cell_type": "markdown",
   "id": "5fb7afee-79f3-4750-9a60-019256ed6abb",
   "metadata": {
    "jp-MarkdownHeadingCollapsed": true,
    "tags": []
   },
   "source": [
    "### Relative humidity"
   ]
  },
  {
   "cell_type": "code",
   "execution_count": null,
   "id": "f62f8d6e-eb5f-44e7-a554-231c15a9a7b0",
   "metadata": {},
   "outputs": [],
   "source": [
    "plt.figure()\n",
    "sw110.hur.plot(label=\"sw110\")\n",
    "sw120.hur.plot(label=\"sw120\")\n",
    "#sw125.hur.plot(label=\"sw125\") # failed - no data\n",
    "sw130.hur.plot(label=\"sw130\")\n",
    "sw140.hur.plot(label=\"sw140\")\n",
    "plt.legend()\n",
    "plt.show()"
   ]
  },
  {
   "cell_type": "markdown",
   "id": "e351ec67-5cb8-4883-a178-0aa198f8a655",
   "metadata": {
    "jp-MarkdownHeadingCollapsed": true,
    "tags": []
   },
   "source": [
    "### Air pressure"
   ]
  },
  {
   "cell_type": "code",
   "execution_count": null,
   "id": "6a00b140-0a3b-44d7-9bf4-9417d482127c",
   "metadata": {},
   "outputs": [],
   "source": [
    "plt.figure()\n",
    "plt.scatter(sw110.time, sw110.ps,label=\"sw110\", alpha=.5, s=.1)\n",
    "plt.scatter(sw120.time, sw120.ps,label=\"sw120\", alpha=.5, s=.1)\n",
    "#plt.scatter(sw125.time, sw125.ps,label=\"sw125\", alpha=.5, s=.1) # failed - no data\n",
    "plt.scatter(sw130.time, sw130.ps,label=\"sw130\", alpha=.5, s=.1)\n",
    "plt.scatter(sw140.time, sw140.ps,label=\"sw140\", alpha=.5, s=.1)\n",
    "plt.legend()\n",
    "plt.show()"
   ]
  },
  {
   "cell_type": "code",
   "execution_count": null,
   "id": "b7a3b2c2-84cc-4a62-b767-be4e124bd2f1",
   "metadata": {},
   "outputs": [],
   "source": [
    "plt.figure()\n",
    "sw110.ps.plot(label=\"sw110\")\n",
    "sw120.ps.plot(label=\"sw120\")\n",
    "#sw125.ps.plot(label=\"sw125\") # failed - no data\n",
    "sw130.ps.plot(label=\"sw130\")\n",
    "sw140.ps.plot(label=\"sw140\")\n",
    "plt.legend()\n",
    "plt.show()"
   ]
  },
  {
   "cell_type": "markdown",
   "id": "28ead08d-e342-4f08-baff-555a6e0be1c2",
   "metadata": {
    "jp-MarkdownHeadingCollapsed": true,
    "tags": []
   },
   "source": [
    "### Wind speed and direction\n",
    "\n",
    "No wind sensor for the following wsn weather stations: sw125 and sw130"
   ]
  },
  {
   "cell_type": "code",
   "execution_count": null,
   "id": "f7bbf7f4-e59e-4919-8aa1-cc022bd44cbb",
   "metadata": {},
   "outputs": [],
   "source": [
    "plt.figure()\n",
    "sw110.ws.plot(label=\"sw110\")\n",
    "sw120.ws.plot(label=\"sw120\")\n",
    "sw140.ws.plot(label=\"sw140\")\n",
    "plt.legend()\n",
    "plt.show()"
   ]
  },
  {
   "cell_type": "code",
   "execution_count": 40,
   "id": "2780e5f4-3f29-4c6f-af6e-37cb5472ebeb",
   "metadata": {},
   "outputs": [],
   "source": [
    "plt.figure()\n",
    "sw110.dw.plot(label=\"sw110\")\n",
    "sw120.dw.plot(label=\"sw120\")\n",
    "sw140.dw.plot(label=\"sw140\")\n",
    "plt.legend()\n",
    "plt.show()"
   ]
  },
  {
   "cell_type": "markdown",
   "id": "182f9717-5d62-4fb8-94c1-5eaf67c4f7b2",
   "metadata": {
    "jp-MarkdownHeadingCollapsed": true,
    "tags": []
   },
   "source": [
    "### Load reference data"
   ]
  },
  {
   "cell_type": "code",
   "execution_count": null,
   "id": "29d74d60-53d7-4f5f-929e-7a7f7ae6eefb",
   "metadata": {},
   "outputs": [],
   "source": [
    "sw110 = xr.open_dataset('data_qc/reference/aws-sw-110-20210426-20220401.nc')\n",
    "sw120 = xr.open_dataset('data_qc/reference/aws-sw-120-20210426-20220330.nc')\n",
    "sw125 = xr.open_dataset('data_qc/reference/aws-sw-125-20210427-20220401.nc')\n",
    "sw130 = xr.open_dataset('data_qc/reference/aws-sw-130-20210426-20220401.nc')\n",
    "sw140 = xr.open_dataset('data_qc/reference/aws-sw-140-20210426-20220501.nc')\n",
    "swcorbel = xr.open_dataset('data_qc/reference/aws-sw-corbel-20210426-20220429.nc')\n",
    "sw140\n",
    "\n",
    "plt.figure()\n",
    "sw110.snd.plot(label=\"sw110\")\n",
    "sw120.snd.plot(label=\"sw120\")\n",
    "#sw125.snd.plot(label=\"sw125\") # failed - no data\n",
    "sw130.snd.plot(label=\"sw130\")\n",
    "sw140.snd.plot(label=\"sw140\")\n",
    "plt.legend()\n",
    "plt.show()"
   ]
  },
  {
   "cell_type": "markdown",
   "id": "d2f2ef1e-16b0-4b4b-83a2-7f65e9497854",
   "metadata": {
    "tags": []
   },
   "source": [
    "---\n",
    "---\n",
    "\n",
    "## Kongsvegen"
   ]
  },
  {
   "cell_type": "markdown",
   "id": "3eab3a5c-bea1-4220-99a7-8052e37d7944",
   "metadata": {
    "jp-MarkdownHeadingCollapsed": true,
    "tags": []
   },
   "source": [
    "### Load weather data"
   ]
  },
  {
   "cell_type": "code",
   "execution_count": 6,
   "id": "0ae89b64-8c82-4113-82a5-70fbb6a60a8e",
   "metadata": {},
   "outputs": [
    {
     "data": {
      "text/html": [
       "<div><svg style=\"position: absolute; width: 0; height: 0; overflow: hidden\">\n",
       "<defs>\n",
       "<symbol id=\"icon-database\" viewBox=\"0 0 32 32\">\n",
       "<path d=\"M16 0c-8.837 0-16 2.239-16 5v4c0 2.761 7.163 5 16 5s16-2.239 16-5v-4c0-2.761-7.163-5-16-5z\"></path>\n",
       "<path d=\"M16 17c-8.837 0-16-2.239-16-5v6c0 2.761 7.163 5 16 5s16-2.239 16-5v-6c0 2.761-7.163 5-16 5z\"></path>\n",
       "<path d=\"M16 26c-8.837 0-16-2.239-16-5v6c0 2.761 7.163 5 16 5s16-2.239 16-5v-6c0 2.761-7.163 5-16 5z\"></path>\n",
       "</symbol>\n",
       "<symbol id=\"icon-file-text2\" viewBox=\"0 0 32 32\">\n",
       "<path d=\"M28.681 7.159c-0.694-0.947-1.662-2.053-2.724-3.116s-2.169-2.030-3.116-2.724c-1.612-1.182-2.393-1.319-2.841-1.319h-15.5c-1.378 0-2.5 1.121-2.5 2.5v27c0 1.378 1.122 2.5 2.5 2.5h23c1.378 0 2.5-1.122 2.5-2.5v-19.5c0-0.448-0.137-1.23-1.319-2.841zM24.543 5.457c0.959 0.959 1.712 1.825 2.268 2.543h-4.811v-4.811c0.718 0.556 1.584 1.309 2.543 2.268zM28 29.5c0 0.271-0.229 0.5-0.5 0.5h-23c-0.271 0-0.5-0.229-0.5-0.5v-27c0-0.271 0.229-0.5 0.5-0.5 0 0 15.499-0 15.5 0v7c0 0.552 0.448 1 1 1h7v19.5z\"></path>\n",
       "<path d=\"M23 26h-14c-0.552 0-1-0.448-1-1s0.448-1 1-1h14c0.552 0 1 0.448 1 1s-0.448 1-1 1z\"></path>\n",
       "<path d=\"M23 22h-14c-0.552 0-1-0.448-1-1s0.448-1 1-1h14c0.552 0 1 0.448 1 1s-0.448 1-1 1z\"></path>\n",
       "<path d=\"M23 18h-14c-0.552 0-1-0.448-1-1s0.448-1 1-1h14c0.552 0 1 0.448 1 1s-0.448 1-1 1z\"></path>\n",
       "</symbol>\n",
       "</defs>\n",
       "</svg>\n",
       "<style>/* CSS stylesheet for displaying xarray objects in jupyterlab.\n",
       " *\n",
       " */\n",
       "\n",
       ":root {\n",
       "  --xr-font-color0: var(--jp-content-font-color0, rgba(0, 0, 0, 1));\n",
       "  --xr-font-color2: var(--jp-content-font-color2, rgba(0, 0, 0, 0.54));\n",
       "  --xr-font-color3: var(--jp-content-font-color3, rgba(0, 0, 0, 0.38));\n",
       "  --xr-border-color: var(--jp-border-color2, #e0e0e0);\n",
       "  --xr-disabled-color: var(--jp-layout-color3, #bdbdbd);\n",
       "  --xr-background-color: var(--jp-layout-color0, white);\n",
       "  --xr-background-color-row-even: var(--jp-layout-color1, white);\n",
       "  --xr-background-color-row-odd: var(--jp-layout-color2, #eeeeee);\n",
       "}\n",
       "\n",
       "html[theme=dark],\n",
       "body.vscode-dark {\n",
       "  --xr-font-color0: rgba(255, 255, 255, 1);\n",
       "  --xr-font-color2: rgba(255, 255, 255, 0.54);\n",
       "  --xr-font-color3: rgba(255, 255, 255, 0.38);\n",
       "  --xr-border-color: #1F1F1F;\n",
       "  --xr-disabled-color: #515151;\n",
       "  --xr-background-color: #111111;\n",
       "  --xr-background-color-row-even: #111111;\n",
       "  --xr-background-color-row-odd: #313131;\n",
       "}\n",
       "\n",
       ".xr-wrap {\n",
       "  display: block !important;\n",
       "  min-width: 300px;\n",
       "  max-width: 700px;\n",
       "}\n",
       "\n",
       ".xr-text-repr-fallback {\n",
       "  /* fallback to plain text repr when CSS is not injected (untrusted notebook) */\n",
       "  display: none;\n",
       "}\n",
       "\n",
       ".xr-header {\n",
       "  padding-top: 6px;\n",
       "  padding-bottom: 6px;\n",
       "  margin-bottom: 4px;\n",
       "  border-bottom: solid 1px var(--xr-border-color);\n",
       "}\n",
       "\n",
       ".xr-header > div,\n",
       ".xr-header > ul {\n",
       "  display: inline;\n",
       "  margin-top: 0;\n",
       "  margin-bottom: 0;\n",
       "}\n",
       "\n",
       ".xr-obj-type,\n",
       ".xr-array-name {\n",
       "  margin-left: 2px;\n",
       "  margin-right: 10px;\n",
       "}\n",
       "\n",
       ".xr-obj-type {\n",
       "  color: var(--xr-font-color2);\n",
       "}\n",
       "\n",
       ".xr-sections {\n",
       "  padding-left: 0 !important;\n",
       "  display: grid;\n",
       "  grid-template-columns: 150px auto auto 1fr 20px 20px;\n",
       "}\n",
       "\n",
       ".xr-section-item {\n",
       "  display: contents;\n",
       "}\n",
       "\n",
       ".xr-section-item input {\n",
       "  display: none;\n",
       "}\n",
       "\n",
       ".xr-section-item input + label {\n",
       "  color: var(--xr-disabled-color);\n",
       "}\n",
       "\n",
       ".xr-section-item input:enabled + label {\n",
       "  cursor: pointer;\n",
       "  color: var(--xr-font-color2);\n",
       "}\n",
       "\n",
       ".xr-section-item input:enabled + label:hover {\n",
       "  color: var(--xr-font-color0);\n",
       "}\n",
       "\n",
       ".xr-section-summary {\n",
       "  grid-column: 1;\n",
       "  color: var(--xr-font-color2);\n",
       "  font-weight: 500;\n",
       "}\n",
       "\n",
       ".xr-section-summary > span {\n",
       "  display: inline-block;\n",
       "  padding-left: 0.5em;\n",
       "}\n",
       "\n",
       ".xr-section-summary-in:disabled + label {\n",
       "  color: var(--xr-font-color2);\n",
       "}\n",
       "\n",
       ".xr-section-summary-in + label:before {\n",
       "  display: inline-block;\n",
       "  content: '►';\n",
       "  font-size: 11px;\n",
       "  width: 15px;\n",
       "  text-align: center;\n",
       "}\n",
       "\n",
       ".xr-section-summary-in:disabled + label:before {\n",
       "  color: var(--xr-disabled-color);\n",
       "}\n",
       "\n",
       ".xr-section-summary-in:checked + label:before {\n",
       "  content: '▼';\n",
       "}\n",
       "\n",
       ".xr-section-summary-in:checked + label > span {\n",
       "  display: none;\n",
       "}\n",
       "\n",
       ".xr-section-summary,\n",
       ".xr-section-inline-details {\n",
       "  padding-top: 4px;\n",
       "  padding-bottom: 4px;\n",
       "}\n",
       "\n",
       ".xr-section-inline-details {\n",
       "  grid-column: 2 / -1;\n",
       "}\n",
       "\n",
       ".xr-section-details {\n",
       "  display: none;\n",
       "  grid-column: 1 / -1;\n",
       "  margin-bottom: 5px;\n",
       "}\n",
       "\n",
       ".xr-section-summary-in:checked ~ .xr-section-details {\n",
       "  display: contents;\n",
       "}\n",
       "\n",
       ".xr-array-wrap {\n",
       "  grid-column: 1 / -1;\n",
       "  display: grid;\n",
       "  grid-template-columns: 20px auto;\n",
       "}\n",
       "\n",
       ".xr-array-wrap > label {\n",
       "  grid-column: 1;\n",
       "  vertical-align: top;\n",
       "}\n",
       "\n",
       ".xr-preview {\n",
       "  color: var(--xr-font-color3);\n",
       "}\n",
       "\n",
       ".xr-array-preview,\n",
       ".xr-array-data {\n",
       "  padding: 0 5px !important;\n",
       "  grid-column: 2;\n",
       "}\n",
       "\n",
       ".xr-array-data,\n",
       ".xr-array-in:checked ~ .xr-array-preview {\n",
       "  display: none;\n",
       "}\n",
       "\n",
       ".xr-array-in:checked ~ .xr-array-data,\n",
       ".xr-array-preview {\n",
       "  display: inline-block;\n",
       "}\n",
       "\n",
       ".xr-dim-list {\n",
       "  display: inline-block !important;\n",
       "  list-style: none;\n",
       "  padding: 0 !important;\n",
       "  margin: 0;\n",
       "}\n",
       "\n",
       ".xr-dim-list li {\n",
       "  display: inline-block;\n",
       "  padding: 0;\n",
       "  margin: 0;\n",
       "}\n",
       "\n",
       ".xr-dim-list:before {\n",
       "  content: '(';\n",
       "}\n",
       "\n",
       ".xr-dim-list:after {\n",
       "  content: ')';\n",
       "}\n",
       "\n",
       ".xr-dim-list li:not(:last-child):after {\n",
       "  content: ',';\n",
       "  padding-right: 5px;\n",
       "}\n",
       "\n",
       ".xr-has-index {\n",
       "  font-weight: bold;\n",
       "}\n",
       "\n",
       ".xr-var-list,\n",
       ".xr-var-item {\n",
       "  display: contents;\n",
       "}\n",
       "\n",
       ".xr-var-item > div,\n",
       ".xr-var-item label,\n",
       ".xr-var-item > .xr-var-name span {\n",
       "  background-color: var(--xr-background-color-row-even);\n",
       "  margin-bottom: 0;\n",
       "}\n",
       "\n",
       ".xr-var-item > .xr-var-name:hover span {\n",
       "  padding-right: 5px;\n",
       "}\n",
       "\n",
       ".xr-var-list > li:nth-child(odd) > div,\n",
       ".xr-var-list > li:nth-child(odd) > label,\n",
       ".xr-var-list > li:nth-child(odd) > .xr-var-name span {\n",
       "  background-color: var(--xr-background-color-row-odd);\n",
       "}\n",
       "\n",
       ".xr-var-name {\n",
       "  grid-column: 1;\n",
       "}\n",
       "\n",
       ".xr-var-dims {\n",
       "  grid-column: 2;\n",
       "}\n",
       "\n",
       ".xr-var-dtype {\n",
       "  grid-column: 3;\n",
       "  text-align: right;\n",
       "  color: var(--xr-font-color2);\n",
       "}\n",
       "\n",
       ".xr-var-preview {\n",
       "  grid-column: 4;\n",
       "}\n",
       "\n",
       ".xr-var-name,\n",
       ".xr-var-dims,\n",
       ".xr-var-dtype,\n",
       ".xr-preview,\n",
       ".xr-attrs dt {\n",
       "  white-space: nowrap;\n",
       "  overflow: hidden;\n",
       "  text-overflow: ellipsis;\n",
       "  padding-right: 10px;\n",
       "}\n",
       "\n",
       ".xr-var-name:hover,\n",
       ".xr-var-dims:hover,\n",
       ".xr-var-dtype:hover,\n",
       ".xr-attrs dt:hover {\n",
       "  overflow: visible;\n",
       "  width: auto;\n",
       "  z-index: 1;\n",
       "}\n",
       "\n",
       ".xr-var-attrs,\n",
       ".xr-var-data {\n",
       "  display: none;\n",
       "  background-color: var(--xr-background-color) !important;\n",
       "  padding-bottom: 5px !important;\n",
       "}\n",
       "\n",
       ".xr-var-attrs-in:checked ~ .xr-var-attrs,\n",
       ".xr-var-data-in:checked ~ .xr-var-data {\n",
       "  display: block;\n",
       "}\n",
       "\n",
       ".xr-var-data > table {\n",
       "  float: right;\n",
       "}\n",
       "\n",
       ".xr-var-name span,\n",
       ".xr-var-data,\n",
       ".xr-attrs {\n",
       "  padding-left: 25px !important;\n",
       "}\n",
       "\n",
       ".xr-attrs,\n",
       ".xr-var-attrs,\n",
       ".xr-var-data {\n",
       "  grid-column: 1 / -1;\n",
       "}\n",
       "\n",
       "dl.xr-attrs {\n",
       "  padding: 0;\n",
       "  margin: 0;\n",
       "  display: grid;\n",
       "  grid-template-columns: 125px auto;\n",
       "}\n",
       "\n",
       ".xr-attrs dt,\n",
       ".xr-attrs dd {\n",
       "  padding: 0;\n",
       "  margin: 0;\n",
       "  float: left;\n",
       "  padding-right: 10px;\n",
       "  width: auto;\n",
       "}\n",
       "\n",
       ".xr-attrs dt {\n",
       "  font-weight: normal;\n",
       "  grid-column: 1;\n",
       "}\n",
       "\n",
       ".xr-attrs dt:hover span {\n",
       "  display: inline-block;\n",
       "  background: var(--xr-background-color);\n",
       "  padding-right: 10px;\n",
       "}\n",
       "\n",
       ".xr-attrs dd {\n",
       "  grid-column: 2;\n",
       "  white-space: pre-wrap;\n",
       "  word-break: break-all;\n",
       "}\n",
       "\n",
       ".xr-icon-database,\n",
       ".xr-icon-file-text2 {\n",
       "  display: inline-block;\n",
       "  vertical-align: middle;\n",
       "  width: 1em;\n",
       "  height: 1.5em !important;\n",
       "  stroke-width: 0;\n",
       "  stroke: currentColor;\n",
       "  fill: currentColor;\n",
       "}\n",
       "</style><pre class='xr-text-repr-fallback'>&lt;xarray.Dataset&gt;\n",
       "Dimensions:    (time: 49897, station: 1)\n",
       "Coordinates:\n",
       "  * time       (time) datetime64[ns] 2021-04-29T10:47:58.000488281 ... 2022-0...\n",
       "  * station    (station) |S16 b&#x27;sw-240&#x27;\n",
       "Data variables:\n",
       "    orog       (station) float32 394.0\n",
       "    latitude   (station) float32 78.8\n",
       "    longitude  (station) float32 12.96\n",
       "    slope      (station) float32 nan\n",
       "    azimuth    (station) float32 nan\n",
       "    dw         (time, station) float32 nan nan nan nan ... 192.7 277.9 325.2\n",
       "    snd        (time, station) float32 nan nan nan nan nan ... nan nan nan nan\n",
       "    ps         (time, station) float32 9.713e+04 9.712e+04 ... 9.732e+04\n",
       "    hur        (time, station) float32 0.5246 0.572 0.5901 ... 0.7208 0.7273\n",
       "    ta         (time, station) float32 265.1 263.7 263.3 ... 260.9 259.6 261.5\n",
       "    ts         (time, station) float32 237.7 237.6 247.5 ... 256.1 256.2 256.8\n",
       "    ws         (time, station) float32 nan nan nan nan ... 1.417 4.933 3.925\n",
       "Attributes: (12/38)\n",
       "    date_created:              2022-06-21\n",
       "    creator_name:              Simon Filhol, Pierre Marie Lefeuvre, Jean-Char...\n",
       "    creator_email:             simon.filhol@geo.uio.no, pierre.lefeuvre@npola...\n",
       "    creator_institution:       University of Oslo, Norwegian Polar Institute,...\n",
       "    creator_url:               www.mn.uio.no/geo/english/people/aca/geohyd/si...\n",
       "    creator_type:              pers, pers, pers\n",
       "    ...                        ...\n",
       "    geospatial_lat_max:        78.803\n",
       "    geospatial_lon_min:        12.9573\n",
       "    geospatial_lon_max:        12.9573\n",
       "    time_coverage_start:       2021-04-29T10:47:58+00:00\n",
       "    time_coverage_end:         2022-04-30T21:47:58+00:00\n",
       "    time_coverage_resolution:  P635S</pre><div class='xr-wrap' style='display:none'><div class='xr-header'><div class='xr-obj-type'>xarray.Dataset</div></div><ul class='xr-sections'><li class='xr-section-item'><input id='section-334c005a-9999-47b3-a874-f2734dab14f1' class='xr-section-summary-in' type='checkbox' disabled ><label for='section-334c005a-9999-47b3-a874-f2734dab14f1' class='xr-section-summary'  title='Expand/collapse section'>Dimensions:</label><div class='xr-section-inline-details'><ul class='xr-dim-list'><li><span class='xr-has-index'>time</span>: 49897</li><li><span class='xr-has-index'>station</span>: 1</li></ul></div><div class='xr-section-details'></div></li><li class='xr-section-item'><input id='section-4142b57f-a71a-4665-93ed-52f52fc9e0f4' class='xr-section-summary-in' type='checkbox'  checked><label for='section-4142b57f-a71a-4665-93ed-52f52fc9e0f4' class='xr-section-summary' >Coordinates: <span>(2)</span></label><div class='xr-section-inline-details'></div><div class='xr-section-details'><ul class='xr-var-list'><li class='xr-var-item'><div class='xr-var-name'><span class='xr-has-index'>time</span></div><div class='xr-var-dims'>(time)</div><div class='xr-var-dtype'>datetime64[ns]</div><div class='xr-var-preview xr-preview'>2021-04-29T10:47:58.000488281 .....</div><input id='attrs-b793be60-e494-4ef9-83e5-6b5625fb89d6' class='xr-var-attrs-in' type='checkbox' ><label for='attrs-b793be60-e494-4ef9-83e5-6b5625fb89d6' title='Show/Hide attributes'><svg class='icon xr-icon-file-text2'><use xlink:href='#icon-file-text2'></use></svg></label><input id='data-2c170d2d-82b1-4e27-aabc-f77b76dddb3d' class='xr-var-data-in' type='checkbox'><label for='data-2c170d2d-82b1-4e27-aabc-f77b76dddb3d' title='Show/Hide data repr'><svg class='icon xr-icon-database'><use xlink:href='#icon-database'></use></svg></label><div class='xr-var-attrs'><dl class='xr-attrs'><dt><span>standard_name :</span></dt><dd>time</dd><dt><span>axis :</span></dt><dd>T</dd></dl></div><div class='xr-var-data'><pre>array([&#x27;2021-04-29T10:47:58.000488281&#x27;, &#x27;2021-04-29T10:57:58.000488281&#x27;,\n",
       "       &#x27;2021-04-29T11:07:58.000488281&#x27;, ..., &#x27;2022-04-30T21:27:56.250000000&#x27;,\n",
       "       &#x27;2022-04-30T21:37:56.250000000&#x27;, &#x27;2022-04-30T21:47:56.250000000&#x27;],\n",
       "      dtype=&#x27;datetime64[ns]&#x27;)</pre></div></li><li class='xr-var-item'><div class='xr-var-name'><span class='xr-has-index'>station</span></div><div class='xr-var-dims'>(station)</div><div class='xr-var-dtype'>|S16</div><div class='xr-var-preview xr-preview'>b&#x27;sw-240&#x27;</div><input id='attrs-d58d865c-c229-440d-9b52-1fa6af767fa3' class='xr-var-attrs-in' type='checkbox' ><label for='attrs-d58d865c-c229-440d-9b52-1fa6af767fa3' title='Show/Hide attributes'><svg class='icon xr-icon-file-text2'><use xlink:href='#icon-file-text2'></use></svg></label><input id='data-52d93d12-ba15-42aa-adbe-5279eb21355f' class='xr-var-data-in' type='checkbox'><label for='data-52d93d12-ba15-42aa-adbe-5279eb21355f' title='Show/Hide data repr'><svg class='icon xr-icon-database'><use xlink:href='#icon-database'></use></svg></label><div class='xr-var-attrs'><dl class='xr-attrs'><dt><span>standard_name :</span></dt><dd>timeseries_id</dd><dt><span>cf_role :</span></dt><dd>timeseries_id</dd></dl></div><div class='xr-var-data'><pre>array([b&#x27;sw-240&#x27;], dtype=&#x27;|S16&#x27;)</pre></div></li></ul></div></li><li class='xr-section-item'><input id='section-13a9eb2f-424e-4b90-a45c-e5d0f98308ad' class='xr-section-summary-in' type='checkbox'  checked><label for='section-13a9eb2f-424e-4b90-a45c-e5d0f98308ad' class='xr-section-summary' >Data variables: <span>(12)</span></label><div class='xr-section-inline-details'></div><div class='xr-section-details'><ul class='xr-var-list'><li class='xr-var-item'><div class='xr-var-name'><span>orog</span></div><div class='xr-var-dims'>(station)</div><div class='xr-var-dtype'>float32</div><div class='xr-var-preview xr-preview'>...</div><input id='attrs-efee6330-3764-4dee-863e-69f436f0a225' class='xr-var-attrs-in' type='checkbox' ><label for='attrs-efee6330-3764-4dee-863e-69f436f0a225' title='Show/Hide attributes'><svg class='icon xr-icon-file-text2'><use xlink:href='#icon-file-text2'></use></svg></label><input id='data-671cfd43-d57a-42fd-851e-660e45428898' class='xr-var-data-in' type='checkbox'><label for='data-671cfd43-d57a-42fd-851e-660e45428898' title='Show/Hide data repr'><svg class='icon xr-icon-database'><use xlink:href='#icon-database'></use></svg></label><div class='xr-var-attrs'><dl class='xr-attrs'><dt><span>standard_name :</span></dt><dd>surface_altitude</dd><dt><span>long_name :</span></dt><dd>height above mean sea level</dd><dt><span>units :</span></dt><dd>m</dd><dt><span>positive :</span></dt><dd>up</dd><dt><span>axis :</span></dt><dd>Z</dd></dl></div><div class='xr-var-data'><pre>array([394.], dtype=float32)</pre></div></li><li class='xr-var-item'><div class='xr-var-name'><span>latitude</span></div><div class='xr-var-dims'>(station)</div><div class='xr-var-dtype'>float32</div><div class='xr-var-preview xr-preview'>...</div><input id='attrs-ee8d3fd1-8b24-4106-8517-5626fde39f66' class='xr-var-attrs-in' type='checkbox' ><label for='attrs-ee8d3fd1-8b24-4106-8517-5626fde39f66' title='Show/Hide attributes'><svg class='icon xr-icon-file-text2'><use xlink:href='#icon-file-text2'></use></svg></label><input id='data-06b193f0-b7f3-4339-9043-81e35418e992' class='xr-var-data-in' type='checkbox'><label for='data-06b193f0-b7f3-4339-9043-81e35418e992' title='Show/Hide data repr'><svg class='icon xr-icon-database'><use xlink:href='#icon-database'></use></svg></label><div class='xr-var-attrs'><dl class='xr-attrs'><dt><span>standard_name :</span></dt><dd>latitude</dd><dt><span>units :</span></dt><dd>degree_north</dd><dt><span>axis :</span></dt><dd>Y</dd></dl></div><div class='xr-var-data'><pre>array([78.802986], dtype=float32)</pre></div></li><li class='xr-var-item'><div class='xr-var-name'><span>longitude</span></div><div class='xr-var-dims'>(station)</div><div class='xr-var-dtype'>float32</div><div class='xr-var-preview xr-preview'>...</div><input id='attrs-95e22e80-18c2-4a7f-ba45-87613c431906' class='xr-var-attrs-in' type='checkbox' ><label for='attrs-95e22e80-18c2-4a7f-ba45-87613c431906' title='Show/Hide attributes'><svg class='icon xr-icon-file-text2'><use xlink:href='#icon-file-text2'></use></svg></label><input id='data-d80d0913-54ac-44b1-aa78-792d79862bc1' class='xr-var-data-in' type='checkbox'><label for='data-d80d0913-54ac-44b1-aa78-792d79862bc1' title='Show/Hide data repr'><svg class='icon xr-icon-database'><use xlink:href='#icon-database'></use></svg></label><div class='xr-var-attrs'><dl class='xr-attrs'><dt><span>standard_name :</span></dt><dd>longitude</dd><dt><span>units :</span></dt><dd>degree_east</dd><dt><span>axis :</span></dt><dd>X</dd></dl></div><div class='xr-var-data'><pre>array([12.957268], dtype=float32)</pre></div></li><li class='xr-var-item'><div class='xr-var-name'><span>slope</span></div><div class='xr-var-dims'>(station)</div><div class='xr-var-dtype'>float32</div><div class='xr-var-preview xr-preview'>...</div><input id='attrs-2889a550-67aa-4643-a267-f58b7535fab1' class='xr-var-attrs-in' type='checkbox' ><label for='attrs-2889a550-67aa-4643-a267-f58b7535fab1' title='Show/Hide attributes'><svg class='icon xr-icon-file-text2'><use xlink:href='#icon-file-text2'></use></svg></label><input id='data-de07b8f1-58c9-4618-9174-e0c3e83d71fb' class='xr-var-data-in' type='checkbox'><label for='data-de07b8f1-58c9-4618-9174-e0c3e83d71fb' title='Show/Hide data repr'><svg class='icon xr-icon-database'><use xlink:href='#icon-database'></use></svg></label><div class='xr-var-attrs'><dl class='xr-attrs'><dt><span>standard_name :</span></dt><dd>slope_angle</dd><dt><span>long_name :</span></dt><dd>slope angle</dd><dt><span>units :</span></dt><dd>degrees from horizontal</dd></dl></div><div class='xr-var-data'><pre>array([nan], dtype=float32)</pre></div></li><li class='xr-var-item'><div class='xr-var-name'><span>azimuth</span></div><div class='xr-var-dims'>(station)</div><div class='xr-var-dtype'>float32</div><div class='xr-var-preview xr-preview'>...</div><input id='attrs-0c042e6a-f66c-4904-b338-fe59403e0533' class='xr-var-attrs-in' type='checkbox' ><label for='attrs-0c042e6a-f66c-4904-b338-fe59403e0533' title='Show/Hide attributes'><svg class='icon xr-icon-file-text2'><use xlink:href='#icon-file-text2'></use></svg></label><input id='data-6c1103e6-b7c4-4524-8de8-37cf854e540d' class='xr-var-data-in' type='checkbox'><label for='data-6c1103e6-b7c4-4524-8de8-37cf854e540d' title='Show/Hide data repr'><svg class='icon xr-icon-database'><use xlink:href='#icon-database'></use></svg></label><div class='xr-var-attrs'><dl class='xr-attrs'><dt><span>standard_name :</span></dt><dd>slope_azimuth</dd><dt><span>long_name :</span></dt><dd>slope azimuth</dd><dt><span>units :</span></dt><dd>degrees from north</dd></dl></div><div class='xr-var-data'><pre>array([nan], dtype=float32)</pre></div></li><li class='xr-var-item'><div class='xr-var-name'><span>dw</span></div><div class='xr-var-dims'>(time, station)</div><div class='xr-var-dtype'>float32</div><div class='xr-var-preview xr-preview'>...</div><input id='attrs-481d8286-91f0-4e82-b1b4-948d699fdb3a' class='xr-var-attrs-in' type='checkbox' ><label for='attrs-481d8286-91f0-4e82-b1b4-948d699fdb3a' title='Show/Hide attributes'><svg class='icon xr-icon-file-text2'><use xlink:href='#icon-file-text2'></use></svg></label><input id='data-e929da74-5a40-4620-b544-81b6ebd3790b' class='xr-var-data-in' type='checkbox'><label for='data-e929da74-5a40-4620-b544-81b6ebd3790b' title='Show/Hide data repr'><svg class='icon xr-icon-database'><use xlink:href='#icon-database'></use></svg></label><div class='xr-var-attrs'><dl class='xr-attrs'><dt><span>standard_name :</span></dt><dd>wind_from_direction</dd><dt><span>units :</span></dt><dd>degree</dd></dl></div><div class='xr-var-data'><pre>array([[    nan],\n",
       "       [    nan],\n",
       "       [    nan],\n",
       "       ...,\n",
       "       [192.72 ],\n",
       "       [277.885],\n",
       "       [325.235]], dtype=float32)</pre></div></li><li class='xr-var-item'><div class='xr-var-name'><span>snd</span></div><div class='xr-var-dims'>(time, station)</div><div class='xr-var-dtype'>float32</div><div class='xr-var-preview xr-preview'>...</div><input id='attrs-84bdae04-7ba7-41a4-9535-b6142a4375e2' class='xr-var-attrs-in' type='checkbox' ><label for='attrs-84bdae04-7ba7-41a4-9535-b6142a4375e2' title='Show/Hide attributes'><svg class='icon xr-icon-file-text2'><use xlink:href='#icon-file-text2'></use></svg></label><input id='data-67373d09-0c4c-4afc-a888-5be766a22591' class='xr-var-data-in' type='checkbox'><label for='data-67373d09-0c4c-4afc-a888-5be766a22591' title='Show/Hide data repr'><svg class='icon xr-icon-database'><use xlink:href='#icon-database'></use></svg></label><div class='xr-var-attrs'><dl class='xr-attrs'><dt><span>standard_name :</span></dt><dd>surface_snow_thickness</dd><dt><span>units :</span></dt><dd>m</dd></dl></div><div class='xr-var-data'><pre>array([[nan],\n",
       "       [nan],\n",
       "       [nan],\n",
       "       ...,\n",
       "       [nan],\n",
       "       [nan],\n",
       "       [nan]], dtype=float32)</pre></div></li><li class='xr-var-item'><div class='xr-var-name'><span>ps</span></div><div class='xr-var-dims'>(time, station)</div><div class='xr-var-dtype'>float32</div><div class='xr-var-preview xr-preview'>...</div><input id='attrs-654de32c-81fe-46f4-b928-6d4a3b01cf4f' class='xr-var-attrs-in' type='checkbox' ><label for='attrs-654de32c-81fe-46f4-b928-6d4a3b01cf4f' title='Show/Hide attributes'><svg class='icon xr-icon-file-text2'><use xlink:href='#icon-file-text2'></use></svg></label><input id='data-437ca91b-31aa-40c9-99eb-a331a0416003' class='xr-var-data-in' type='checkbox'><label for='data-437ca91b-31aa-40c9-99eb-a331a0416003' title='Show/Hide data repr'><svg class='icon xr-icon-database'><use xlink:href='#icon-database'></use></svg></label><div class='xr-var-attrs'><dl class='xr-attrs'><dt><span>standard_name :</span></dt><dd>surface_air_pressure</dd><dt><span>long_name :</span></dt><dd>near surface air pressure</dd><dt><span>units :</span></dt><dd>Pa</dd></dl></div><div class='xr-var-data'><pre>array([[97130.55 ],\n",
       "       [97118.06 ],\n",
       "       [97130.734],\n",
       "       ...,\n",
       "       [97327.84 ],\n",
       "       [97346.664],\n",
       "       [97323.375]], dtype=float32)</pre></div></li><li class='xr-var-item'><div class='xr-var-name'><span>hur</span></div><div class='xr-var-dims'>(time, station)</div><div class='xr-var-dtype'>float32</div><div class='xr-var-preview xr-preview'>...</div><input id='attrs-dfe00b10-d61f-4fdd-acbb-fa9881df8429' class='xr-var-attrs-in' type='checkbox' ><label for='attrs-dfe00b10-d61f-4fdd-acbb-fa9881df8429' title='Show/Hide attributes'><svg class='icon xr-icon-file-text2'><use xlink:href='#icon-file-text2'></use></svg></label><input id='data-d5667ca7-77a7-4dab-8957-72cd9d4f8ba4' class='xr-var-data-in' type='checkbox'><label for='data-d5667ca7-77a7-4dab-8957-72cd9d4f8ba4' title='Show/Hide data repr'><svg class='icon xr-icon-database'><use xlink:href='#icon-database'></use></svg></label><div class='xr-var-attrs'><dl class='xr-attrs'><dt><span>standard_name :</span></dt><dd>relative_humidity</dd><dt><span>units :</span></dt><dd>1</dd></dl></div><div class='xr-var-data'><pre>array([[0.524615],\n",
       "       [0.571989],\n",
       "       [0.590089],\n",
       "       ...,\n",
       "       [0.666146],\n",
       "       [0.720783],\n",
       "       [0.727327]], dtype=float32)</pre></div></li><li class='xr-var-item'><div class='xr-var-name'><span>ta</span></div><div class='xr-var-dims'>(time, station)</div><div class='xr-var-dtype'>float32</div><div class='xr-var-preview xr-preview'>...</div><input id='attrs-e4afdafc-df5a-44d8-8604-b77784eb2f89' class='xr-var-attrs-in' type='checkbox' ><label for='attrs-e4afdafc-df5a-44d8-8604-b77784eb2f89' title='Show/Hide attributes'><svg class='icon xr-icon-file-text2'><use xlink:href='#icon-file-text2'></use></svg></label><input id='data-b22a0086-813a-4710-bda2-c28eb5c6061c' class='xr-var-data-in' type='checkbox'><label for='data-b22a0086-813a-4710-bda2-c28eb5c6061c' title='Show/Hide data repr'><svg class='icon xr-icon-database'><use xlink:href='#icon-database'></use></svg></label><div class='xr-var-attrs'><dl class='xr-attrs'><dt><span>standard_name :</span></dt><dd>air_temperature</dd><dt><span>long_name :</span></dt><dd>near surface air temperature</dd><dt><span>units :</span></dt><dd>K</dd></dl></div><div class='xr-var-data'><pre>array([[265.10855],\n",
       "       [263.69934],\n",
       "       [263.29602],\n",
       "       ...,\n",
       "       [260.90305],\n",
       "       [259.6482 ],\n",
       "       [261.54346]], dtype=float32)</pre></div></li><li class='xr-var-item'><div class='xr-var-name'><span>ts</span></div><div class='xr-var-dims'>(time, station)</div><div class='xr-var-dtype'>float32</div><div class='xr-var-preview xr-preview'>...</div><input id='attrs-66a785cc-f496-473e-a6a9-8f311e0f2970' class='xr-var-attrs-in' type='checkbox' ><label for='attrs-66a785cc-f496-473e-a6a9-8f311e0f2970' title='Show/Hide attributes'><svg class='icon xr-icon-file-text2'><use xlink:href='#icon-file-text2'></use></svg></label><input id='data-10457e2f-bd42-48c7-8cae-943e553ee37b' class='xr-var-data-in' type='checkbox'><label for='data-10457e2f-bd42-48c7-8cae-943e553ee37b' title='Show/Hide data repr'><svg class='icon xr-icon-database'><use xlink:href='#icon-database'></use></svg></label><div class='xr-var-attrs'><dl class='xr-attrs'><dt><span>standard_name :</span></dt><dd>surface_temperature</dd><dt><span>units :</span></dt><dd>K</dd></dl></div><div class='xr-var-data'><pre>array([[237.7288 ],\n",
       "       [237.5782 ],\n",
       "       [247.53821],\n",
       "       ...,\n",
       "       [256.1421 ],\n",
       "       [256.1882 ],\n",
       "       [256.816  ]], dtype=float32)</pre></div></li><li class='xr-var-item'><div class='xr-var-name'><span>ws</span></div><div class='xr-var-dims'>(time, station)</div><div class='xr-var-dtype'>float32</div><div class='xr-var-preview xr-preview'>...</div><input id='attrs-b0bdbb56-e90b-4c29-8698-6004440947b1' class='xr-var-attrs-in' type='checkbox' ><label for='attrs-b0bdbb56-e90b-4c29-8698-6004440947b1' title='Show/Hide attributes'><svg class='icon xr-icon-file-text2'><use xlink:href='#icon-file-text2'></use></svg></label><input id='data-2bd325e1-7817-422f-96f9-aa8a70bbbfca' class='xr-var-data-in' type='checkbox'><label for='data-2bd325e1-7817-422f-96f9-aa8a70bbbfca' title='Show/Hide data repr'><svg class='icon xr-icon-database'><use xlink:href='#icon-database'></use></svg></label><div class='xr-var-attrs'><dl class='xr-attrs'><dt><span>standard_name :</span></dt><dd>wind_speed</dd><dt><span>units :</span></dt><dd>m/s</dd></dl></div><div class='xr-var-data'><pre>array([[    nan],\n",
       "       [    nan],\n",
       "       [    nan],\n",
       "       ...,\n",
       "       [1.4174 ],\n",
       "       [4.93295],\n",
       "       [3.9248 ]], dtype=float32)</pre></div></li></ul></div></li><li class='xr-section-item'><input id='section-098eadc0-e742-4d7f-9eb6-46b416b60497' class='xr-section-summary-in' type='checkbox'  ><label for='section-098eadc0-e742-4d7f-9eb6-46b416b60497' class='xr-section-summary' >Attributes: <span>(38)</span></label><div class='xr-section-inline-details'></div><div class='xr-section-details'><dl class='xr-attrs'><dt><span>date_created :</span></dt><dd>2022-06-21</dd><dt><span>creator_name :</span></dt><dd>Simon Filhol, Pierre Marie Lefeuvre, Jean-Charles Gallet</dd><dt><span>creator_email :</span></dt><dd>simon.filhol@geo.uio.no, pierre.lefeuvre@npolar.no, jean.charles.gallet@npolar.no</dd><dt><span>creator_institution :</span></dt><dd>University of Oslo, Norwegian Polar Institute, Norwegian Polar Institute</dd><dt><span>creator_url :</span></dt><dd>www.mn.uio.no/geo/english/people/aca/geohyd/simonfi/index.html, www.npolar.no/en/people/pierre.marie.lefeuvre, www.npolar.no/en/people/jean.charles.gallet</dd><dt><span>creator_type :</span></dt><dd>pers, pers, pers</dd><dt><span>institution :</span></dt><dd>Norwegian Polar Institute</dd><dt><span>publisher_name :</span></dt><dd>Norwegian Polar Institute</dd><dt><span>publisher_email :</span></dt><dd>jean.charles.gallet@npolar.no</dd><dt><span>publisher_url :</span></dt><dd>www.npolar.no/en</dd><dt><span>publisher_type :</span></dt><dd>institute</dd><dt><span>source :</span></dt><dd>Automatic weather station</dd><dt><span>history :</span></dt><dd>2022-06-21T15:29:46Z, ronea@eduroam-193-157-207-94.wlan.uio.no, MeteoIO-3.0.0</dd><dt><span>keywords_vocabulary :</span></dt><dd>GCMDSK:GCMD Science Keywords:https://gcmd.earthdata.nasa.gov/kms/concepts/concept_scheme/sciencekeywords, GCMDLOC:GCMD Locations:https://gcmd.earthdata.nasa.gov/kms/concepts/concept_scheme/locations</dd><dt><span>keywords :</span></dt><dd>GCMDLOC:GEOGRAPHIC REGION&gt;ARCTIC:d40d9651-aa19-4b2c-9764-7371bb64b9a7, GCMDSK:EARTH SCIENCE&gt;CRYOSPHERE&gt;GLACIERS/ICE SHEETS&gt;GLACIERS:68eed887-8008-4352-b420-949457ab59ab, GCMDSK:EARTH SCIENCE&gt;CRYOSPHERE&gt;SNOW/ICE:aa35a52f-e3d9-41bd-abd2-ec7e1a8101d1, GCMDSK:EARTH SCIENCE&gt;CRYOSPHERE&gt;SNOW/ICE&gt;SNOW ENERGY BALANCE:a3520db9-7bed-4f55-a9f6-028d52af6091, GCMDSK:EARTH SCIENCE&gt;CRYOSPHERE&gt;SNOW/ICE&gt;SNOW DEPTH:47bc8942-6fdd-4173-bf38-209e933d843f, Time series analysis</dd><dt><span>title :</span></dt><dd>Meteorological data timeseries for stations sw-240</dd><dt><span>project :</span></dt><dd>Hive Wireless Sensor Network (Hive WSN), SIOS Svalbard Integrated Arctic Earth Observing System (SIOS InfraNOR)</dd><dt><span>id :</span></dt><dd>None</dd><dt><span>references :</span></dt><dd>https://hive-wireless-sensor-network.readthedocs.io/en/latest/source/hardware.html</dd><dt><span>processing_level :</span></dt><dd>filtered and not modelled</dd><dt><span>summary :</span></dt><dd>The Hive Wireless sensor network project designed and assembled automatic weather stations that are currently installed at Kongsvegen glacier in Svalbard and records near surface meteorological variables: air temperature, relative humidity, air pressure, snow height, wind, surface skin temperature... The HiveWSN kit consists of: 1) a brain box containing the power system, the microcontroller, the communication system and the connectivity to the sensors, 2) A set of sensors either commercially available or custom built at the Department of Geosciences at UiO as part of the UiO Hive project. The kit is autonomous and packaged as a beam that can be installed on simple mast. Currently, there are two versions of the WSN system: v1 from 2019, and v2 from 2021. Both are based on the board Wasmpote v15 which handle power, communication, and data brokerage. The firmware running all instances has been written as part of the project UiO Hive, and include a set of tools described on the HiveWSN project website: https://www.mn.uio.no/geo/english/research/projects/hive. Important note: the height of the sensor to the snow/ice surface is not corrected for variations in surface deposition or melt over time. The sensor box is fixed to a stake drilled into the snow/ice.</dd><dt><span>acknowledgement :</span></dt><dd>The Hive WSN kit development is supported by the eInfrastructure hub UiO Hive, and implemented to collect data on the archipelago of Svalbard in collaboration with the Norwegian Polar Institute. Additional support from SIOS.</dd><dt><span>license :</span></dt><dd>https://spdx.org/licenses/CC-BY-NC-4.0.html (CC-BY-NC-4.0)</dd><dt><span>product_version :</span></dt><dd>1.0</dd><dt><span>activity_type :</span></dt><dd>In Situ Ice-based station</dd><dt><span>Conventions :</span></dt><dd>CF-1.6,ACDD-1.3</dd><dt><span>standard_name_vocabulary :</span></dt><dd>CF-1.6</dd><dt><span>cdm_data_type :</span></dt><dd>Station</dd><dt><span>featureType :</span></dt><dd>timeSeries</dd><dt><span>geospatial_bounds_crs :</span></dt><dd>EPSG:4326</dd><dt><span>geospatial_bounds :</span></dt><dd>MultiPoint ((12.9572677269 78.8029854542))</dd><dt><span>geospatial_lat_min :</span></dt><dd>78.803</dd><dt><span>geospatial_lat_max :</span></dt><dd>78.803</dd><dt><span>geospatial_lon_min :</span></dt><dd>12.9573</dd><dt><span>geospatial_lon_max :</span></dt><dd>12.9573</dd><dt><span>time_coverage_start :</span></dt><dd>2021-04-29T10:47:58+00:00</dd><dt><span>time_coverage_end :</span></dt><dd>2022-04-30T21:47:58+00:00</dd><dt><span>time_coverage_resolution :</span></dt><dd>P635S</dd></dl></div></li></ul></div></div>"
      ],
      "text/plain": [
       "<xarray.Dataset>\n",
       "Dimensions:    (time: 49897, station: 1)\n",
       "Coordinates:\n",
       "  * time       (time) datetime64[ns] 2021-04-29T10:47:58.000488281 ... 2022-0...\n",
       "  * station    (station) |S16 b'sw-240'\n",
       "Data variables:\n",
       "    orog       (station) float32 ...\n",
       "    latitude   (station) float32 ...\n",
       "    longitude  (station) float32 ...\n",
       "    slope      (station) float32 ...\n",
       "    azimuth    (station) float32 ...\n",
       "    dw         (time, station) float32 ...\n",
       "    snd        (time, station) float32 ...\n",
       "    ps         (time, station) float32 ...\n",
       "    hur        (time, station) float32 ...\n",
       "    ta         (time, station) float32 ...\n",
       "    ts         (time, station) float32 ...\n",
       "    ws         (time, station) float32 ...\n",
       "Attributes: (12/38)\n",
       "    date_created:              2022-06-21\n",
       "    creator_name:              Simon Filhol, Pierre Marie Lefeuvre, Jean-Char...\n",
       "    creator_email:             simon.filhol@geo.uio.no, pierre.lefeuvre@npola...\n",
       "    creator_institution:       University of Oslo, Norwegian Polar Institute,...\n",
       "    creator_url:               www.mn.uio.no/geo/english/people/aca/geohyd/si...\n",
       "    creator_type:              pers, pers, pers\n",
       "    ...                        ...\n",
       "    geospatial_lat_max:        78.803\n",
       "    geospatial_lon_min:        12.9573\n",
       "    geospatial_lon_max:        12.9573\n",
       "    time_coverage_start:       2021-04-29T10:47:58+00:00\n",
       "    time_coverage_end:         2022-04-30T21:47:58+00:00\n",
       "    time_coverage_resolution:  P635S"
      ]
     },
     "execution_count": 6,
     "metadata": {},
     "output_type": "execute_result"
    }
   ],
   "source": [
    "sw200 = xr.open_dataset('data_qc/aws-sw-200-20210501-20220503.nc')\n",
    "sw205 = xr.open_dataset('data_qc/aws-sw-205-20210501-20220501.nc')\n",
    "sw210 = xr.open_dataset('data_qc/aws-sw-210-20210429-20220501.nc')\n",
    "sw215 = xr.open_dataset('data_qc/aws-sw-001-20210429-20220501.nc')\n",
    "sw220 = xr.open_dataset('data_qc/aws-sw-220-20210429-20220501.nc')\n",
    "sw225 = xr.open_dataset('data_qc/aws-sw-225-20210501-20220501.nc')\n",
    "sw230 = xr.open_dataset('data_qc/aws-sw-230-20210429-20220501.nc')\n",
    "sw235 = xr.open_dataset('data_qc/aws-sw-235-20210429-20220501.nc')\n",
    "sw240 = xr.open_dataset('data_qc/aws-sw-240-20210429-20220501.nc')\n",
    "sw250 = xr.open_dataset('data_qc/aws-sw-250-20210501-20220501.nc')\n",
    "sw240"
   ]
  },
  {
   "cell_type": "markdown",
   "id": "c8399795-6eeb-4157-8015-39bbad09be59",
   "metadata": {
    "jp-MarkdownHeadingCollapsed": true,
    "tags": []
   },
   "source": [
    "### Snow depth"
   ]
  },
  {
   "cell_type": "code",
   "execution_count": 72,
   "id": "45902091-84ec-4caf-a8ba-92c01cdddc86",
   "metadata": {},
   "outputs": [],
   "source": [
    "plt.figure()\n",
    "sw200.snd.plot(label=\"sw200\")\n",
    "sw205.snd.plot(label=\"sw205\")\n",
    "sw210.snd.plot(label=\"sw210\")\n",
    "sw215.snd.plot(label=\"sw215\")\n",
    "sw220.snd.plot(label=\"sw220\")\n",
    "sw225.snd.plot(label=\"sw225\")\n",
    "sw230.snd.plot(label=\"sw230\")\n",
    "#sw235.snd.plot(label=\"sw235\") # failed - no data\n",
    "sw240.snd.plot(label=\"sw240\")\n",
    "sw250.snd.plot(label=\"sw250\")\n",
    "plt.legend()\n",
    "plt.show()"
   ]
  },
  {
   "cell_type": "code",
   "execution_count": 50,
   "id": "d5a306da-e142-4bc5-8e62-d13ba0c7cbaf",
   "metadata": {},
   "outputs": [],
   "source": [
    "plt.figure()\n",
    "plt.scatter(sw200.time, sw200.snd,label=\"sw200\", alpha=.5, s=.1)\n",
    "plt.scatter(sw205.time, sw205.snd,label=\"sw205\", alpha=.5, s=.1)\n",
    "plt.scatter(sw210.time, sw210.snd,label=\"sw210\", alpha=.5, s=.1)\n",
    "plt.scatter(sw215.time, sw215.snd,label=\"sw215\", alpha=.5, s=.1)\n",
    "plt.scatter(sw220.time, sw220.snd,label=\"sw220\", alpha=.5, s=.1)\n",
    "plt.scatter(sw225.time, sw225.snd,label=\"sw225\", alpha=.5, s=.1)\n",
    "plt.scatter(sw230.time, sw230.snd,label=\"sw230\", alpha=.5, s=.1)\n",
    "#plt.scatter(sw235.time, sw235.snd,label=\"sw235\", alpha=.5, s=.1) # failed - no data\n",
    "plt.scatter(sw240.time, sw240.snd,label=\"sw240\", alpha=.5, s=.1)\n",
    "plt.scatter(sw250.time, sw250.snd,label=\"sw250\", alpha=.5, s=.1)\n",
    "plt.legend()\n",
    "plt.show()"
   ]
  },
  {
   "cell_type": "code",
   "execution_count": 53,
   "id": "57c5debc-68b0-4c73-9e47-de8cc3cf43b1",
   "metadata": {},
   "outputs": [],
   "source": [
    "plt.figure()\n",
    "sw200.snd.dropna(dim='time').plot(label=\"sw200\")\n",
    "sw205.snd.dropna(dim='time').plot(label=\"sw205\")\n",
    "sw210.snd.dropna(dim='time').plot(label=\"sw210\")\n",
    "sw215.snd.dropna(dim='time').plot(label=\"sw215\")\n",
    "sw220.snd.dropna(dim='time').plot(label=\"sw220\")\n",
    "sw225.snd.dropna(dim='time').plot(label=\"sw225\")\n",
    "sw230.snd.dropna(dim='time').plot(label=\"sw230\")\n",
    "#sw235.snd.dropna(dim='time').plot(label=\"sw235\")\n",
    "sw240.snd.dropna(dim='time').plot(label=\"sw240\")\n",
    "sw250.snd.dropna(dim='time').plot(label=\"sw250\")\n",
    "plt.show()"
   ]
  },
  {
   "cell_type": "markdown",
   "id": "c59b7364-679a-4d3e-b511-c2f01067431f",
   "metadata": {
    "jp-MarkdownHeadingCollapsed": true,
    "tags": []
   },
   "source": [
    "### Air temperature"
   ]
  },
  {
   "cell_type": "code",
   "execution_count": 73,
   "id": "c510a6ae-4ea7-48c7-9311-db605e7e553f",
   "metadata": {},
   "outputs": [],
   "source": [
    "plt.figure()\n",
    "plt.scatter(sw200.time, sw200.ta,label=\"sw200\", alpha=.5, s=.1)\n",
    "plt.scatter(sw205.time, sw205.ta,label=\"sw205\", alpha=.5, s=.1)\n",
    "plt.scatter(sw210.time, sw210.ta,label=\"sw210\", alpha=.5, s=.1)\n",
    "plt.scatter(sw215.time, sw215.ta,label=\"sw215\", alpha=.5, s=.1)\n",
    "plt.scatter(sw220.time, sw220.ta,label=\"sw220\", alpha=.5, s=.1)\n",
    "plt.scatter(sw225.time, sw225.ta,label=\"sw225\", alpha=.5, s=.1)\n",
    "plt.scatter(sw230.time, sw230.ta,label=\"sw230\", alpha=.5, s=.1)\n",
    "plt.scatter(sw235.time, sw235.ta,label=\"sw235\", alpha=.5, s=.1)\n",
    "plt.scatter(sw240.time, sw240.ta,label=\"sw240\", alpha=.5, s=.1)\n",
    "plt.scatter(sw250.time, sw250.ta,label=\"sw250\", alpha=.5, s=.1)\n",
    "plt.legend()\n",
    "plt.show()"
   ]
  },
  {
   "cell_type": "code",
   "execution_count": 56,
   "id": "4dec0f2f-b1fe-4714-8c51-4fda2d28f682",
   "metadata": {},
   "outputs": [],
   "source": [
    "plt.figure()\n",
    "sw200.ta.plot(label=\"sw200\")\n",
    "sw205.ta.plot(label=\"sw205\")\n",
    "sw210.ta.plot(label=\"sw210\")\n",
    "sw215.ta.plot(label=\"sw215\")\n",
    "sw220.ta.plot(label=\"sw220\")\n",
    "sw225.ta.plot(label=\"sw225\")\n",
    "sw230.ta.plot(label=\"sw230\")\n",
    "sw235.ta.plot(label=\"sw235\")\n",
    "sw240.ta.plot(label=\"sw240\")\n",
    "sw250.ta.plot(label=\"sw250\")\n",
    "plt.legend()\n",
    "plt.show()"
   ]
  },
  {
   "cell_type": "markdown",
   "id": "3e56a023-80d9-4b3b-b002-939c56361d41",
   "metadata": {
    "jp-MarkdownHeadingCollapsed": true,
    "tags": []
   },
   "source": [
    "### Surface temperature"
   ]
  },
  {
   "cell_type": "code",
   "execution_count": 74,
   "id": "5067ab83-95f7-42a2-89a5-24152e2fc503",
   "metadata": {},
   "outputs": [],
   "source": [
    "plt.figure()\n",
    "plt.scatter(sw200.time, sw200.ts,label=\"sw200\", alpha=.5, s=.1)\n",
    "plt.scatter(sw205.time, sw205.ts,label=\"sw205\", alpha=.5, s=.1)\n",
    "plt.scatter(sw210.time, sw210.ts,label=\"sw210\", alpha=.5, s=.1)\n",
    "plt.scatter(sw215.time, sw215.ts,label=\"sw215\", alpha=.5, s=.1)\n",
    "plt.scatter(sw220.time, sw220.ts,label=\"sw220\", alpha=.5, s=.1)\n",
    "plt.scatter(sw225.time, sw225.ts,label=\"sw225\", alpha=.5, s=.1)\n",
    "plt.scatter(sw230.time, sw230.ts,label=\"sw230\", alpha=.5, s=.1)\n",
    "plt.scatter(sw235.time, sw235.ts,label=\"sw235\", alpha=.5, s=.1)\n",
    "plt.scatter(sw240.time, sw240.ts,label=\"sw240\", alpha=.5, s=.1)\n",
    "plt.scatter(sw250.time, sw250.ts,label=\"sw250\", alpha=.5, s=.1)\n",
    "plt.legend()\n",
    "plt.show()"
   ]
  },
  {
   "cell_type": "code",
   "execution_count": 57,
   "id": "fda4bf45-d136-406f-9c2e-130e0e5cc309",
   "metadata": {},
   "outputs": [],
   "source": [
    "plt.figure()\n",
    "sw200.ts.plot(label=\"sw200\")\n",
    "sw205.ts.plot(label=\"sw205\")\n",
    "sw210.ts.plot(label=\"sw210\")\n",
    "sw215.ts.plot(label=\"sw215\")\n",
    "sw220.ts.plot(label=\"sw220\")\n",
    "sw225.ts.plot(label=\"sw225\")\n",
    "sw230.ts.plot(label=\"sw230\")\n",
    "sw235.ts.plot(label=\"sw235\")\n",
    "sw240.ts.plot(label=\"sw240\")\n",
    "sw250.ts.plot(label=\"sw250\")\n",
    "plt.legend()\n",
    "plt.show()"
   ]
  },
  {
   "cell_type": "markdown",
   "id": "1b1e0b77-63fc-4d2c-9371-20952513cc7b",
   "metadata": {
    "jp-MarkdownHeadingCollapsed": true,
    "tags": []
   },
   "source": [
    "### Relative humidity"
   ]
  },
  {
   "cell_type": "code",
   "execution_count": 75,
   "id": "3ac0a85a-c339-4ab3-a584-7711ee80e61a",
   "metadata": {},
   "outputs": [],
   "source": [
    "plt.figure()\n",
    "plt.scatter(sw200.time, sw200.hur,label=\"sw200\", alpha=.5, s=.1)\n",
    "plt.scatter(sw205.time, sw205.hur,label=\"sw205\", alpha=.5, s=.1)\n",
    "plt.scatter(sw210.time, sw210.hur,label=\"sw210\", alpha=.5, s=.1)\n",
    "plt.scatter(sw215.time, sw215.hur,label=\"sw215\", alpha=.5, s=.1)\n",
    "plt.scatter(sw220.time, sw220.hur,label=\"sw220\", alpha=.5, s=.1)\n",
    "plt.scatter(sw225.time, sw225.hur,label=\"sw225\", alpha=.5, s=.1)\n",
    "plt.scatter(sw230.time, sw230.hur,label=\"sw230\", alpha=.5, s=.1)\n",
    "plt.scatter(sw235.time, sw235.hur,label=\"sw235\", alpha=.5, s=.1)\n",
    "plt.scatter(sw240.time, sw240.hur,label=\"sw240\", alpha=.5, s=.1)\n",
    "plt.scatter(sw250.time, sw250.hur,label=\"sw250\", alpha=.5, s=.1)\n",
    "plt.legend()\n",
    "plt.show()"
   ]
  },
  {
   "cell_type": "code",
   "execution_count": 59,
   "id": "00156487-97a8-451f-a652-31c175cae255",
   "metadata": {},
   "outputs": [],
   "source": [
    "plt.figure()\n",
    "sw200.hur.plot(label=\"sw200\")\n",
    "sw205.hur.plot(label=\"sw205\")\n",
    "sw210.hur.plot(label=\"sw210\")\n",
    "sw215.hur.plot(label=\"sw215\")\n",
    "sw220.hur.plot(label=\"sw220\")\n",
    "sw225.hur.plot(label=\"sw225\")\n",
    "sw230.hur.plot(label=\"sw230\")\n",
    "sw235.hur.plot(label=\"sw235\")\n",
    "sw240.hur.plot(label=\"sw240\")\n",
    "sw250.hur.plot(label=\"sw250\")\n",
    "plt.legend()\n",
    "plt.show()"
   ]
  },
  {
   "cell_type": "markdown",
   "id": "bbdeece0-f170-465b-a9c5-b8ec84ca931c",
   "metadata": {
    "jp-MarkdownHeadingCollapsed": true,
    "tags": []
   },
   "source": [
    "### Air pressure"
   ]
  },
  {
   "cell_type": "code",
   "execution_count": 76,
   "id": "472c4085-4d2b-4fc7-afce-021c68113717",
   "metadata": {},
   "outputs": [],
   "source": [
    "plt.figure()\n",
    "sw200.ps.plot(label=\"sw200\")\n",
    "# sw205.ps.plot(label=\"sw205\") # no pressure data\n",
    "sw210.ps.plot(label=\"sw210\")\n",
    "sw215.ps.plot(label=\"sw215\")\n",
    "sw220.ps.plot(label=\"sw220\")\n",
    "sw225.ps.plot(label=\"sw225\")\n",
    "sw230.ps.plot(label=\"sw230\")\n",
    "# sw235.ps.plot(label=\"sw235\") # no pressure data\n",
    "sw240.ps.plot(label=\"sw240\")\n",
    "# sw250.ps.plot(label=\"sw250\") # no pressure data\n",
    "plt.legend()\n",
    "plt.show()"
   ]
  },
  {
   "cell_type": "markdown",
   "id": "de5f40c1-e74c-4292-8916-c649a0f503c4",
   "metadata": {
    "jp-MarkdownHeadingCollapsed": true,
    "tags": []
   },
   "source": [
    "### Wind speed and direction\n",
    "\n",
    "No wind sensor for the following wsn weather stations: sw200"
   ]
  },
  {
   "cell_type": "code",
   "execution_count": 8,
   "id": "10c5997e-3f5c-484e-88dd-9efac5f640db",
   "metadata": {},
   "outputs": [],
   "source": [
    "plt.figure()\n",
    "# plt.scatter(sw200.time, sw200.ws,label=\"sw200\", alpha=.5, s=.1)\n",
    "plt.scatter(sw205.time, sw205.ws,label=\"sw205\", alpha=.5, s=.1)\n",
    "plt.scatter(sw210.time, sw210.ws,label=\"sw210\", alpha=.5, s=.1)\n",
    "plt.scatter(sw215.time, sw215.ws,label=\"sw215\", alpha=.5, s=.1)\n",
    "plt.scatter(sw220.time, sw220.ws,label=\"sw220\", alpha=.5, s=.1)\n",
    "plt.scatter(sw225.time, sw225.ws,label=\"sw225\", alpha=.5, s=.1)\n",
    "plt.scatter(sw230.time, sw230.ws,label=\"sw230\", alpha=.5, s=.1)\n",
    "plt.scatter(sw235.time, sw235.ws,label=\"sw235\", alpha=.5, s=.1)\n",
    "plt.scatter(sw240.time, sw240.ws,label=\"sw240\", alpha=.5, s=.1)\n",
    "plt.scatter(sw250.time, sw250.ws,label=\"sw250\", alpha=.5, s=.1)\n",
    "plt.legend()\n",
    "plt.show()"
   ]
  },
  {
   "cell_type": "code",
   "execution_count": 78,
   "id": "6b143718-0f10-42a2-a681-dc8d617cb213",
   "metadata": {},
   "outputs": [],
   "source": [
    "plt.figure()\n",
    "# sw200.ws.plot(label=\"sw200\")\n",
    "sw205.ws.plot(label=\"sw205\")\n",
    "sw210.ws.plot(label=\"sw210\")\n",
    "sw215.ws.plot(label=\"sw215\")\n",
    "sw220.ws.plot(label=\"sw220\")\n",
    "sw225.ws.plot(label=\"sw225\")\n",
    "sw230.ws.plot(label=\"sw230\")\n",
    "sw235.ws.plot(label=\"sw235\")\n",
    "sw240.ws.plot(label=\"sw240\")\n",
    "sw250.ws.plot(label=\"sw250\")\n",
    "plt.legend()\n",
    "plt.show()"
   ]
  },
  {
   "cell_type": "code",
   "execution_count": 7,
   "id": "1add4728-937d-4ae3-83dd-4ed4b4c0d35d",
   "metadata": {},
   "outputs": [],
   "source": [
    "plt.figure()\n",
    "# sw200.dw.plot(label=\"sw200\")\n",
    "sw205.dw.plot(label=\"sw205\")\n",
    "sw210.dw.plot(label=\"sw210\")\n",
    "sw215.dw.plot(label=\"sw215\")\n",
    "sw220.dw.plot(label=\"sw220\")\n",
    "sw225.dw.plot(label=\"sw225\")\n",
    "sw230.dw.plot(label=\"sw230\")\n",
    "sw235.dw.plot(label=\"sw235\")\n",
    "sw240.dw.plot(label=\"sw240\")\n",
    "sw250.dw.plot(label=\"sw250\")\n",
    "plt.legend()\n",
    "plt.show()"
   ]
  },
  {
   "cell_type": "markdown",
   "id": "fc946fee-a382-423a-888c-391994685a49",
   "metadata": {
    "jp-MarkdownHeadingCollapsed": true,
    "tags": []
   },
   "source": [
    "---\n",
    "---\n",
    "\n",
    "## Etonbreen"
   ]
  },
  {
   "cell_type": "code",
   "execution_count": null,
   "id": "1983cca0-5364-4ed7-8456-5ef8ca21101b",
   "metadata": {},
   "outputs": [],
   "source": [
    "#eton = xr.open_dataset('data_qc/aws-eton-2-20040421-20210914.nc')\n",
    "plt.figure()\n",
    "eton.snd.plot()\n",
    "plt.figure()\n",
    "eton.ps.plot()\n",
    "plt.figure()\n",
    "eton.ps.plot()"
   ]
  }
 ],
 "metadata": {
  "kernelspec": {
   "display_name": "uioData",
   "language": "python",
   "name": "uiodata"
  },
  "language_info": {
   "codemirror_mode": {
    "name": "ipython",
    "version": 3
   },
   "file_extension": ".py",
   "mimetype": "text/x-python",
   "name": "python",
   "nbconvert_exporter": "python",
   "pygments_lexer": "ipython3",
   "version": "3.8.13"
  }
 },
 "nbformat": 4,
 "nbformat_minor": 5
}
