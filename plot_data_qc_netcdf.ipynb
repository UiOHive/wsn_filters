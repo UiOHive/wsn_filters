{
 "cells": [
  {
   "cell_type": "markdown",
   "id": "633da789-017e-49f1-a0eb-393381b94423",
   "metadata": {},
   "source": [
    "# Assessment of MeteoIO's filters"
   ]
  },
  {
   "cell_type": "markdown",
   "id": "c8127068-cc67-45b8-be63-6aca3a6b6f42",
   "metadata": {
    "tags": []
   },
   "source": [
    "## Load libraries"
   ]
  },
  {
   "cell_type": "code",
   "execution_count": 16,
   "id": "ecb4ea2f-d98b-4e95-8dbd-fb694ec32387",
   "metadata": {},
   "outputs": [
    {
     "name": "stdout",
     "output_type": "stream",
     "text": [
      "Using matplotlib backend: MacOSX\n"
     ]
    }
   ],
   "source": [
    "import xarray as xr\n",
    "import matplotlib.pyplot as plt\n",
    "%matplotlib"
   ]
  },
  {
   "cell_type": "markdown",
   "id": "395bde30-577f-469a-8967-5a53167d4238",
   "metadata": {
    "tags": []
   },
   "source": [
    "---\n",
    "---\n",
    "## Midtre Lovenbreen"
   ]
  },
  {
   "cell_type": "markdown",
   "id": "bb506c83-746b-4f4e-a10a-b4d49000b1f9",
   "metadata": {
    "tags": []
   },
   "source": [
    "### Load all stations"
   ]
  },
  {
   "cell_type": "code",
   "execution_count": 3,
   "id": "6178a821-a414-4ddf-944d-4ce6bfabed5b",
   "metadata": {},
   "outputs": [
    {
     "data": {
      "text/html": [
       "<div><svg style=\"position: absolute; width: 0; height: 0; overflow: hidden\">\n",
       "<defs>\n",
       "<symbol id=\"icon-database\" viewBox=\"0 0 32 32\">\n",
       "<path d=\"M16 0c-8.837 0-16 2.239-16 5v4c0 2.761 7.163 5 16 5s16-2.239 16-5v-4c0-2.761-7.163-5-16-5z\"></path>\n",
       "<path d=\"M16 17c-8.837 0-16-2.239-16-5v6c0 2.761 7.163 5 16 5s16-2.239 16-5v-6c0 2.761-7.163 5-16 5z\"></path>\n",
       "<path d=\"M16 26c-8.837 0-16-2.239-16-5v6c0 2.761 7.163 5 16 5s16-2.239 16-5v-6c0 2.761-7.163 5-16 5z\"></path>\n",
       "</symbol>\n",
       "<symbol id=\"icon-file-text2\" viewBox=\"0 0 32 32\">\n",
       "<path d=\"M28.681 7.159c-0.694-0.947-1.662-2.053-2.724-3.116s-2.169-2.030-3.116-2.724c-1.612-1.182-2.393-1.319-2.841-1.319h-15.5c-1.378 0-2.5 1.121-2.5 2.5v27c0 1.378 1.122 2.5 2.5 2.5h23c1.378 0 2.5-1.122 2.5-2.5v-19.5c0-0.448-0.137-1.23-1.319-2.841zM24.543 5.457c0.959 0.959 1.712 1.825 2.268 2.543h-4.811v-4.811c0.718 0.556 1.584 1.309 2.543 2.268zM28 29.5c0 0.271-0.229 0.5-0.5 0.5h-23c-0.271 0-0.5-0.229-0.5-0.5v-27c0-0.271 0.229-0.5 0.5-0.5 0 0 15.499-0 15.5 0v7c0 0.552 0.448 1 1 1h7v19.5z\"></path>\n",
       "<path d=\"M23 26h-14c-0.552 0-1-0.448-1-1s0.448-1 1-1h14c0.552 0 1 0.448 1 1s-0.448 1-1 1z\"></path>\n",
       "<path d=\"M23 22h-14c-0.552 0-1-0.448-1-1s0.448-1 1-1h14c0.552 0 1 0.448 1 1s-0.448 1-1 1z\"></path>\n",
       "<path d=\"M23 18h-14c-0.552 0-1-0.448-1-1s0.448-1 1-1h14c0.552 0 1 0.448 1 1s-0.448 1-1 1z\"></path>\n",
       "</symbol>\n",
       "</defs>\n",
       "</svg>\n",
       "<style>/* CSS stylesheet for displaying xarray objects in jupyterlab.\n",
       " *\n",
       " */\n",
       "\n",
       ":root {\n",
       "  --xr-font-color0: var(--jp-content-font-color0, rgba(0, 0, 0, 1));\n",
       "  --xr-font-color2: var(--jp-content-font-color2, rgba(0, 0, 0, 0.54));\n",
       "  --xr-font-color3: var(--jp-content-font-color3, rgba(0, 0, 0, 0.38));\n",
       "  --xr-border-color: var(--jp-border-color2, #e0e0e0);\n",
       "  --xr-disabled-color: var(--jp-layout-color3, #bdbdbd);\n",
       "  --xr-background-color: var(--jp-layout-color0, white);\n",
       "  --xr-background-color-row-even: var(--jp-layout-color1, white);\n",
       "  --xr-background-color-row-odd: var(--jp-layout-color2, #eeeeee);\n",
       "}\n",
       "\n",
       "html[theme=dark],\n",
       "body.vscode-dark {\n",
       "  --xr-font-color0: rgba(255, 255, 255, 1);\n",
       "  --xr-font-color2: rgba(255, 255, 255, 0.54);\n",
       "  --xr-font-color3: rgba(255, 255, 255, 0.38);\n",
       "  --xr-border-color: #1F1F1F;\n",
       "  --xr-disabled-color: #515151;\n",
       "  --xr-background-color: #111111;\n",
       "  --xr-background-color-row-even: #111111;\n",
       "  --xr-background-color-row-odd: #313131;\n",
       "}\n",
       "\n",
       ".xr-wrap {\n",
       "  display: block !important;\n",
       "  min-width: 300px;\n",
       "  max-width: 700px;\n",
       "}\n",
       "\n",
       ".xr-text-repr-fallback {\n",
       "  /* fallback to plain text repr when CSS is not injected (untrusted notebook) */\n",
       "  display: none;\n",
       "}\n",
       "\n",
       ".xr-header {\n",
       "  padding-top: 6px;\n",
       "  padding-bottom: 6px;\n",
       "  margin-bottom: 4px;\n",
       "  border-bottom: solid 1px var(--xr-border-color);\n",
       "}\n",
       "\n",
       ".xr-header > div,\n",
       ".xr-header > ul {\n",
       "  display: inline;\n",
       "  margin-top: 0;\n",
       "  margin-bottom: 0;\n",
       "}\n",
       "\n",
       ".xr-obj-type,\n",
       ".xr-array-name {\n",
       "  margin-left: 2px;\n",
       "  margin-right: 10px;\n",
       "}\n",
       "\n",
       ".xr-obj-type {\n",
       "  color: var(--xr-font-color2);\n",
       "}\n",
       "\n",
       ".xr-sections {\n",
       "  padding-left: 0 !important;\n",
       "  display: grid;\n",
       "  grid-template-columns: 150px auto auto 1fr 20px 20px;\n",
       "}\n",
       "\n",
       ".xr-section-item {\n",
       "  display: contents;\n",
       "}\n",
       "\n",
       ".xr-section-item input {\n",
       "  display: none;\n",
       "}\n",
       "\n",
       ".xr-section-item input + label {\n",
       "  color: var(--xr-disabled-color);\n",
       "}\n",
       "\n",
       ".xr-section-item input:enabled + label {\n",
       "  cursor: pointer;\n",
       "  color: var(--xr-font-color2);\n",
       "}\n",
       "\n",
       ".xr-section-item input:enabled + label:hover {\n",
       "  color: var(--xr-font-color0);\n",
       "}\n",
       "\n",
       ".xr-section-summary {\n",
       "  grid-column: 1;\n",
       "  color: var(--xr-font-color2);\n",
       "  font-weight: 500;\n",
       "}\n",
       "\n",
       ".xr-section-summary > span {\n",
       "  display: inline-block;\n",
       "  padding-left: 0.5em;\n",
       "}\n",
       "\n",
       ".xr-section-summary-in:disabled + label {\n",
       "  color: var(--xr-font-color2);\n",
       "}\n",
       "\n",
       ".xr-section-summary-in + label:before {\n",
       "  display: inline-block;\n",
       "  content: '►';\n",
       "  font-size: 11px;\n",
       "  width: 15px;\n",
       "  text-align: center;\n",
       "}\n",
       "\n",
       ".xr-section-summary-in:disabled + label:before {\n",
       "  color: var(--xr-disabled-color);\n",
       "}\n",
       "\n",
       ".xr-section-summary-in:checked + label:before {\n",
       "  content: '▼';\n",
       "}\n",
       "\n",
       ".xr-section-summary-in:checked + label > span {\n",
       "  display: none;\n",
       "}\n",
       "\n",
       ".xr-section-summary,\n",
       ".xr-section-inline-details {\n",
       "  padding-top: 4px;\n",
       "  padding-bottom: 4px;\n",
       "}\n",
       "\n",
       ".xr-section-inline-details {\n",
       "  grid-column: 2 / -1;\n",
       "}\n",
       "\n",
       ".xr-section-details {\n",
       "  display: none;\n",
       "  grid-column: 1 / -1;\n",
       "  margin-bottom: 5px;\n",
       "}\n",
       "\n",
       ".xr-section-summary-in:checked ~ .xr-section-details {\n",
       "  display: contents;\n",
       "}\n",
       "\n",
       ".xr-array-wrap {\n",
       "  grid-column: 1 / -1;\n",
       "  display: grid;\n",
       "  grid-template-columns: 20px auto;\n",
       "}\n",
       "\n",
       ".xr-array-wrap > label {\n",
       "  grid-column: 1;\n",
       "  vertical-align: top;\n",
       "}\n",
       "\n",
       ".xr-preview {\n",
       "  color: var(--xr-font-color3);\n",
       "}\n",
       "\n",
       ".xr-array-preview,\n",
       ".xr-array-data {\n",
       "  padding: 0 5px !important;\n",
       "  grid-column: 2;\n",
       "}\n",
       "\n",
       ".xr-array-data,\n",
       ".xr-array-in:checked ~ .xr-array-preview {\n",
       "  display: none;\n",
       "}\n",
       "\n",
       ".xr-array-in:checked ~ .xr-array-data,\n",
       ".xr-array-preview {\n",
       "  display: inline-block;\n",
       "}\n",
       "\n",
       ".xr-dim-list {\n",
       "  display: inline-block !important;\n",
       "  list-style: none;\n",
       "  padding: 0 !important;\n",
       "  margin: 0;\n",
       "}\n",
       "\n",
       ".xr-dim-list li {\n",
       "  display: inline-block;\n",
       "  padding: 0;\n",
       "  margin: 0;\n",
       "}\n",
       "\n",
       ".xr-dim-list:before {\n",
       "  content: '(';\n",
       "}\n",
       "\n",
       ".xr-dim-list:after {\n",
       "  content: ')';\n",
       "}\n",
       "\n",
       ".xr-dim-list li:not(:last-child):after {\n",
       "  content: ',';\n",
       "  padding-right: 5px;\n",
       "}\n",
       "\n",
       ".xr-has-index {\n",
       "  font-weight: bold;\n",
       "}\n",
       "\n",
       ".xr-var-list,\n",
       ".xr-var-item {\n",
       "  display: contents;\n",
       "}\n",
       "\n",
       ".xr-var-item > div,\n",
       ".xr-var-item label,\n",
       ".xr-var-item > .xr-var-name span {\n",
       "  background-color: var(--xr-background-color-row-even);\n",
       "  margin-bottom: 0;\n",
       "}\n",
       "\n",
       ".xr-var-item > .xr-var-name:hover span {\n",
       "  padding-right: 5px;\n",
       "}\n",
       "\n",
       ".xr-var-list > li:nth-child(odd) > div,\n",
       ".xr-var-list > li:nth-child(odd) > label,\n",
       ".xr-var-list > li:nth-child(odd) > .xr-var-name span {\n",
       "  background-color: var(--xr-background-color-row-odd);\n",
       "}\n",
       "\n",
       ".xr-var-name {\n",
       "  grid-column: 1;\n",
       "}\n",
       "\n",
       ".xr-var-dims {\n",
       "  grid-column: 2;\n",
       "}\n",
       "\n",
       ".xr-var-dtype {\n",
       "  grid-column: 3;\n",
       "  text-align: right;\n",
       "  color: var(--xr-font-color2);\n",
       "}\n",
       "\n",
       ".xr-var-preview {\n",
       "  grid-column: 4;\n",
       "}\n",
       "\n",
       ".xr-var-name,\n",
       ".xr-var-dims,\n",
       ".xr-var-dtype,\n",
       ".xr-preview,\n",
       ".xr-attrs dt {\n",
       "  white-space: nowrap;\n",
       "  overflow: hidden;\n",
       "  text-overflow: ellipsis;\n",
       "  padding-right: 10px;\n",
       "}\n",
       "\n",
       ".xr-var-name:hover,\n",
       ".xr-var-dims:hover,\n",
       ".xr-var-dtype:hover,\n",
       ".xr-attrs dt:hover {\n",
       "  overflow: visible;\n",
       "  width: auto;\n",
       "  z-index: 1;\n",
       "}\n",
       "\n",
       ".xr-var-attrs,\n",
       ".xr-var-data {\n",
       "  display: none;\n",
       "  background-color: var(--xr-background-color) !important;\n",
       "  padding-bottom: 5px !important;\n",
       "}\n",
       "\n",
       ".xr-var-attrs-in:checked ~ .xr-var-attrs,\n",
       ".xr-var-data-in:checked ~ .xr-var-data {\n",
       "  display: block;\n",
       "}\n",
       "\n",
       ".xr-var-data > table {\n",
       "  float: right;\n",
       "}\n",
       "\n",
       ".xr-var-name span,\n",
       ".xr-var-data,\n",
       ".xr-attrs {\n",
       "  padding-left: 25px !important;\n",
       "}\n",
       "\n",
       ".xr-attrs,\n",
       ".xr-var-attrs,\n",
       ".xr-var-data {\n",
       "  grid-column: 1 / -1;\n",
       "}\n",
       "\n",
       "dl.xr-attrs {\n",
       "  padding: 0;\n",
       "  margin: 0;\n",
       "  display: grid;\n",
       "  grid-template-columns: 125px auto;\n",
       "}\n",
       "\n",
       ".xr-attrs dt,\n",
       ".xr-attrs dd {\n",
       "  padding: 0;\n",
       "  margin: 0;\n",
       "  float: left;\n",
       "  padding-right: 10px;\n",
       "  width: auto;\n",
       "}\n",
       "\n",
       ".xr-attrs dt {\n",
       "  font-weight: normal;\n",
       "  grid-column: 1;\n",
       "}\n",
       "\n",
       ".xr-attrs dt:hover span {\n",
       "  display: inline-block;\n",
       "  background: var(--xr-background-color);\n",
       "  padding-right: 10px;\n",
       "}\n",
       "\n",
       ".xr-attrs dd {\n",
       "  grid-column: 2;\n",
       "  white-space: pre-wrap;\n",
       "  word-break: break-all;\n",
       "}\n",
       "\n",
       ".xr-icon-database,\n",
       ".xr-icon-file-text2 {\n",
       "  display: inline-block;\n",
       "  vertical-align: middle;\n",
       "  width: 1em;\n",
       "  height: 1.5em !important;\n",
       "  stroke-width: 0;\n",
       "  stroke: currentColor;\n",
       "  fill: currentColor;\n",
       "}\n",
       "</style><pre class='xr-text-repr-fallback'>&lt;xarray.Dataset&gt;\n",
       "Dimensions:    (time: 16647, station: 1)\n",
       "Coordinates:\n",
       "  * time       (time) datetime64[ns] 2021-04-26T16:10:00 ... 2021-08-20T16:00:00\n",
       "  * station    (station) |S16 b&#x27;sw-140&#x27;\n",
       "Data variables:\n",
       "    orog       (station) float32 422.0\n",
       "    latitude   (station) float32 78.87\n",
       "    longitude  (station) float32 11.98\n",
       "    slope      (station) float32 nan\n",
       "    azimuth    (station) float32 nan\n",
       "    dw         (time, station) float32 208.7 224.5 240.2 ... 183.0 168.0 171.0\n",
       "    snd        (time, station) float32 1.754 1.754 1.755 ... 0.278 0.281 0.28\n",
       "    ps         (time, station) float32 9.734e+04 9.734e+04 ... 9.666e+04\n",
       "    hur        (time, station) float32 0.8322 0.8373 0.8425 ... 0.8917 0.8798\n",
       "    ta         (time, station) float32 264.0 263.8 263.6 ... 274.8 274.6 274.8\n",
       "    ts         (time, station) float32 263.2 262.9 262.7 ... 272.9 272.7 272.9\n",
       "    ws         (time, station) float32 3.073 4.158 5.243 ... 1.269 1.48 1.24\n",
       "Attributes: (12/40)\n",
       "    date_created:              2022-06-24\n",
       "    creator_name:              Simon Filhol, Pierre Marie Lefeuvre, Jean-Char...\n",
       "    creator_email:             simon.filhol@geo.uio.no, pierre.lefeuvre@npola...\n",
       "    creator_institution:       University of Oslo, Norwegian Polar Institute,...\n",
       "    creator_url:               www.mn.uio.no/geo/english/people/aca/geohyd/si...\n",
       "    creator_type:              person, person, person\n",
       "    ...                        ...\n",
       "    geospatial_lat_max:        78.8709\n",
       "    geospatial_lon_min:        11.984\n",
       "    geospatial_lon_max:        11.984\n",
       "    time_coverage_start:       2021-04-26T16:10:00+00:00\n",
       "    time_coverage_end:         2021-08-20T16:00:00+00:00\n",
       "    time_coverage_resolution:  P602S</pre><div class='xr-wrap' style='display:none'><div class='xr-header'><div class='xr-obj-type'>xarray.Dataset</div></div><ul class='xr-sections'><li class='xr-section-item'><input id='section-40de7285-cc4e-489b-9a62-a4549bc4c6b7' class='xr-section-summary-in' type='checkbox' disabled ><label for='section-40de7285-cc4e-489b-9a62-a4549bc4c6b7' class='xr-section-summary'  title='Expand/collapse section'>Dimensions:</label><div class='xr-section-inline-details'><ul class='xr-dim-list'><li><span class='xr-has-index'>time</span>: 16647</li><li><span class='xr-has-index'>station</span>: 1</li></ul></div><div class='xr-section-details'></div></li><li class='xr-section-item'><input id='section-c91c02ba-1fbd-4bd3-813a-063ed662133a' class='xr-section-summary-in' type='checkbox'  checked><label for='section-c91c02ba-1fbd-4bd3-813a-063ed662133a' class='xr-section-summary' >Coordinates: <span>(2)</span></label><div class='xr-section-inline-details'></div><div class='xr-section-details'><ul class='xr-var-list'><li class='xr-var-item'><div class='xr-var-name'><span class='xr-has-index'>time</span></div><div class='xr-var-dims'>(time)</div><div class='xr-var-dtype'>datetime64[ns]</div><div class='xr-var-preview xr-preview'>2021-04-26T16:10:00 ... 2021-08-...</div><input id='attrs-578b4dcb-45b2-4de0-8268-bc0ab0a63b2f' class='xr-var-attrs-in' type='checkbox' ><label for='attrs-578b4dcb-45b2-4de0-8268-bc0ab0a63b2f' title='Show/Hide attributes'><svg class='icon xr-icon-file-text2'><use xlink:href='#icon-file-text2'></use></svg></label><input id='data-eb512334-1cb4-41ae-9eeb-ef54ac46a5b2' class='xr-var-data-in' type='checkbox'><label for='data-eb512334-1cb4-41ae-9eeb-ef54ac46a5b2' title='Show/Hide data repr'><svg class='icon xr-icon-database'><use xlink:href='#icon-database'></use></svg></label><div class='xr-var-attrs'><dl class='xr-attrs'><dt><span>standard_name :</span></dt><dd>time</dd><dt><span>axis :</span></dt><dd>T</dd></dl></div><div class='xr-var-data'><pre>array([&#x27;2021-04-26T16:10:00.000000000&#x27;, &#x27;2021-04-26T16:20:00.000000000&#x27;,\n",
       "       &#x27;2021-04-26T16:30:00.000000000&#x27;, ..., &#x27;2021-08-20T15:40:00.000000000&#x27;,\n",
       "       &#x27;2021-08-20T15:50:00.000000000&#x27;, &#x27;2021-08-20T16:00:00.000000000&#x27;],\n",
       "      dtype=&#x27;datetime64[ns]&#x27;)</pre></div></li><li class='xr-var-item'><div class='xr-var-name'><span class='xr-has-index'>station</span></div><div class='xr-var-dims'>(station)</div><div class='xr-var-dtype'>|S16</div><div class='xr-var-preview xr-preview'>b&#x27;sw-140&#x27;</div><input id='attrs-1fed1cc2-ac69-44fe-a587-cd6b0991e531' class='xr-var-attrs-in' type='checkbox' ><label for='attrs-1fed1cc2-ac69-44fe-a587-cd6b0991e531' title='Show/Hide attributes'><svg class='icon xr-icon-file-text2'><use xlink:href='#icon-file-text2'></use></svg></label><input id='data-bf58edce-873f-4d96-a73a-1ca77880c7e9' class='xr-var-data-in' type='checkbox'><label for='data-bf58edce-873f-4d96-a73a-1ca77880c7e9' title='Show/Hide data repr'><svg class='icon xr-icon-database'><use xlink:href='#icon-database'></use></svg></label><div class='xr-var-attrs'><dl class='xr-attrs'><dt><span>standard_name :</span></dt><dd>timeseries_id</dd><dt><span>cf_role :</span></dt><dd>timeseries_id</dd></dl></div><div class='xr-var-data'><pre>array([b&#x27;sw-140&#x27;], dtype=&#x27;|S16&#x27;)</pre></div></li></ul></div></li><li class='xr-section-item'><input id='section-71681bd2-13a5-41f1-b759-e3bcc2917b6c' class='xr-section-summary-in' type='checkbox'  checked><label for='section-71681bd2-13a5-41f1-b759-e3bcc2917b6c' class='xr-section-summary' >Data variables: <span>(12)</span></label><div class='xr-section-inline-details'></div><div class='xr-section-details'><ul class='xr-var-list'><li class='xr-var-item'><div class='xr-var-name'><span>orog</span></div><div class='xr-var-dims'>(station)</div><div class='xr-var-dtype'>float32</div><div class='xr-var-preview xr-preview'>...</div><input id='attrs-7a324713-9314-41bf-b4cd-696933e9be31' class='xr-var-attrs-in' type='checkbox' ><label for='attrs-7a324713-9314-41bf-b4cd-696933e9be31' title='Show/Hide attributes'><svg class='icon xr-icon-file-text2'><use xlink:href='#icon-file-text2'></use></svg></label><input id='data-e2dc8c0f-3a7b-4765-bf47-4d76c0e55a67' class='xr-var-data-in' type='checkbox'><label for='data-e2dc8c0f-3a7b-4765-bf47-4d76c0e55a67' title='Show/Hide data repr'><svg class='icon xr-icon-database'><use xlink:href='#icon-database'></use></svg></label><div class='xr-var-attrs'><dl class='xr-attrs'><dt><span>standard_name :</span></dt><dd>surface_altitude</dd><dt><span>long_name :</span></dt><dd>height above mean sea level</dd><dt><span>units :</span></dt><dd>m</dd><dt><span>positive :</span></dt><dd>up</dd><dt><span>axis :</span></dt><dd>Z</dd></dl></div><div class='xr-var-data'><pre>array([422.], dtype=float32)</pre></div></li><li class='xr-var-item'><div class='xr-var-name'><span>latitude</span></div><div class='xr-var-dims'>(station)</div><div class='xr-var-dtype'>float32</div><div class='xr-var-preview xr-preview'>...</div><input id='attrs-430a77ca-24e5-4279-a150-97c30fd27d3f' class='xr-var-attrs-in' type='checkbox' ><label for='attrs-430a77ca-24e5-4279-a150-97c30fd27d3f' title='Show/Hide attributes'><svg class='icon xr-icon-file-text2'><use xlink:href='#icon-file-text2'></use></svg></label><input id='data-e1eda681-2743-4c1b-8d31-17a08916a6ef' class='xr-var-data-in' type='checkbox'><label for='data-e1eda681-2743-4c1b-8d31-17a08916a6ef' title='Show/Hide data repr'><svg class='icon xr-icon-database'><use xlink:href='#icon-database'></use></svg></label><div class='xr-var-attrs'><dl class='xr-attrs'><dt><span>standard_name :</span></dt><dd>latitude</dd><dt><span>units :</span></dt><dd>degree_north</dd><dt><span>axis :</span></dt><dd>Y</dd></dl></div><div class='xr-var-data'><pre>array([78.87085], dtype=float32)</pre></div></li><li class='xr-var-item'><div class='xr-var-name'><span>longitude</span></div><div class='xr-var-dims'>(station)</div><div class='xr-var-dtype'>float32</div><div class='xr-var-preview xr-preview'>...</div><input id='attrs-f782d0cf-7062-4a97-8fce-8cc2dfa7c80a' class='xr-var-attrs-in' type='checkbox' ><label for='attrs-f782d0cf-7062-4a97-8fce-8cc2dfa7c80a' title='Show/Hide attributes'><svg class='icon xr-icon-file-text2'><use xlink:href='#icon-file-text2'></use></svg></label><input id='data-095233a6-b075-4d47-bb3e-da8aedd692a1' class='xr-var-data-in' type='checkbox'><label for='data-095233a6-b075-4d47-bb3e-da8aedd692a1' title='Show/Hide data repr'><svg class='icon xr-icon-database'><use xlink:href='#icon-database'></use></svg></label><div class='xr-var-attrs'><dl class='xr-attrs'><dt><span>standard_name :</span></dt><dd>longitude</dd><dt><span>units :</span></dt><dd>degree_east</dd><dt><span>axis :</span></dt><dd>X</dd></dl></div><div class='xr-var-data'><pre>array([11.984042], dtype=float32)</pre></div></li><li class='xr-var-item'><div class='xr-var-name'><span>slope</span></div><div class='xr-var-dims'>(station)</div><div class='xr-var-dtype'>float32</div><div class='xr-var-preview xr-preview'>...</div><input id='attrs-448cafa5-845d-4c4f-bd96-405335b6bbc1' class='xr-var-attrs-in' type='checkbox' ><label for='attrs-448cafa5-845d-4c4f-bd96-405335b6bbc1' title='Show/Hide attributes'><svg class='icon xr-icon-file-text2'><use xlink:href='#icon-file-text2'></use></svg></label><input id='data-640bf34b-e283-4280-9c5e-2cfb04bb3686' class='xr-var-data-in' type='checkbox'><label for='data-640bf34b-e283-4280-9c5e-2cfb04bb3686' title='Show/Hide data repr'><svg class='icon xr-icon-database'><use xlink:href='#icon-database'></use></svg></label><div class='xr-var-attrs'><dl class='xr-attrs'><dt><span>standard_name :</span></dt><dd>slope_angle</dd><dt><span>long_name :</span></dt><dd>slope angle</dd><dt><span>units :</span></dt><dd>degrees from horizontal</dd></dl></div><div class='xr-var-data'><pre>array([nan], dtype=float32)</pre></div></li><li class='xr-var-item'><div class='xr-var-name'><span>azimuth</span></div><div class='xr-var-dims'>(station)</div><div class='xr-var-dtype'>float32</div><div class='xr-var-preview xr-preview'>...</div><input id='attrs-44d0d2b2-c236-4a3f-86ce-84764838aa47' class='xr-var-attrs-in' type='checkbox' ><label for='attrs-44d0d2b2-c236-4a3f-86ce-84764838aa47' title='Show/Hide attributes'><svg class='icon xr-icon-file-text2'><use xlink:href='#icon-file-text2'></use></svg></label><input id='data-7adfd06f-3214-49f4-b973-33e333a63014' class='xr-var-data-in' type='checkbox'><label for='data-7adfd06f-3214-49f4-b973-33e333a63014' title='Show/Hide data repr'><svg class='icon xr-icon-database'><use xlink:href='#icon-database'></use></svg></label><div class='xr-var-attrs'><dl class='xr-attrs'><dt><span>standard_name :</span></dt><dd>slope_azimuth</dd><dt><span>long_name :</span></dt><dd>slope azimuth</dd><dt><span>units :</span></dt><dd>degrees from north</dd></dl></div><div class='xr-var-data'><pre>array([nan], dtype=float32)</pre></div></li><li class='xr-var-item'><div class='xr-var-name'><span>dw</span></div><div class='xr-var-dims'>(time, station)</div><div class='xr-var-dtype'>float32</div><div class='xr-var-preview xr-preview'>...</div><input id='attrs-1c89e8b4-992c-4ae5-8605-1aeabd49dc0a' class='xr-var-attrs-in' type='checkbox' ><label for='attrs-1c89e8b4-992c-4ae5-8605-1aeabd49dc0a' title='Show/Hide attributes'><svg class='icon xr-icon-file-text2'><use xlink:href='#icon-file-text2'></use></svg></label><input id='data-1254f62d-6eb3-429a-b89b-cb78b9ea6d28' class='xr-var-data-in' type='checkbox'><label for='data-1254f62d-6eb3-429a-b89b-cb78b9ea6d28' title='Show/Hide data repr'><svg class='icon xr-icon-database'><use xlink:href='#icon-database'></use></svg></label><div class='xr-var-attrs'><dl class='xr-attrs'><dt><span>standard_name :</span></dt><dd>wind_from_direction</dd><dt><span>units :</span></dt><dd>degree</dd></dl></div><div class='xr-var-data'><pre>array([[208.72375],\n",
       "       [224.47375],\n",
       "       [240.22375],\n",
       "       ...,\n",
       "       [183.01   ],\n",
       "       [168.025  ],\n",
       "       [170.995  ]], dtype=float32)</pre></div></li><li class='xr-var-item'><div class='xr-var-name'><span>snd</span></div><div class='xr-var-dims'>(time, station)</div><div class='xr-var-dtype'>float32</div><div class='xr-var-preview xr-preview'>...</div><input id='attrs-b2effb96-aa45-4da1-847f-e9b14e882161' class='xr-var-attrs-in' type='checkbox' ><label for='attrs-b2effb96-aa45-4da1-847f-e9b14e882161' title='Show/Hide attributes'><svg class='icon xr-icon-file-text2'><use xlink:href='#icon-file-text2'></use></svg></label><input id='data-837f4da6-0831-4519-9c2e-a894c63d81a8' class='xr-var-data-in' type='checkbox'><label for='data-837f4da6-0831-4519-9c2e-a894c63d81a8' title='Show/Hide data repr'><svg class='icon xr-icon-database'><use xlink:href='#icon-database'></use></svg></label><div class='xr-var-attrs'><dl class='xr-attrs'><dt><span>standard_name :</span></dt><dd>surface_snow_thickness</dd><dt><span>units :</span></dt><dd>m</dd></dl></div><div class='xr-var-data'><pre>array([[1.75425 ],\n",
       "       [1.7545  ],\n",
       "       [1.75475 ],\n",
       "       ...,\n",
       "       [0.277995],\n",
       "       [0.280995],\n",
       "       [0.280002]], dtype=float32)</pre></div></li><li class='xr-var-item'><div class='xr-var-name'><span>ps</span></div><div class='xr-var-dims'>(time, station)</div><div class='xr-var-dtype'>float32</div><div class='xr-var-preview xr-preview'>...</div><input id='attrs-fa474510-8a26-4ef0-ba72-ae8aa176a70c' class='xr-var-attrs-in' type='checkbox' ><label for='attrs-fa474510-8a26-4ef0-ba72-ae8aa176a70c' title='Show/Hide attributes'><svg class='icon xr-icon-file-text2'><use xlink:href='#icon-file-text2'></use></svg></label><input id='data-aadb8531-ff5b-4548-9924-6d3bb76d23bd' class='xr-var-data-in' type='checkbox'><label for='data-aadb8531-ff5b-4548-9924-6d3bb76d23bd' title='Show/Hide data repr'><svg class='icon xr-icon-database'><use xlink:href='#icon-database'></use></svg></label><div class='xr-var-attrs'><dl class='xr-attrs'><dt><span>standard_name :</span></dt><dd>surface_air_pressure</dd><dt><span>long_name :</span></dt><dd>near surface air pressure</dd><dt><span>units :</span></dt><dd>Pa</dd></dl></div><div class='xr-var-data'><pre>array([[97335.75],\n",
       "       [97335.5 ],\n",
       "       [97335.25],\n",
       "       ...,\n",
       "       [96655.99],\n",
       "       [96658.99],\n",
       "       [96657.01]], dtype=float32)</pre></div></li><li class='xr-var-item'><div class='xr-var-name'><span>hur</span></div><div class='xr-var-dims'>(time, station)</div><div class='xr-var-dtype'>float32</div><div class='xr-var-preview xr-preview'>...</div><input id='attrs-b3445d59-0fc5-4af8-a86c-e4231758129c' class='xr-var-attrs-in' type='checkbox' ><label for='attrs-b3445d59-0fc5-4af8-a86c-e4231758129c' title='Show/Hide attributes'><svg class='icon xr-icon-file-text2'><use xlink:href='#icon-file-text2'></use></svg></label><input id='data-939d666c-e582-4da2-ac66-d95d3b395655' class='xr-var-data-in' type='checkbox'><label for='data-939d666c-e582-4da2-ac66-d95d3b395655' title='Show/Hide data repr'><svg class='icon xr-icon-database'><use xlink:href='#icon-database'></use></svg></label><div class='xr-var-attrs'><dl class='xr-attrs'><dt><span>standard_name :</span></dt><dd>relative_humidity</dd><dt><span>units :</span></dt><dd>1</dd></dl></div><div class='xr-var-data'><pre>array([[0.832166],\n",
       "       [0.837341],\n",
       "       [0.842516],\n",
       "       ...,\n",
       "       [0.889168],\n",
       "       [0.891696],\n",
       "       [0.87982 ]], dtype=float32)</pre></div></li><li class='xr-var-item'><div class='xr-var-name'><span>ta</span></div><div class='xr-var-dims'>(time, station)</div><div class='xr-var-dtype'>float32</div><div class='xr-var-preview xr-preview'>...</div><input id='attrs-2408e006-9cab-4633-afad-7b27a5460b46' class='xr-var-attrs-in' type='checkbox' ><label for='attrs-2408e006-9cab-4633-afad-7b27a5460b46' title='Show/Hide attributes'><svg class='icon xr-icon-file-text2'><use xlink:href='#icon-file-text2'></use></svg></label><input id='data-b56bf8ef-0ac2-449a-9017-7f775b3b8365' class='xr-var-data-in' type='checkbox'><label for='data-b56bf8ef-0ac2-449a-9017-7f775b3b8365' title='Show/Hide data repr'><svg class='icon xr-icon-database'><use xlink:href='#icon-database'></use></svg></label><div class='xr-var-attrs'><dl class='xr-attrs'><dt><span>standard_name :</span></dt><dd>air_temperature</dd><dt><span>long_name :</span></dt><dd>near surface air temperature</dd><dt><span>units :</span></dt><dd>K</dd></dl></div><div class='xr-var-data'><pre>array([[263.9528 ],\n",
       "       [263.78528],\n",
       "       [263.61777],\n",
       "       ...,\n",
       "       [274.76114],\n",
       "       [274.63022],\n",
       "       [274.76978]], dtype=float32)</pre></div></li><li class='xr-var-item'><div class='xr-var-name'><span>ts</span></div><div class='xr-var-dims'>(time, station)</div><div class='xr-var-dtype'>float32</div><div class='xr-var-preview xr-preview'>...</div><input id='attrs-44e009a2-36e5-4d0c-9591-e60c9dd45ee9' class='xr-var-attrs-in' type='checkbox' ><label for='attrs-44e009a2-36e5-4d0c-9591-e60c9dd45ee9' title='Show/Hide attributes'><svg class='icon xr-icon-file-text2'><use xlink:href='#icon-file-text2'></use></svg></label><input id='data-fd4678e5-2e53-4555-928a-5edb668896f4' class='xr-var-data-in' type='checkbox'><label for='data-fd4678e5-2e53-4555-928a-5edb668896f4' title='Show/Hide data repr'><svg class='icon xr-icon-database'><use xlink:href='#icon-database'></use></svg></label><div class='xr-var-attrs'><dl class='xr-attrs'><dt><span>standard_name :</span></dt><dd>surface_temperature</dd><dt><span>units :</span></dt><dd>K</dd></dl></div><div class='xr-var-data'><pre>array([[263.15036],\n",
       "       [262.94034],\n",
       "       [262.73035],\n",
       "       ...,\n",
       "       [272.92007],\n",
       "       [272.70038],\n",
       "       [272.85974]], dtype=float32)</pre></div></li><li class='xr-var-item'><div class='xr-var-name'><span>ws</span></div><div class='xr-var-dims'>(time, station)</div><div class='xr-var-dtype'>float32</div><div class='xr-var-preview xr-preview'>...</div><input id='attrs-8d6a2c90-7b90-47d5-ab66-4692482a07f0' class='xr-var-attrs-in' type='checkbox' ><label for='attrs-8d6a2c90-7b90-47d5-ab66-4692482a07f0' title='Show/Hide attributes'><svg class='icon xr-icon-file-text2'><use xlink:href='#icon-file-text2'></use></svg></label><input id='data-55723200-a966-4d0b-b59c-e8ffb8c32b98' class='xr-var-data-in' type='checkbox'><label for='data-55723200-a966-4d0b-b59c-e8ffb8c32b98' title='Show/Hide data repr'><svg class='icon xr-icon-database'><use xlink:href='#icon-database'></use></svg></label><div class='xr-var-attrs'><dl class='xr-attrs'><dt><span>standard_name :</span></dt><dd>wind_speed</dd><dt><span>units :</span></dt><dd>m/s</dd></dl></div><div class='xr-var-data'><pre>array([[3.073192],\n",
       "       [4.158192],\n",
       "       [5.243192],\n",
       "       ...,\n",
       "       [1.268983],\n",
       "       [1.47965 ],\n",
       "       [1.2404  ]], dtype=float32)</pre></div></li></ul></div></li><li class='xr-section-item'><input id='section-1a7f29f1-7187-4894-ae93-f799d2220e10' class='xr-section-summary-in' type='checkbox'  ><label for='section-1a7f29f1-7187-4894-ae93-f799d2220e10' class='xr-section-summary' >Attributes: <span>(40)</span></label><div class='xr-section-inline-details'></div><div class='xr-section-details'><dl class='xr-attrs'><dt><span>date_created :</span></dt><dd>2022-06-24</dd><dt><span>creator_name :</span></dt><dd>Simon Filhol, Pierre Marie Lefeuvre, Jean-Charles Gallet</dd><dt><span>creator_email :</span></dt><dd>simon.filhol@geo.uio.no, pierre.lefeuvre@npolar.no, jean.charles.gallet@npolar.no</dd><dt><span>creator_institution :</span></dt><dd>University of Oslo, Norwegian Polar Institute, Norwegian Polar Institute</dd><dt><span>creator_url :</span></dt><dd>www.mn.uio.no/geo/english/people/aca/geohyd/simonfi/index.html, www.npolar.no/en/people/pierre.marie.lefeuvre, www.npolar.no/en/people/jean.charles.gallet</dd><dt><span>creator_type :</span></dt><dd>person, person, person</dd><dt><span>institution :</span></dt><dd>Norwegian Polar Institute</dd><dt><span>publisher_name :</span></dt><dd>Norwegian Polar Institute</dd><dt><span>publisher_email :</span></dt><dd>jean.charles.gallet@npolar.no</dd><dt><span>publisher_url :</span></dt><dd>https://www.npolar.no/en</dd><dt><span>publisher_type :</span></dt><dd>institute</dd><dt><span>source :</span></dt><dd>Automatic weather station</dd><dt><span>history :</span></dt><dd>2022-06-24T15:21:04Z, ronea@eduroam-193-157-207-94.wlan.uio.no, MeteoIO-3.0.0</dd><dt><span>keywords_vocabulary :</span></dt><dd>GCMDSK:GCMD Science Keywords:https://gcmd.earthdata.nasa.gov/kms/concepts/concept_scheme/sciencekeywords, GCMDLOC:GCMD Locations:https://gcmd.earthdata.nasa.gov/kms/concepts/concept_scheme/locations</dd><dt><span>keywords :</span></dt><dd>GCMDLOC:GEOGRAPHIC REGION&gt;ARCTIC:d40d9651-aa19-4b2c-9764-7371bb64b9a7, GCMDSK:EARTH SCIENCE&gt;CRYOSPHERE&gt;GLACIERS/ICE SHEETS&gt;GLACIERS:68eed887-8008-4352-b420-949457ab59ab, GCMDSK:EARTH SCIENCE&gt;CRYOSPHERE&gt;SNOW/ICE:aa35a52f-e3d9-41bd-abd2-ec7e1a8101d1, GCMDSK:EARTH SCIENCE&gt;CRYOSPHERE&gt;SNOW/ICE&gt;SNOW ENERGY BALANCE:a3520db9-7bed-4f55-a9f6-028d52af6091, GCMDSK:EARTH SCIENCE&gt;CRYOSPHERE&gt;SNOW/ICE&gt;SNOW DEPTH:47bc8942-6fdd-4173-bf38-209e933d843f, Time series analysis</dd><dt><span>title :</span></dt><dd>Meteorological data timeseries for stations sw-140</dd><dt><span>project :</span></dt><dd>Hive Wireless Sensor Network (Hive WSN), SIOS Svalbard Integrated Arctic Earth Observing System (SIOS InfraNOR)</dd><dt><span>id :</span></dt><dd>None</dd><dt><span>references :</span></dt><dd>https://hive-wireless-sensor-network.readthedocs.io/en/latest/source/hardware.html</dd><dt><span>naming_authority :</span></dt><dd>Norwegian Polar Institute</dd><dt><span>processing_level :</span></dt><dd>filtered and not modelled</dd><dt><span>summary :</span></dt><dd>The Hive Wireless sensor network project designed and assembled automatic weather stations that are currently installed at Kongsvegen glacier in Svalbard and records near surface meteorological variables: air temperature, relative humidity, air pressure, snow height, wind, surface skin temperature... The HiveWSN kit consists of: 1) a brain box containing the power system, the microcontroller, the communication system and the connectivity to the sensors, 2) A set of sensors either commercially available or custom built at the Department of Geosciences at UiO as part of the UiO Hive project. The kit is autonomous and packaged as a beam that can be installed on simple mast. Currently, there are two versions of the WSN system: v1 from 2019, and v2 from 2021. Both are based on the board Wasmpote v15 which handle power, communication, and data brokerage. The firmware running all instances has been written as part of the project UiO Hive, and include a set of tools described on the HiveWSN project website: https://www.mn.uio.no/geo/english/research/projects/hive. Important note: the height of the sensor to the snow/ice surface is not corrected for variations in surface deposition or melt over time. The sensor box is fixed to a stake drilled into the snow/ice.</dd><dt><span>acknowledgement :</span></dt><dd>The Hive WSN kit development is supported by the eInfrastructure hub UiO Hive, and implemented to collect data on the archipelago of Svalbard in collaboration with the Norwegian Polar Institute. Additional support from SIOS.</dd><dt><span>license :</span></dt><dd>https://spdx.org/licenses/CC-BY-NC-4.0.html (CC-BY-NC-4.0)</dd><dt><span>product_version :</span></dt><dd>1.0</dd><dt><span>activity_type :</span></dt><dd>In Situ Ice-based station</dd><dt><span>operational_status :</span></dt><dd>Scientific</dd><dt><span>Conventions :</span></dt><dd>CF-1.6,ACDD-1.3</dd><dt><span>standard_name_vocabulary :</span></dt><dd>CF-1.6</dd><dt><span>cdm_data_type :</span></dt><dd>Station</dd><dt><span>featureType :</span></dt><dd>timeSeries</dd><dt><span>geospatial_bounds_crs :</span></dt><dd>EPSG:4326</dd><dt><span>geospatial_bounds :</span></dt><dd>MultiPoint ((11.9840423429 78.8708514897))</dd><dt><span>geospatial_lat_min :</span></dt><dd>78.8709</dd><dt><span>geospatial_lat_max :</span></dt><dd>78.8709</dd><dt><span>geospatial_lon_min :</span></dt><dd>11.984</dd><dt><span>geospatial_lon_max :</span></dt><dd>11.984</dd><dt><span>time_coverage_start :</span></dt><dd>2021-04-26T16:10:00+00:00</dd><dt><span>time_coverage_end :</span></dt><dd>2021-08-20T16:00:00+00:00</dd><dt><span>time_coverage_resolution :</span></dt><dd>P602S</dd></dl></div></li></ul></div></div>"
      ],
      "text/plain": [
       "<xarray.Dataset>\n",
       "Dimensions:    (time: 16647, station: 1)\n",
       "Coordinates:\n",
       "  * time       (time) datetime64[ns] 2021-04-26T16:10:00 ... 2021-08-20T16:00:00\n",
       "  * station    (station) |S16 b'sw-140'\n",
       "Data variables:\n",
       "    orog       (station) float32 ...\n",
       "    latitude   (station) float32 ...\n",
       "    longitude  (station) float32 ...\n",
       "    slope      (station) float32 ...\n",
       "    azimuth    (station) float32 ...\n",
       "    dw         (time, station) float32 ...\n",
       "    snd        (time, station) float32 ...\n",
       "    ps         (time, station) float32 ...\n",
       "    hur        (time, station) float32 ...\n",
       "    ta         (time, station) float32 ...\n",
       "    ts         (time, station) float32 ...\n",
       "    ws         (time, station) float32 ...\n",
       "Attributes: (12/40)\n",
       "    date_created:              2022-06-24\n",
       "    creator_name:              Simon Filhol, Pierre Marie Lefeuvre, Jean-Char...\n",
       "    creator_email:             simon.filhol@geo.uio.no, pierre.lefeuvre@npola...\n",
       "    creator_institution:       University of Oslo, Norwegian Polar Institute,...\n",
       "    creator_url:               www.mn.uio.no/geo/english/people/aca/geohyd/si...\n",
       "    creator_type:              person, person, person\n",
       "    ...                        ...\n",
       "    geospatial_lat_max:        78.8709\n",
       "    geospatial_lon_min:        11.984\n",
       "    geospatial_lon_max:        11.984\n",
       "    time_coverage_start:       2021-04-26T16:10:00+00:00\n",
       "    time_coverage_end:         2021-08-20T16:00:00+00:00\n",
       "    time_coverage_resolution:  P602S"
      ]
     },
     "execution_count": 3,
     "metadata": {},
     "output_type": "execute_result"
    }
   ],
   "source": [
    "sw110 = xr.open_dataset('data_qc/aws-sw-110-20210426-20220401.nc')\n",
    "sw120 = xr.open_dataset('data_qc/aws-sw-120-20210426-20220330.nc')\n",
    "sw125 = xr.open_dataset('data_qc/aws-sw-125-20210427-20220401.nc')\n",
    "sw130 = xr.open_dataset('data_qc/aws-sw-130-20210426-20220401.nc')\n",
    "sw140 = xr.open_dataset('data_qc/aws-sw-140-20210426-20220429.nc')\n",
    "swcorbel = xr.open_dataset('data_qc/aws-sw-corbel-20210426-20220429.nc')\n",
    "sw140"
   ]
  },
  {
   "cell_type": "code",
   "execution_count": null,
   "id": "af2fbfbd-a234-4035-abbe-bb0d024a42cd",
   "metadata": {},
   "outputs": [],
   "source": [
    "x=sw125\n",
    "a=x.ta.sel(time=slice('2021-05-01','2021-08-01')).mean(skipna=True)-273.15;print('MJJ T mean: {}'.format(a.values.round(2)))\n",
    "b=x.ta.sel(time=slice('2021-05-01','2021-06-01')).mean(skipna=True)-273.15;print('May T mean: {}'.format(b.values.round(2)))\n",
    "c=x.snd.sel(time=slice('2021-05-01','2021-06-01')).mean(skipna=True)*100;print('May snow mean: {}'.format(c.values.round(0)))\n"
   ]
  },
  {
   "cell_type": "markdown",
   "id": "678d08c0-a4b4-42a7-870c-fe41667851ad",
   "metadata": {
    "tags": []
   },
   "source": [
    "### Snow depth"
   ]
  },
  {
   "cell_type": "code",
   "execution_count": null,
   "id": "6dcdfc3e-4eb3-4a5e-9afd-29f819589926",
   "metadata": {},
   "outputs": [],
   "source": [
    "plt.figure()\n",
    "plt.scatter(sw110.time, sw110.snd,label=\"sw110\", alpha=.5, s=.1)\n",
    "plt.scatter(sw120.time, sw120.snd,label=\"sw120\", alpha=.5, s=.1)\n",
    "#plt.scatter(sw125.time, sw125.snd,label=\"sw125\", alpha=.5, s=.1) # failed - no data\n",
    "plt.scatter(sw130.time, sw130.snd,label=\"sw130\", alpha=.5, s=.1)\n",
    "plt.scatter(sw140.time, sw140.snd,label=\"sw140\", alpha=.5, s=.1)\n",
    "plt.legend()\n",
    "plt.show()"
   ]
  },
  {
   "cell_type": "code",
   "execution_count": null,
   "id": "e059e408-fdf4-4971-b438-1cc2e154850d",
   "metadata": {},
   "outputs": [],
   "source": [
    "plt.figure()\n",
    "sw110.snd.plot(label=\"sw110\")\n",
    "sw120.snd.plot(label=\"sw120\")\n",
    "#sw125.snd.plot(label=\"sw125\") # failed - no data\n",
    "sw130.snd.plot(label=\"sw130\")\n",
    "sw140.snd.plot(label=\"sw140\")\n",
    "plt.legend()\n",
    "plt.show()"
   ]
  },
  {
   "cell_type": "markdown",
   "id": "2c220045-972c-4e82-8b5e-73861b963997",
   "metadata": {
    "tags": []
   },
   "source": [
    "### Air temperature"
   ]
  },
  {
   "cell_type": "code",
   "execution_count": null,
   "id": "b01e4eb5-ce97-4c45-b80b-201fe8a938ea",
   "metadata": {},
   "outputs": [],
   "source": [
    "plt.figure()\n",
    "sw110.ta.plot(label=\"sw110\")\n",
    "sw120.ta.plot(label=\"sw120\")\n",
    "sw125.ta.plot(label=\"sw125\")\n",
    "sw130.ta.plot(label=\"sw130\")\n",
    "sw140.ta.plot(label=\"sw140\")\n",
    "plt.legend()\n",
    "plt.show()"
   ]
  },
  {
   "cell_type": "markdown",
   "id": "190f9135-6835-41ed-8007-3804836c0c48",
   "metadata": {
    "jp-MarkdownHeadingCollapsed": true,
    "tags": []
   },
   "source": [
    "### Surface temperature"
   ]
  },
  {
   "cell_type": "code",
   "execution_count": null,
   "id": "799e8d4b-a64d-4f34-9eb8-36db7fb0bb0e",
   "metadata": {},
   "outputs": [],
   "source": [
    "plt.figure()\n",
    "sw110.ts.plot(label=\"sw110\")\n",
    "sw120.ts.plot(label=\"sw120\")\n",
    "sw125.ts.plot(label=\"sw125\")\n",
    "sw130.ts.plot(label=\"sw130\")\n",
    "sw140.ts.plot(label=\"sw140\")\n",
    "plt.legend()\n",
    "plt.show()"
   ]
  },
  {
   "cell_type": "markdown",
   "id": "5fb7afee-79f3-4750-9a60-019256ed6abb",
   "metadata": {
    "tags": []
   },
   "source": [
    "### Relative humidity"
   ]
  },
  {
   "cell_type": "code",
   "execution_count": 4,
   "id": "f62f8d6e-eb5f-44e7-a554-231c15a9a7b0",
   "metadata": {},
   "outputs": [],
   "source": [
    "plt.figure()\n",
    "sw110.hur.plot(label=\"sw110\")\n",
    "sw120.hur.plot(label=\"sw120\")\n",
    "#sw125.hur.plot(label=\"sw125\") # failed - no data\n",
    "sw130.hur.plot(label=\"sw130\")\n",
    "sw140.hur.plot(label=\"sw140\")\n",
    "plt.legend()\n",
    "plt.show()"
   ]
  },
  {
   "cell_type": "markdown",
   "id": "e351ec67-5cb8-4883-a178-0aa198f8a655",
   "metadata": {
    "jp-MarkdownHeadingCollapsed": true,
    "tags": []
   },
   "source": [
    "### Air pressure"
   ]
  },
  {
   "cell_type": "code",
   "execution_count": null,
   "id": "6a00b140-0a3b-44d7-9bf4-9417d482127c",
   "metadata": {},
   "outputs": [],
   "source": [
    "plt.figure()\n",
    "plt.scatter(sw110.time, sw110.ps,label=\"sw110\", alpha=.5, s=.1)\n",
    "plt.scatter(sw120.time, sw120.ps,label=\"sw120\", alpha=.5, s=.1)\n",
    "#plt.scatter(sw125.time, sw125.ps,label=\"sw125\", alpha=.5, s=.1) # failed - no data\n",
    "plt.scatter(sw130.time, sw130.ps,label=\"sw130\", alpha=.5, s=.1)\n",
    "plt.scatter(sw140.time, sw140.ps,label=\"sw140\", alpha=.5, s=.1)\n",
    "plt.legend()\n",
    "plt.show()"
   ]
  },
  {
   "cell_type": "code",
   "execution_count": null,
   "id": "b7a3b2c2-84cc-4a62-b767-be4e124bd2f1",
   "metadata": {},
   "outputs": [],
   "source": [
    "plt.figure()\n",
    "sw110.ps.plot(label=\"sw110\")\n",
    "sw120.ps.plot(label=\"sw120\")\n",
    "#sw125.ps.plot(label=\"sw125\") # failed - no data\n",
    "sw130.ps.plot(label=\"sw130\")\n",
    "sw140.ps.plot(label=\"sw140\")\n",
    "plt.legend()\n",
    "plt.show()"
   ]
  },
  {
   "cell_type": "markdown",
   "id": "28ead08d-e342-4f08-baff-555a6e0be1c2",
   "metadata": {
    "tags": []
   },
   "source": [
    "### Wind speed and direction\n",
    "\n",
    "No wind sensor for the following wsn weather stations: sw125 and sw130"
   ]
  },
  {
   "cell_type": "code",
   "execution_count": null,
   "id": "f7bbf7f4-e59e-4919-8aa1-cc022bd44cbb",
   "metadata": {},
   "outputs": [],
   "source": [
    "plt.figure()\n",
    "sw110.ws.plot(label=\"sw110\")\n",
    "sw120.ws.plot(label=\"sw120\")\n",
    "sw140.ws.plot(label=\"sw140\")\n",
    "plt.legend()\n",
    "plt.show()"
   ]
  },
  {
   "cell_type": "code",
   "execution_count": null,
   "id": "2780e5f4-3f29-4c6f-af6e-37cb5472ebeb",
   "metadata": {},
   "outputs": [],
   "source": [
    "plt.figure()\n",
    "sw110.dw.plot(label=\"sw110\")\n",
    "sw120.dw.plot(label=\"sw120\")\n",
    "sw140.dw.plot(label=\"sw140\")\n",
    "plt.legend()\n",
    "plt.show()"
   ]
  },
  {
   "cell_type": "markdown",
   "id": "182f9717-5d62-4fb8-94c1-5eaf67c4f7b2",
   "metadata": {
    "tags": []
   },
   "source": [
    "### Load reference data"
   ]
  },
  {
   "cell_type": "code",
   "execution_count": null,
   "id": "29d74d60-53d7-4f5f-929e-7a7f7ae6eefb",
   "metadata": {},
   "outputs": [],
   "source": [
    "sw110 = xr.open_dataset('data_qc/reference/aws-sw-110-20210426-20220401.nc')\n",
    "sw120 = xr.open_dataset('data_qc/reference/aws-sw-120-20210426-20220330.nc')\n",
    "sw125 = xr.open_dataset('data_qc/reference/aws-sw-125-20210427-20220401.nc')\n",
    "sw130 = xr.open_dataset('data_qc/reference/aws-sw-130-20210426-20220401.nc')\n",
    "sw140 = xr.open_dataset('data_qc/reference/aws-sw-140-20210426-20220501.nc')\n",
    "swcorbel = xr.open_dataset('data_qc/reference/aws-sw-corbel-20210426-20220429.nc')\n",
    "sw140\n",
    "\n",
    "plt.figure()\n",
    "sw110.snd.plot(label=\"sw110\")\n",
    "sw120.snd.plot(label=\"sw120\")\n",
    "#sw125.snd.plot(label=\"sw125\") # failed - no data\n",
    "sw130.snd.plot(label=\"sw130\")\n",
    "sw140.snd.plot(label=\"sw140\")\n",
    "plt.legend()\n",
    "plt.show()"
   ]
  },
  {
   "cell_type": "markdown",
   "id": "d2f2ef1e-16b0-4b4b-83a2-7f65e9497854",
   "metadata": {
    "tags": []
   },
   "source": [
    "---\n",
    "---\n",
    "\n",
    "## Kongsvegen - 2021-2022"
   ]
  },
  {
   "cell_type": "markdown",
   "id": "3eab3a5c-bea1-4220-99a7-8052e37d7944",
   "metadata": {
    "tags": []
   },
   "source": [
    "### Load weather data"
   ]
  },
  {
   "cell_type": "code",
   "execution_count": 17,
   "id": "0ae89b64-8c82-4113-82a5-70fbb6a60a8e",
   "metadata": {},
   "outputs": [],
   "source": [
    "sw200 = xr.open_dataset('data_qc/aws-sw-200-20210501-20220503.nc')\n",
    "sw205 = xr.open_dataset('data_qc/aws-sw-205-20210501-20220502.nc')\n",
    "sw210 = xr.open_dataset('data_qc/aws-sw-210-20210429-20220501.nc')\n",
    "sw215 = xr.open_dataset('data_qc/aws-sw-215-20210429-20220501.nc')\n",
    "sw220 = xr.open_dataset('data_qc/aws-sw-220-20210429-20220501.nc')\n",
    "sw225 = xr.open_dataset('data_qc/aws-sw-225-20210501-20220501.nc')\n",
    "sw230 = xr.open_dataset('data_qc/aws-sw-230-20210429-20220501.nc')\n",
    "sw235 = xr.open_dataset('data_qc/aws-sw-235-20210429-20220501.nc')\n",
    "sw240 = xr.open_dataset('data_qc/aws-sw-240-20210429-20220501.nc')\n",
    "sw250 = xr.open_dataset('data_qc/aws-sw-250-20210501-20220505.nc')"
   ]
  },
  {
   "cell_type": "code",
   "execution_count": null,
   "id": "5971b693-d5d2-47c5-b3ee-abe406a1c363",
   "metadata": {},
   "outputs": [],
   "source": [
    "#sw235.ta.plot(label=\"sw215\")\n",
    "#sw250.ta.sel(time=slice('2021-05-01','2021-08-01')).mean()-273.15\n",
    "sw200.ta.sel(time=slice('2021-05-01','2021-06-01')).mean()-273.15\n",
    "#sw200.snd.sel(time=slice('2021-05-01','2021-06-01')).mean()*100"
   ]
  },
  {
   "cell_type": "markdown",
   "id": "c8399795-6eeb-4157-8015-39bbad09be59",
   "metadata": {
    "tags": []
   },
   "source": [
    "### Snow depth"
   ]
  },
  {
   "cell_type": "code",
   "execution_count": null,
   "id": "45902091-84ec-4caf-a8ba-92c01cdddc86",
   "metadata": {},
   "outputs": [],
   "source": [
    "plt.figure()\n",
    "sw200.snd.plot(label=\"sw200\")\n",
    "sw205.snd.plot(label=\"sw205\")\n",
    "sw210.snd.plot(label=\"sw210\")\n",
    "sw215.snd.plot(label=\"sw215\")\n",
    "sw220.snd.plot(label=\"sw220\")\n",
    "sw225.snd.plot(label=\"sw225\")\n",
    "sw230.snd.plot(label=\"sw230\")\n",
    "#sw235.snd.plot(label=\"sw235\") # failed - no data\n",
    "sw240.snd.plot(label=\"sw240\")\n",
    "sw250.snd.plot(label=\"sw250\")\n",
    "plt.legend()\n",
    "plt.show()"
   ]
  },
  {
   "cell_type": "code",
   "execution_count": null,
   "id": "d5a306da-e142-4bc5-8e62-d13ba0c7cbaf",
   "metadata": {},
   "outputs": [],
   "source": [
    "plt.figure()\n",
    "plt.scatter(sw200.time, sw200.snd,label=\"sw200\", alpha=.5, s=.1)\n",
    "plt.scatter(sw205.time, sw205.snd,label=\"sw205\", alpha=.5, s=.1)\n",
    "plt.scatter(sw210.time, sw210.snd,label=\"sw210\", alpha=.5, s=.1)\n",
    "plt.scatter(sw215.time, sw215.snd,label=\"sw215\", alpha=.5, s=.1)\n",
    "plt.scatter(sw220.time, sw220.snd,label=\"sw220\", alpha=.5, s=.1)\n",
    "plt.scatter(sw225.time, sw225.snd,label=\"sw225\", alpha=.5, s=.1)\n",
    "plt.scatter(sw230.time, sw230.snd,label=\"sw230\", alpha=.5, s=.1)\n",
    "#plt.scatter(sw235.time, sw235.snd,label=\"sw235\", alpha=.5, s=.1) # failed - no data\n",
    "plt.scatter(sw240.time, sw240.snd,label=\"sw240\", alpha=.5, s=.1)\n",
    "plt.scatter(sw250.time, sw250.snd,label=\"sw250\", alpha=.5, s=.1)\n",
    "plt.legend()\n",
    "plt.show()"
   ]
  },
  {
   "cell_type": "code",
   "execution_count": null,
   "id": "57c5debc-68b0-4c73-9e47-de8cc3cf43b1",
   "metadata": {},
   "outputs": [],
   "source": [
    "plt.figure()\n",
    "sw200.snd.dropna(dim='time').plot(label=\"sw200\")\n",
    "sw205.snd.dropna(dim='time').plot(label=\"sw205\")\n",
    "sw210.snd.dropna(dim='time').plot(label=\"sw210\")\n",
    "sw215.snd.dropna(dim='time').plot(label=\"sw215\")\n",
    "sw220.snd.dropna(dim='time').plot(label=\"sw220\")\n",
    "sw225.snd.dropna(dim='time').plot(label=\"sw225\")\n",
    "sw230.snd.dropna(dim='time').plot(label=\"sw230\")\n",
    "#sw235.snd.dropna(dim='time').plot(label=\"sw235\")\n",
    "sw240.snd.dropna(dim='time').plot(label=\"sw240\")\n",
    "sw250.snd.dropna(dim='time').plot(label=\"sw250\")\n",
    "plt.show()"
   ]
  },
  {
   "cell_type": "markdown",
   "id": "c59b7364-679a-4d3e-b511-c2f01067431f",
   "metadata": {
    "tags": []
   },
   "source": [
    "### Air temperature"
   ]
  },
  {
   "cell_type": "code",
   "execution_count": null,
   "id": "c510a6ae-4ea7-48c7-9311-db605e7e553f",
   "metadata": {},
   "outputs": [],
   "source": [
    "plt.figure()\n",
    "plt.scatter(sw200.time, sw200.ta,label=\"sw200\", alpha=.5, s=.1)\n",
    "plt.scatter(sw205.time, sw205.ta,label=\"sw205\", alpha=.5, s=.1)\n",
    "plt.scatter(sw210.time, sw210.ta,label=\"sw210\", alpha=.5, s=.1)\n",
    "plt.scatter(sw215.time, sw215.ta,label=\"sw215\", alpha=.5, s=.1)\n",
    "plt.scatter(sw220.time, sw220.ta,label=\"sw220\", alpha=.5, s=.1)\n",
    "plt.scatter(sw225.time, sw225.ta,label=\"sw225\", alpha=.5, s=.1)\n",
    "plt.scatter(sw230.time, sw230.ta,label=\"sw230\", alpha=.5, s=.1)\n",
    "plt.scatter(sw235.time, sw235.ta,label=\"sw235\", alpha=.5, s=.1)\n",
    "plt.scatter(sw240.time, sw240.ta,label=\"sw240\", alpha=.5, s=.1)\n",
    "plt.scatter(sw250.time, sw250.ta,label=\"sw250\", alpha=.5, s=.1)\n",
    "plt.legend()\n",
    "plt.show()"
   ]
  },
  {
   "cell_type": "code",
   "execution_count": null,
   "id": "4dec0f2f-b1fe-4714-8c51-4fda2d28f682",
   "metadata": {},
   "outputs": [],
   "source": [
    "plt.figure()\n",
    "sw200.ta.plot(label=\"sw200\")\n",
    "sw205.ta.plot(label=\"sw205\")\n",
    "sw210.ta.plot(label=\"sw210\")\n",
    "sw215.ta.plot(label=\"sw215\")\n",
    "sw220.ta.plot(label=\"sw220\")\n",
    "sw225.ta.plot(label=\"sw225\")\n",
    "sw230.ta.plot(label=\"sw230\")\n",
    "sw235.ta.plot(label=\"sw235\")\n",
    "sw240.ta.plot(label=\"sw240\")\n",
    "sw250.ta.plot(label=\"sw250\")\n",
    "plt.legend()\n",
    "plt.show()"
   ]
  },
  {
   "cell_type": "markdown",
   "id": "3e56a023-80d9-4b3b-b002-939c56361d41",
   "metadata": {
    "tags": []
   },
   "source": [
    "### Surface temperature"
   ]
  },
  {
   "cell_type": "code",
   "execution_count": null,
   "id": "5067ab83-95f7-42a2-89a5-24152e2fc503",
   "metadata": {},
   "outputs": [],
   "source": [
    "plt.figure()\n",
    "plt.scatter(sw200.time, sw200.ts,label=\"sw200\", alpha=.5, s=.1)\n",
    "plt.scatter(sw205.time, sw205.ts,label=\"sw205\", alpha=.5, s=.1)\n",
    "plt.scatter(sw210.time, sw210.ts,label=\"sw210\", alpha=.5, s=.1)\n",
    "plt.scatter(sw215.time, sw215.ts,label=\"sw215\", alpha=.5, s=.1)\n",
    "plt.scatter(sw220.time, sw220.ts,label=\"sw220\", alpha=.5, s=.1)\n",
    "plt.scatter(sw225.time, sw225.ts,label=\"sw225\", alpha=.5, s=.1)\n",
    "plt.scatter(sw230.time, sw230.ts,label=\"sw230\", alpha=.5, s=.1)\n",
    "plt.scatter(sw235.time, sw235.ts,label=\"sw235\", alpha=.5, s=.1)\n",
    "plt.scatter(sw240.time, sw240.ts,label=\"sw240\", alpha=.5, s=.1)\n",
    "plt.scatter(sw250.time, sw250.ts,label=\"sw250\", alpha=.5, s=.1)\n",
    "plt.legend()\n",
    "plt.show()"
   ]
  },
  {
   "cell_type": "code",
   "execution_count": null,
   "id": "fda4bf45-d136-406f-9c2e-130e0e5cc309",
   "metadata": {},
   "outputs": [],
   "source": [
    "plt.figure()\n",
    "sw200.ts.plot(label=\"sw200\")\n",
    "sw205.ts.plot(label=\"sw205\")\n",
    "sw210.ts.plot(label=\"sw210\")\n",
    "sw215.ts.plot(label=\"sw215\")\n",
    "sw220.ts.plot(label=\"sw220\")\n",
    "sw225.ts.plot(label=\"sw225\")\n",
    "sw230.ts.plot(label=\"sw230\")\n",
    "sw235.ts.plot(label=\"sw235\")\n",
    "sw240.ts.plot(label=\"sw240\")\n",
    "sw250.ts.plot(label=\"sw250\")\n",
    "plt.legend()\n",
    "plt.show()"
   ]
  },
  {
   "cell_type": "markdown",
   "id": "1b1e0b77-63fc-4d2c-9371-20952513cc7b",
   "metadata": {
    "tags": []
   },
   "source": [
    "### Relative humidity"
   ]
  },
  {
   "cell_type": "code",
   "execution_count": 11,
   "id": "3ac0a85a-c339-4ab3-a584-7711ee80e61a",
   "metadata": {},
   "outputs": [],
   "source": [
    "plt.figure()\n",
    "plt.scatter(sw200.time, sw200.hur,label=\"sw200\", alpha=.5, s=.1)\n",
    "plt.scatter(sw205.time, sw205.hur,label=\"sw205\", alpha=.5, s=.1)\n",
    "plt.scatter(sw210.time, sw210.hur,label=\"sw210\", alpha=.5, s=.1)\n",
    "plt.scatter(sw215.time, sw215.hur,label=\"sw215\", alpha=.5, s=.1)\n",
    "plt.scatter(sw220.time, sw220.hur,label=\"sw220\", alpha=.5, s=.1)\n",
    "plt.scatter(sw225.time, sw225.hur,label=\"sw225\", alpha=.5, s=.1)\n",
    "plt.scatter(sw230.time, sw230.hur,label=\"sw230\", alpha=.5, s=.1)\n",
    "plt.scatter(sw235.time, sw235.hur,label=\"sw235\", alpha=.5, s=.1)\n",
    "plt.scatter(sw240.time, sw240.hur,label=\"sw240\", alpha=.5, s=.1)\n",
    "plt.scatter(sw250.time, sw250.hur,label=\"sw250\", alpha=.5, s=.1)\n",
    "plt.legend()\n",
    "plt.show()"
   ]
  },
  {
   "cell_type": "code",
   "execution_count": 18,
   "id": "4f518d7d-8341-49d3-ad97-eb2b4594f158",
   "metadata": {},
   "outputs": [],
   "source": [
    "plt.figure()\n",
    "plt.scatter(sw200.time, sw200.hur,label=\"sw215\", alpha=.5, s=.1)\n",
    "plt.show()"
   ]
  },
  {
   "cell_type": "code",
   "execution_count": 12,
   "id": "00156487-97a8-451f-a652-31c175cae255",
   "metadata": {},
   "outputs": [],
   "source": [
    "plt.figure()\n",
    "sw200.hur.plot(label=\"sw200\")\n",
    "sw205.hur.plot(label=\"sw205\")\n",
    "sw210.hur.plot(label=\"sw210\")\n",
    "sw215.hur.plot(label=\"sw215\")\n",
    "sw220.hur.plot(label=\"sw220\")\n",
    "sw225.hur.plot(label=\"sw225\")\n",
    "sw230.hur.plot(label=\"sw230\")\n",
    "sw235.hur.plot(label=\"sw235\")\n",
    "sw240.hur.plot(label=\"sw240\")\n",
    "sw250.hur.plot(label=\"sw250\")\n",
    "plt.legend()\n",
    "plt.show()"
   ]
  },
  {
   "cell_type": "markdown",
   "id": "bbdeece0-f170-465b-a9c5-b8ec84ca931c",
   "metadata": {
    "tags": []
   },
   "source": [
    "### Air pressure"
   ]
  },
  {
   "cell_type": "code",
   "execution_count": null,
   "id": "472c4085-4d2b-4fc7-afce-021c68113717",
   "metadata": {},
   "outputs": [],
   "source": [
    "plt.figure()\n",
    "sw200.ps.plot(label=\"sw200\")\n",
    "# sw205.ps.plot(label=\"sw205\") # no pressure data\n",
    "sw210.ps.plot(label=\"sw210\")\n",
    "sw215.ps.plot(label=\"sw215\")\n",
    "sw220.ps.plot(label=\"sw220\")\n",
    "sw225.ps.plot(label=\"sw225\")\n",
    "sw230.ps.plot(label=\"sw230\")\n",
    "# sw235.ps.plot(label=\"sw235\") # no pressure data\n",
    "sw240.ps.plot(label=\"sw240\")\n",
    "# sw250.ps.plot(label=\"sw250\") # no pressure data\n",
    "plt.legend()\n",
    "plt.show()"
   ]
  },
  {
   "cell_type": "markdown",
   "id": "de5f40c1-e74c-4292-8916-c649a0f503c4",
   "metadata": {
    "tags": []
   },
   "source": [
    "### Wind speed and direction\n",
    "\n",
    "No wind sensor for the following wsn weather stations: sw200"
   ]
  },
  {
   "cell_type": "code",
   "execution_count": null,
   "id": "10c5997e-3f5c-484e-88dd-9efac5f640db",
   "metadata": {},
   "outputs": [],
   "source": [
    "plt.figure()\n",
    "# plt.scatter(sw200.time, sw200.ws,label=\"sw200\", alpha=.5, s=.1)\n",
    "plt.scatter(sw205.time, sw205.ws,label=\"sw205\", alpha=.5, s=.1)\n",
    "plt.scatter(sw210.time, sw210.ws,label=\"sw210\", alpha=.5, s=.1)\n",
    "plt.scatter(sw215.time, sw215.ws,label=\"sw215\", alpha=.5, s=.1)\n",
    "plt.scatter(sw220.time, sw220.ws,label=\"sw220\", alpha=.5, s=.1)\n",
    "plt.scatter(sw225.time, sw225.ws,label=\"sw225\", alpha=.5, s=.1)\n",
    "plt.scatter(sw230.time, sw230.ws,label=\"sw230\", alpha=.5, s=.1)\n",
    "plt.scatter(sw235.time, sw235.ws,label=\"sw235\", alpha=.5, s=.1)\n",
    "plt.scatter(sw240.time, sw240.ws,label=\"sw240\", alpha=.5, s=.1)\n",
    "plt.scatter(sw250.time, sw250.ws,label=\"sw250\", alpha=.5, s=.1)\n",
    "plt.legend()\n",
    "plt.show()"
   ]
  },
  {
   "cell_type": "code",
   "execution_count": null,
   "id": "6b143718-0f10-42a2-a681-dc8d617cb213",
   "metadata": {},
   "outputs": [],
   "source": [
    "plt.figure()\n",
    "# sw200.ws.plot(label=\"sw200\")\n",
    "sw205.ws.plot(label=\"sw205\")\n",
    "sw210.ws.plot(label=\"sw210\")\n",
    "sw215.ws.plot(label=\"sw215\")\n",
    "sw220.ws.plot(label=\"sw220\")\n",
    "sw225.ws.plot(label=\"sw225\")\n",
    "sw230.ws.plot(label=\"sw230\")\n",
    "sw235.ws.plot(label=\"sw235\")\n",
    "sw240.ws.plot(label=\"sw240\")\n",
    "sw250.ws.plot(label=\"sw250\")\n",
    "plt.legend()\n",
    "plt.show()"
   ]
  },
  {
   "cell_type": "code",
   "execution_count": null,
   "id": "1add4728-937d-4ae3-83dd-4ed4b4c0d35d",
   "metadata": {},
   "outputs": [],
   "source": [
    "plt.figure()\n",
    "# sw200.dw.plot(label=\"sw200\")\n",
    "sw205.dw.plot(label=\"sw205\")\n",
    "sw210.dw.plot(label=\"sw210\")\n",
    "sw215.dw.plot(label=\"sw215\")\n",
    "sw220.dw.plot(label=\"sw220\")\n",
    "sw225.dw.plot(label=\"sw225\")\n",
    "sw230.dw.plot(label=\"sw230\")\n",
    "sw235.dw.plot(label=\"sw235\")\n",
    "sw240.dw.plot(label=\"sw240\")\n",
    "sw250.dw.plot(label=\"sw250\")\n",
    "plt.legend()\n",
    "plt.show()"
   ]
  },
  {
   "cell_type": "markdown",
   "id": "5f9a7962-7efe-4174-bb17-ab61d7a2f0a7",
   "metadata": {
    "tags": []
   },
   "source": [
    "---\n",
    "---\n",
    "\n",
    "## Kongsvegen - 2019-2021"
   ]
  },
  {
   "cell_type": "markdown",
   "id": "fd35fc10-13d9-4ec4-a942-27e05137f6b3",
   "metadata": {
    "tags": []
   },
   "source": [
    "### Load weather data"
   ]
  },
  {
   "cell_type": "code",
   "execution_count": null,
   "id": "77428c8c-3b66-4a03-b6aa-90ebdc26e326",
   "metadata": {},
   "outputs": [],
   "source": [
    "sw200 = xr.open_dataset('data_qc/aws-sw-200-20190406-20210501.nc')\n",
    "sw215 = xr.open_dataset('data_qc/aws-sw-001-20190406-20210429.nc')\n",
    "sw220 = xr.open_dataset('data_qc/aws-sw-220-20190406-20210429.nc')\n",
    "sw230 = xr.open_dataset('data_qc/aws-sw-230-20190406-20210429.nc')\n",
    "sw240 = xr.open_dataset('data_qc/aws-sw-240-20190407-20210429.nc')\n",
    "sw240"
   ]
  },
  {
   "cell_type": "markdown",
   "id": "135447e5-8edd-4e76-88fc-46788f226048",
   "metadata": {
    "tags": []
   },
   "source": [
    "### Snow depth"
   ]
  },
  {
   "cell_type": "code",
   "execution_count": null,
   "id": "83cd95a1-4808-4a0b-8cba-8a16458bc4ce",
   "metadata": {},
   "outputs": [],
   "source": [
    "plt.figure()\n",
    "sw200.snd.plot(label=\"sw200\")\n",
    "sw215.snd.plot(label=\"sw215\")\n",
    "sw220.snd.plot(label=\"sw220\")\n",
    "sw230.snd.plot(label=\"sw230\")\n",
    "sw240.snd.plot(label=\"sw240\")\n",
    "plt.legend()\n",
    "plt.show()"
   ]
  },
  {
   "cell_type": "code",
   "execution_count": null,
   "id": "2c2552e9-4902-43e7-a1da-d1dbcd8701bc",
   "metadata": {},
   "outputs": [],
   "source": [
    "plt.figure()\n",
    "plt.scatter(sw200.time, sw200.snd,label=\"sw200\", alpha=.5, s=.1)\n",
    "plt.scatter(sw215.time, sw215.snd,label=\"sw215\", alpha=.5, s=.1)\n",
    "plt.scatter(sw220.time, sw220.snd,label=\"sw220\", alpha=.5, s=.1)\n",
    "plt.scatter(sw230.time, sw230.snd,label=\"sw230\", alpha=.5, s=.1)\n",
    "plt.scatter(sw240.time, sw240.snd,label=\"sw240\", alpha=.5, s=.1)\n",
    "plt.legend()\n",
    "plt.show()"
   ]
  },
  {
   "cell_type": "code",
   "execution_count": null,
   "id": "ac9557ed-630d-4626-b8cf-f483a9184378",
   "metadata": {},
   "outputs": [],
   "source": [
    "plt.figure()\n",
    "sw200.snd.dropna(dim='time').plot(label=\"sw200\")\n",
    "sw215.snd.dropna(dim='time').plot(label=\"sw215\")\n",
    "sw220.snd.dropna(dim='time').plot(label=\"sw220\")\n",
    "sw230.snd.dropna(dim='time').plot(label=\"sw230\")\n",
    "sw240.snd.dropna(dim='time').plot(label=\"sw240\")\n",
    "plt.show()"
   ]
  },
  {
   "cell_type": "markdown",
   "id": "e9606674-ec80-4ca4-a1ed-6bc7dcc77a58",
   "metadata": {
    "tags": []
   },
   "source": [
    "### Air temperature"
   ]
  },
  {
   "cell_type": "code",
   "execution_count": null,
   "id": "241c8e3a-67e8-4fcc-b940-dd1579414f6f",
   "metadata": {},
   "outputs": [],
   "source": [
    "plt.figure()\n",
    "plt.scatter(sw200.time, sw200.ta,label=\"sw200\", alpha=.5, s=.1)\n",
    "plt.scatter(sw215.time, sw215.ta,label=\"sw215\", alpha=.5, s=.1)\n",
    "plt.scatter(sw220.time, sw220.ta,label=\"sw220\", alpha=.5, s=.1)\n",
    "plt.scatter(sw230.time, sw230.ta,label=\"sw230\", alpha=.5, s=.1)\n",
    "plt.scatter(sw240.time, sw240.ta,label=\"sw240\", alpha=.5, s=.1)\n",
    "plt.legend()\n",
    "plt.show()"
   ]
  },
  {
   "cell_type": "code",
   "execution_count": null,
   "id": "97a00a8c-7768-4e2b-9fe8-34d8389b1bd0",
   "metadata": {},
   "outputs": [],
   "source": [
    "plt.figure()\n",
    "sw200.ta.plot(label=\"sw200\")\n",
    "sw215.ta.plot(label=\"sw215\")\n",
    "sw220.ta.plot(label=\"sw220\")\n",
    "sw230.ta.plot(label=\"sw230\")\n",
    "sw240.ta.plot(label=\"sw240\")\n",
    "plt.legend()\n",
    "plt.show()"
   ]
  },
  {
   "cell_type": "markdown",
   "id": "3b33dd6d-12f6-4014-96ea-0b7c3b2bed60",
   "metadata": {
    "tags": []
   },
   "source": [
    "### Surface temperature"
   ]
  },
  {
   "cell_type": "code",
   "execution_count": null,
   "id": "bd623fca-117f-4784-9a97-8616fa8abd71",
   "metadata": {},
   "outputs": [],
   "source": [
    "plt.figure()\n",
    "plt.scatter(sw200.time, sw200.ts,label=\"sw200\", alpha=.5, s=.1)\n",
    "plt.scatter(sw215.time, sw215.ts,label=\"sw215\", alpha=.5, s=.1)\n",
    "plt.scatter(sw220.time, sw220.ts,label=\"sw220\", alpha=.5, s=.1)\n",
    "plt.scatter(sw230.time, sw230.ts,label=\"sw230\", alpha=.5, s=.1)\n",
    "plt.scatter(sw240.time, sw240.ts,label=\"sw240\", alpha=.5, s=.1)\n",
    "plt.legend()\n",
    "plt.show()"
   ]
  },
  {
   "cell_type": "code",
   "execution_count": null,
   "id": "fda2a0d8-70f8-4e42-9513-c463b1b95dbf",
   "metadata": {},
   "outputs": [],
   "source": [
    "plt.figure()\n",
    "sw200.ts.plot(label=\"sw200\")\n",
    "sw215.ts.plot(label=\"sw215\")\n",
    "sw220.ts.plot(label=\"sw220\")\n",
    "sw230.ts.plot(label=\"sw230\")\n",
    "sw240.ts.plot(label=\"sw240\")\n",
    "plt.legend()\n",
    "plt.show()"
   ]
  },
  {
   "cell_type": "markdown",
   "id": "60239344-dfb3-4f7e-97e5-6675fc3754b5",
   "metadata": {
    "tags": []
   },
   "source": [
    "### Relative humidity"
   ]
  },
  {
   "cell_type": "code",
   "execution_count": null,
   "id": "7b739d55-6640-40b4-abf8-e03254146748",
   "metadata": {},
   "outputs": [],
   "source": [
    "plt.figure()\n",
    "plt.scatter(sw200.time, sw200.hur,label=\"sw200\", alpha=.5, s=.1)\n",
    "plt.scatter(sw215.time, sw215.hur,label=\"sw215\", alpha=.5, s=.1)\n",
    "plt.scatter(sw220.time, sw220.hur,label=\"sw220\", alpha=.5, s=.1)\n",
    "plt.scatter(sw230.time, sw230.hur,label=\"sw230\", alpha=.5, s=.1)\n",
    "plt.scatter(sw240.time, sw240.hur,label=\"sw240\", alpha=.5, s=.1)\n",
    "plt.legend()\n",
    "plt.show()"
   ]
  },
  {
   "cell_type": "code",
   "execution_count": null,
   "id": "ebf9110f-57e0-4af0-a567-0f1109c1c0d9",
   "metadata": {},
   "outputs": [],
   "source": [
    "plt.figure()\n",
    "sw200.hur.plot(label=\"sw200\")\n",
    "sw215.hur.plot(label=\"sw215\")\n",
    "sw220.hur.plot(label=\"sw220\")\n",
    "sw230.hur.plot(label=\"sw230\")\n",
    "sw240.hur.plot(label=\"sw240\")\n",
    "plt.legend()\n",
    "plt.show()"
   ]
  },
  {
   "cell_type": "markdown",
   "id": "124cd6ac-bb0b-493a-b1a8-fbd60b761f7a",
   "metadata": {
    "tags": []
   },
   "source": [
    "### Air pressure"
   ]
  },
  {
   "cell_type": "code",
   "execution_count": null,
   "id": "901c9a52-b7c5-4fb3-9252-1d30b129a4cf",
   "metadata": {},
   "outputs": [],
   "source": [
    "plt.figure()\n",
    "sw200.ps.plot(label=\"sw200\")\n",
    "sw215.ps.plot(label=\"sw215\")\n",
    "sw220.ps.plot(label=\"sw220\")\n",
    "sw230.ps.plot(label=\"sw230\")\n",
    "sw240.ps.plot(label=\"sw240\")\n",
    "plt.legend()\n",
    "plt.show()"
   ]
  },
  {
   "cell_type": "markdown",
   "id": "b0eee1b7-a146-42cf-95b6-72ea7b162720",
   "metadata": {
    "tags": []
   },
   "source": [
    "### Wind speed and direction\n",
    "\n",
    "No wind sensor for the following wsn weather stations: sw200"
   ]
  },
  {
   "cell_type": "code",
   "execution_count": null,
   "id": "49e4ec9b-3398-46cb-8d94-3a294989a730",
   "metadata": {},
   "outputs": [],
   "source": [
    "plt.figure()\n",
    "# plt.scatter(sw200.time, sw200.ws,label=\"sw200\", alpha=.5, s=.1)\n",
    "# plt.scatter(sw215.time, sw215.ws,label=\"sw215\", alpha=.5, s=.1)\n",
    "plt.scatter(sw220.time, sw220.ws,label=\"sw220\", alpha=.5, s=.1)\n",
    "#plt.scatter(sw230.time, sw230.ws,label=\"sw230\", alpha=.5, s=.1)\n",
    "# plt.scatter(sw240.time, sw240.ws,label=\"sw240\", alpha=.5, s=.1)\n",
    "plt.legend()\n",
    "plt.show()"
   ]
  },
  {
   "cell_type": "code",
   "execution_count": null,
   "id": "ccb357bb-3662-486b-8b46-a9aad66b3050",
   "metadata": {},
   "outputs": [],
   "source": [
    "plt.figure()\n",
    "# sw200.ws.plot(label=\"sw200\")\n",
    "sw215.ws.plot(label=\"sw215\")\n",
    "sw220.ws.plot(label=\"sw220\")\n",
    "sw230.ws.plot(label=\"sw230\")\n",
    "sw240.ws.plot(label=\"sw240\")\n",
    "plt.legend()\n",
    "plt.show()"
   ]
  },
  {
   "cell_type": "code",
   "execution_count": null,
   "id": "ae728b5b-d4ff-4c51-aea6-f9d22b1201fe",
   "metadata": {},
   "outputs": [],
   "source": [
    "plt.figure()\n",
    "# sw200.dw.plot(label=\"sw200\")\n",
    "sw215.dw.plot(label=\"sw215\")\n",
    "sw220.dw.plot(label=\"sw220\")\n",
    "sw230.dw.plot(label=\"sw230\")\n",
    "sw240.dw.plot(label=\"sw240\")\n",
    "plt.legend()\n",
    "plt.show()"
   ]
  },
  {
   "cell_type": "markdown",
   "id": "fc946fee-a382-423a-888c-391994685a49",
   "metadata": {
    "tags": []
   },
   "source": [
    "---\n",
    "---\n",
    "\n",
    "## Etonbreen"
   ]
  },
  {
   "cell_type": "code",
   "execution_count": 4,
   "id": "1983cca0-5364-4ed7-8456-5ef8ca21101b",
   "metadata": {},
   "outputs": [],
   "source": [
    "eton = xr.open_dataset('data_qc/aws-eton-2-20040421-20210914.nc')\n",
    "plt.figure()\n",
    "eton.snd.plot()\n",
    "plt.figure()\n",
    "eton.ps.plot()\n",
    "plt.figure()\n",
    "eton.ps.plot()\n",
    "plt.show()"
   ]
  },
  {
   "cell_type": "code",
   "execution_count": 17,
   "id": "d5f7e9d5-d7b7-4ecb-a460-2d5f506c1e4e",
   "metadata": {},
   "outputs": [],
   "source": [
    "plt.figure()\n",
    "eton.ts.plot()\n",
    "plt.show()"
   ]
  },
  {
   "cell_type": "code",
   "execution_count": null,
   "id": "d1f5458a-bb8a-4142-b8e0-459ab22bfe9b",
   "metadata": {},
   "outputs": [],
   "source": []
  }
 ],
 "metadata": {
  "kernelspec": {
   "display_name": "uioData",
   "language": "python",
   "name": "uiodata"
  },
  "language_info": {
   "codemirror_mode": {
    "name": "ipython",
    "version": 3
   },
   "file_extension": ".py",
   "mimetype": "text/x-python",
   "name": "python",
   "nbconvert_exporter": "python",
   "pygments_lexer": "ipython3",
   "version": "3.8.13"
  }
 },
 "nbformat": 4,
 "nbformat_minor": 5
}
