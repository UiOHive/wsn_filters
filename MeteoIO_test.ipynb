{
 "cells": [
  {
   "cell_type": "code",
   "execution_count": 20,
   "id": "12de5833-f71d-467e-98e4-6694f6a46fa4",
   "metadata": {},
   "outputs": [],
   "source": [
    "import xarray as xr\n",
    "import pandas as pd\n",
    "import numpy as np\n",
    "import matplotlib.pyplot as plt\n",
    "import shutil\n",
    "import os, sys, datetime, shutil\n",
    "from sys import platform\n",
    "import subprocess\n",
    "from wsn_client import query\n",
    "import yaml\n",
    "import argparse\n",
    "from configobj import ConfigObj\n",
    "import logging\n",
    "import time\n",
    "from datetime import timedelta\n",
    "#%matplotlib widget \n",
    "\n",
    "# Dictionary for variables to meteoIO input format    \n",
    "dict_corres = {\n",
    "    'tmp_temperature':['TA',1,273.15], # Air temperature [deg. C -> K]\n",
    "    'wind_temp':['TA',1,273.15],       # Air temperature [deg. C -> K]\n",
    "    'ds2_temp':['TA',1,273.15],        # Air temperature [deg. C -> K]\n",
    "    'bme_tc':['TA',1,273.15],          # Air temperature [deg. C -> K]\n",
    "    'bme_hum':['RH',0.01,0],           # Relative humidity [% -> 1-0]\n",
    "    'sht_hum':['RH',0.01,0],           # Relative humidity [% -> 1-0]\n",
    "    'mb_distance':['HS',0.001,0],          # Height of snow [mm -> m]\n",
    "    'vl_distance':['HS',0.001,0],          # Height of snow [mm -> m]\n",
    "    'bme_pres':['P',100,0],            # Air pressure [hPa -> Pa]\n",
    "    'wind_speed':['VW',1,0],           # Wind velocity [m.s-1]\n",
    "    'wind_dir':['DW',1,0],             # Wind direction [degree from North]\n",
    "    'ds2_speed':['VW',1,0],            # Wind velocity [m.s-1]\n",
    "    'ds2_dir':['DW',1,0],              # Wind direction [degree from North]\n",
    "    'mlx_object':['TSS',1,273.15],     # Temperature of the snow surface [deg. C -> K]\n",
    "    '':['TSG',1,273.15],               # Temperature of the ground surface [deg. C -> K]\n",
    "    '':['VW_MAX',1,0]\n",
    "}"
   ]
  },
  {
   "cell_type": "code",
   "execution_count": 89,
   "id": "578a41ba-c5d8-42cf-ba21-c4a91a85ed1c",
   "metadata": {},
   "outputs": [],
   "source": [
    "# Load metadata from YML\n",
    "with open('config_wsn_KNG.yml', 'r') as file:\n",
    "    # Open network \n",
    "    conf = yaml.safe_load(file)\n",
    "    #print(yaml.dump(yaml.safe_load(file), default_flow_style=False))\n",
    "    \n",
    "# Create directory tree\n",
    "folder_input = conf['path']['folder_input']\n",
    "folder_output = conf['path']['folder_output']"
   ]
  },
  {
   "cell_type": "code",
   "execution_count": 90,
   "id": "9ec363a0-2115-4d96-9efb-c920231607dc",
   "metadata": {},
   "outputs": [],
   "source": [
    "node=conf['node'][9]  #3=KNG6"
   ]
  },
  {
   "cell_type": "code",
   "execution_count": 91,
   "id": "98257cc2-9769-417e-81bf-beb01dd2a3f4",
   "metadata": {},
   "outputs": [
    {
     "name": "stdout",
     "output_type": "stream",
     "text": [
      "======================================\n",
      "---> Preparing QC node sw-250 - SETEVATNET\n",
      "---> Version 2021-05-01 to 2022-05-05\n",
      "---> Do not run QC\n",
      "---> Version 2022-05-05 to 2023-05-01\n",
      "---> Downloading ['ds2_temp', 'mb_distance', 'ds2_dir', 'ds2_speed']\n",
      "---> Snow depth calibration\n",
      "     Data range: 2022-05-05 - 2023-04-30\n",
      "     Period 2020-09-01 - 2021-09-26: No data for hydrological year\n",
      "     Period 2021-09-26 - 2022-09-01: Apply snow calibration ... 2350 + 560 + 50 = 2960 mm on 2022-05-05\n",
      "     Period 2022-09-01 - 2023-09-01: Apply snow calibration ... 2770 + 590 + 50 = 3410 mm on 2023-04-13\n",
      "     Period 2023-09-01 - 2024-09-01: No data for hydrological year\n",
      "---> Save data output in: data/aws-sw-250-20220505-20230501.csv\n",
      "---> Deleted existing file: ini/aws-sw-250-20220505-20230501.ini\n",
      "---> Copy and fill meteoIO configurations: ini/aws-sw-250-20220505-20230501.ini\n",
      "---> Save meteoIO configurations and make io.ini file\n",
      "---> command: data_converter 2022-05-05T18:06:00 2023-05-01T00:00:00 10\n",
      "---> Netcdf output: data_qc/aws-sw-250-20220505-20230501.nc\n",
      "---> Version 2023-05-01 to 2024-05-01\n",
      "---> Downloading ['ds2_temp', 'mb_distance', 'ds2_dir', 'ds2_speed']\n",
      "---> Snow depth calibration\n",
      "     Data range: 2023-04-30 - 2024-04-30\n"
     ]
    },
    {
     "name": "stderr",
     "output_type": "stream",
     "text": [
      "/tmp/ipykernel_388119/1405738877.py:34: FutureWarning: Downcasting object dtype arrays on .fillna, .ffill, .bfill is deprecated and will change in a future version. Call result.infer_objects(copy=False) instead. To opt-in to the future behavior, set `pd.set_option('future.no_silent_downcasting', True)`\n",
      "  df = df.fillna(value=np.nan)\n"
     ]
    },
    {
     "name": "stdout",
     "output_type": "stream",
     "text": [
      "     Period 2020-09-01 - 2021-09-26: No data for hydrological year\n",
      "     Period 2021-09-26 - 2022-09-01: No data for hydrological year\n",
      "     Period 2022-09-01 - 2023-09-01: Apply snow calibration ... 2770 + 590 + 50 = 3410 mm on 2023-04-13\n",
      "     Period 2023-09-01 - 2024-09-01: Apply snow calibration ... [] + [] + [] = [] mm on []\n"
     ]
    },
    {
     "ename": "ValueError",
     "evalue": "operands could not be broadcast together with shapes (0,) (24203,) ",
     "output_type": "error",
     "traceback": [
      "\u001b[0;31m---------------------------------------------------------------------------\u001b[0m",
      "\u001b[0;31mValueError\u001b[0m                                Traceback (most recent call last)",
      "Cell \u001b[0;32mIn[91], line 43\u001b[0m\n\u001b[1;32m     41\u001b[0m \u001b[38;5;28;01mif\u001b[39;00m \u001b[38;5;124m\"\u001b[39m\u001b[38;5;124mmb_distance\u001b[39m\u001b[38;5;124m\"\u001b[39m \u001b[38;5;129;01min\u001b[39;00m version[\u001b[38;5;124m'\u001b[39m\u001b[38;5;124mdata_sios\u001b[39m\u001b[38;5;124m'\u001b[39m]:\n\u001b[1;32m     42\u001b[0m     \u001b[38;5;28mprint\u001b[39m(\u001b[38;5;124m'\u001b[39m\u001b[38;5;124m---> Snow depth calibration\u001b[39m\u001b[38;5;124m'\u001b[39m)\n\u001b[0;32m---> 43\u001b[0m     df[\u001b[38;5;124m'\u001b[39m\u001b[38;5;124mmb_distance\u001b[39m\u001b[38;5;124m'\u001b[39m] \u001b[38;5;241m=\u001b[39m \u001b[43mcalibration_snow\u001b[49m\u001b[43m(\u001b[49m\u001b[43mdf\u001b[49m\u001b[43m[\u001b[49m\u001b[38;5;124;43m'\u001b[39;49m\u001b[38;5;124;43mmb_distance\u001b[39;49m\u001b[38;5;124;43m'\u001b[39;49m\u001b[43m]\u001b[49m\u001b[43m,\u001b[49m\u001b[43mnode\u001b[49m\u001b[43m[\u001b[49m\u001b[38;5;124;43m'\u001b[39;49m\u001b[38;5;124;43msnow\u001b[39;49m\u001b[38;5;124;43m'\u001b[39;49m\u001b[43m]\u001b[49m\u001b[43m,\u001b[49m\u001b[43mnode\u001b[49m\u001b[43m[\u001b[49m\u001b[38;5;124;43m'\u001b[39;49m\u001b[38;5;124;43mdate_last_melt\u001b[39;49m\u001b[38;5;124;43m'\u001b[39;49m\u001b[43m]\u001b[49m\u001b[43m)\u001b[49m\n\u001b[1;32m     44\u001b[0m \u001b[38;5;28;01melse\u001b[39;00m:\n\u001b[1;32m     45\u001b[0m     \u001b[38;5;28mprint\u001b[39m(\u001b[38;5;124m'\u001b[39m\u001b[38;5;124m---> No snow depth data: skip calibration\u001b[39m\u001b[38;5;124m'\u001b[39m)\n",
      "Cell \u001b[0;32mIn[9], line 51\u001b[0m, in \u001b[0;36mcalibration_snow\u001b[0;34m(df, node_snow, year_hydro)\u001b[0m\n\u001b[1;32m     47\u001b[0m \u001b[38;5;28mprint\u001b[39m(\u001b[38;5;124m'\u001b[39m\u001b[38;5;132;01m{}\u001b[39;00m\u001b[38;5;124m Apply snow calibration ... \u001b[39m\u001b[38;5;132;01m{}\u001b[39;00m\u001b[38;5;124m + \u001b[39m\u001b[38;5;132;01m{}\u001b[39;00m\u001b[38;5;124m + \u001b[39m\u001b[38;5;132;01m{}\u001b[39;00m\u001b[38;5;124m = \u001b[39m\u001b[38;5;132;01m{}\u001b[39;00m\u001b[38;5;124m mm on \u001b[39m\u001b[38;5;132;01m{}\u001b[39;00m\u001b[38;5;124m'\u001b[39m\u001b[38;5;241m.\u001b[39mformat(str_hydro_year, dist_surf_sensor, snow_depth,\n\u001b[1;32m     48\u001b[0m                                                                    offset, height_sensor_to_ice, date_snow))\n\u001b[1;32m     50\u001b[0m \u001b[38;5;66;03m# Calibration of snow depth - Remove negative value i.e. ice melt\u001b[39;00m\n\u001b[0;32m---> 51\u001b[0m snow_depth \u001b[38;5;241m=\u001b[39m \u001b[43mheight_sensor_to_ice\u001b[49m\u001b[43m \u001b[49m\u001b[38;5;241;43m-\u001b[39;49m\u001b[43m \u001b[49m\u001b[43mdf\u001b[49m\u001b[43m[\u001b[49m\u001b[43myear_hydro\u001b[49m\u001b[43m[\u001b[49m\u001b[43md\u001b[49m\u001b[38;5;241;43m-\u001b[39;49m\u001b[38;5;241;43m1\u001b[39;49m\u001b[43m]\u001b[49m\u001b[43m:\u001b[49m\u001b[43myear_hydro\u001b[49m\u001b[43m[\u001b[49m\u001b[43md\u001b[49m\u001b[43m]\u001b[49m\u001b[43m]\u001b[49m\n\u001b[1;32m     52\u001b[0m snow_depth[snow_depth\u001b[38;5;241m<\u001b[39m\u001b[38;5;241m0\u001b[39m] \u001b[38;5;241m=\u001b[39m \u001b[38;5;241m0\u001b[39m\n\u001b[1;32m     54\u001b[0m \u001b[38;5;66;03m# Assign in dataframe\u001b[39;00m\n",
      "File \u001b[0;32m~/miniconda3/envs/wsn/lib/python3.12/site-packages/pandas/core/ops/common.py:76\u001b[0m, in \u001b[0;36m_unpack_zerodim_and_defer.<locals>.new_method\u001b[0;34m(self, other)\u001b[0m\n\u001b[1;32m     72\u001b[0m             \u001b[38;5;28;01mreturn\u001b[39;00m \u001b[38;5;28mNotImplemented\u001b[39m\n\u001b[1;32m     74\u001b[0m other \u001b[38;5;241m=\u001b[39m item_from_zerodim(other)\n\u001b[0;32m---> 76\u001b[0m \u001b[38;5;28;01mreturn\u001b[39;00m \u001b[43mmethod\u001b[49m\u001b[43m(\u001b[49m\u001b[38;5;28;43mself\u001b[39;49m\u001b[43m,\u001b[49m\u001b[43m \u001b[49m\u001b[43mother\u001b[49m\u001b[43m)\u001b[49m\n",
      "File \u001b[0;32m~/miniconda3/envs/wsn/lib/python3.12/site-packages/pandas/core/arraylike.py:198\u001b[0m, in \u001b[0;36mOpsMixin.__rsub__\u001b[0;34m(self, other)\u001b[0m\n\u001b[1;32m    196\u001b[0m \u001b[38;5;129m@unpack_zerodim_and_defer\u001b[39m(\u001b[38;5;124m\"\u001b[39m\u001b[38;5;124m__rsub__\u001b[39m\u001b[38;5;124m\"\u001b[39m)\n\u001b[1;32m    197\u001b[0m \u001b[38;5;28;01mdef\u001b[39;00m \u001b[38;5;21m__rsub__\u001b[39m(\u001b[38;5;28mself\u001b[39m, other):\n\u001b[0;32m--> 198\u001b[0m     \u001b[38;5;28;01mreturn\u001b[39;00m \u001b[38;5;28;43mself\u001b[39;49m\u001b[38;5;241;43m.\u001b[39;49m\u001b[43m_arith_method\u001b[49m\u001b[43m(\u001b[49m\u001b[43mother\u001b[49m\u001b[43m,\u001b[49m\u001b[43m \u001b[49m\u001b[43mroperator\u001b[49m\u001b[38;5;241;43m.\u001b[39;49m\u001b[43mrsub\u001b[49m\u001b[43m)\u001b[49m\n",
      "File \u001b[0;32m~/miniconda3/envs/wsn/lib/python3.12/site-packages/pandas/core/series.py:6126\u001b[0m, in \u001b[0;36mSeries._arith_method\u001b[0;34m(self, other, op)\u001b[0m\n\u001b[1;32m   6124\u001b[0m \u001b[38;5;28;01mdef\u001b[39;00m \u001b[38;5;21m_arith_method\u001b[39m(\u001b[38;5;28mself\u001b[39m, other, op):\n\u001b[1;32m   6125\u001b[0m     \u001b[38;5;28mself\u001b[39m, other \u001b[38;5;241m=\u001b[39m \u001b[38;5;28mself\u001b[39m\u001b[38;5;241m.\u001b[39m_align_for_op(other)\n\u001b[0;32m-> 6126\u001b[0m     \u001b[38;5;28;01mreturn\u001b[39;00m \u001b[43mbase\u001b[49m\u001b[38;5;241;43m.\u001b[39;49m\u001b[43mIndexOpsMixin\u001b[49m\u001b[38;5;241;43m.\u001b[39;49m\u001b[43m_arith_method\u001b[49m\u001b[43m(\u001b[49m\u001b[38;5;28;43mself\u001b[39;49m\u001b[43m,\u001b[49m\u001b[43m \u001b[49m\u001b[43mother\u001b[49m\u001b[43m,\u001b[49m\u001b[43m \u001b[49m\u001b[43mop\u001b[49m\u001b[43m)\u001b[49m\n",
      "File \u001b[0;32m~/miniconda3/envs/wsn/lib/python3.12/site-packages/pandas/core/base.py:1382\u001b[0m, in \u001b[0;36mIndexOpsMixin._arith_method\u001b[0;34m(self, other, op)\u001b[0m\n\u001b[1;32m   1379\u001b[0m     rvalues \u001b[38;5;241m=\u001b[39m np\u001b[38;5;241m.\u001b[39marange(rvalues\u001b[38;5;241m.\u001b[39mstart, rvalues\u001b[38;5;241m.\u001b[39mstop, rvalues\u001b[38;5;241m.\u001b[39mstep)\n\u001b[1;32m   1381\u001b[0m \u001b[38;5;28;01mwith\u001b[39;00m np\u001b[38;5;241m.\u001b[39merrstate(\u001b[38;5;28mall\u001b[39m\u001b[38;5;241m=\u001b[39m\u001b[38;5;124m\"\u001b[39m\u001b[38;5;124mignore\u001b[39m\u001b[38;5;124m\"\u001b[39m):\n\u001b[0;32m-> 1382\u001b[0m     result \u001b[38;5;241m=\u001b[39m \u001b[43mops\u001b[49m\u001b[38;5;241;43m.\u001b[39;49m\u001b[43marithmetic_op\u001b[49m\u001b[43m(\u001b[49m\u001b[43mlvalues\u001b[49m\u001b[43m,\u001b[49m\u001b[43m \u001b[49m\u001b[43mrvalues\u001b[49m\u001b[43m,\u001b[49m\u001b[43m \u001b[49m\u001b[43mop\u001b[49m\u001b[43m)\u001b[49m\n\u001b[1;32m   1384\u001b[0m \u001b[38;5;28;01mreturn\u001b[39;00m \u001b[38;5;28mself\u001b[39m\u001b[38;5;241m.\u001b[39m_construct_result(result, name\u001b[38;5;241m=\u001b[39mres_name)\n",
      "File \u001b[0;32m~/miniconda3/envs/wsn/lib/python3.12/site-packages/pandas/core/ops/array_ops.py:283\u001b[0m, in \u001b[0;36marithmetic_op\u001b[0;34m(left, right, op)\u001b[0m\n\u001b[1;32m    279\u001b[0m     _bool_arith_check(op, left, right)  \u001b[38;5;66;03m# type: ignore[arg-type]\u001b[39;00m\n\u001b[1;32m    281\u001b[0m     \u001b[38;5;66;03m# error: Argument 1 to \"_na_arithmetic_op\" has incompatible type\u001b[39;00m\n\u001b[1;32m    282\u001b[0m     \u001b[38;5;66;03m# \"Union[ExtensionArray, ndarray[Any, Any]]\"; expected \"ndarray[Any, Any]\"\u001b[39;00m\n\u001b[0;32m--> 283\u001b[0m     res_values \u001b[38;5;241m=\u001b[39m \u001b[43m_na_arithmetic_op\u001b[49m\u001b[43m(\u001b[49m\u001b[43mleft\u001b[49m\u001b[43m,\u001b[49m\u001b[43m \u001b[49m\u001b[43mright\u001b[49m\u001b[43m,\u001b[49m\u001b[43m \u001b[49m\u001b[43mop\u001b[49m\u001b[43m)\u001b[49m  \u001b[38;5;66;03m# type: ignore[arg-type]\u001b[39;00m\n\u001b[1;32m    285\u001b[0m \u001b[38;5;28;01mreturn\u001b[39;00m res_values\n",
      "File \u001b[0;32m~/miniconda3/envs/wsn/lib/python3.12/site-packages/pandas/core/ops/array_ops.py:218\u001b[0m, in \u001b[0;36m_na_arithmetic_op\u001b[0;34m(left, right, op, is_cmp)\u001b[0m\n\u001b[1;32m    215\u001b[0m     func \u001b[38;5;241m=\u001b[39m partial(expressions\u001b[38;5;241m.\u001b[39mevaluate, op)\n\u001b[1;32m    217\u001b[0m \u001b[38;5;28;01mtry\u001b[39;00m:\n\u001b[0;32m--> 218\u001b[0m     result \u001b[38;5;241m=\u001b[39m \u001b[43mfunc\u001b[49m\u001b[43m(\u001b[49m\u001b[43mleft\u001b[49m\u001b[43m,\u001b[49m\u001b[43m \u001b[49m\u001b[43mright\u001b[49m\u001b[43m)\u001b[49m\n\u001b[1;32m    219\u001b[0m \u001b[38;5;28;01mexcept\u001b[39;00m \u001b[38;5;167;01mTypeError\u001b[39;00m:\n\u001b[1;32m    220\u001b[0m     \u001b[38;5;28;01mif\u001b[39;00m \u001b[38;5;129;01mnot\u001b[39;00m is_cmp \u001b[38;5;129;01mand\u001b[39;00m (\n\u001b[1;32m    221\u001b[0m         left\u001b[38;5;241m.\u001b[39mdtype \u001b[38;5;241m==\u001b[39m \u001b[38;5;28mobject\u001b[39m \u001b[38;5;129;01mor\u001b[39;00m \u001b[38;5;28mgetattr\u001b[39m(right, \u001b[38;5;124m\"\u001b[39m\u001b[38;5;124mdtype\u001b[39m\u001b[38;5;124m\"\u001b[39m, \u001b[38;5;28;01mNone\u001b[39;00m) \u001b[38;5;241m==\u001b[39m \u001b[38;5;28mobject\u001b[39m\n\u001b[1;32m    222\u001b[0m     ):\n\u001b[0;32m   (...)\u001b[0m\n\u001b[1;32m    225\u001b[0m         \u001b[38;5;66;03m# Don't do this for comparisons, as that will handle complex numbers\u001b[39;00m\n\u001b[1;32m    226\u001b[0m         \u001b[38;5;66;03m#  incorrectly, see GH#32047\u001b[39;00m\n",
      "File \u001b[0;32m~/miniconda3/envs/wsn/lib/python3.12/site-packages/pandas/core/computation/expressions.py:242\u001b[0m, in \u001b[0;36mevaluate\u001b[0;34m(op, a, b, use_numexpr)\u001b[0m\n\u001b[1;32m    239\u001b[0m \u001b[38;5;28;01mif\u001b[39;00m op_str \u001b[38;5;129;01mis\u001b[39;00m \u001b[38;5;129;01mnot\u001b[39;00m \u001b[38;5;28;01mNone\u001b[39;00m:\n\u001b[1;32m    240\u001b[0m     \u001b[38;5;28;01mif\u001b[39;00m use_numexpr:\n\u001b[1;32m    241\u001b[0m         \u001b[38;5;66;03m# error: \"None\" not callable\u001b[39;00m\n\u001b[0;32m--> 242\u001b[0m         \u001b[38;5;28;01mreturn\u001b[39;00m \u001b[43m_evaluate\u001b[49m\u001b[43m(\u001b[49m\u001b[43mop\u001b[49m\u001b[43m,\u001b[49m\u001b[43m \u001b[49m\u001b[43mop_str\u001b[49m\u001b[43m,\u001b[49m\u001b[43m \u001b[49m\u001b[43ma\u001b[49m\u001b[43m,\u001b[49m\u001b[43m \u001b[49m\u001b[43mb\u001b[49m\u001b[43m)\u001b[49m  \u001b[38;5;66;03m# type: ignore[misc]\u001b[39;00m\n\u001b[1;32m    243\u001b[0m \u001b[38;5;28;01mreturn\u001b[39;00m _evaluate_standard(op, op_str, a, b)\n",
      "File \u001b[0;32m~/miniconda3/envs/wsn/lib/python3.12/site-packages/pandas/core/computation/expressions.py:73\u001b[0m, in \u001b[0;36m_evaluate_standard\u001b[0;34m(op, op_str, a, b)\u001b[0m\n\u001b[1;32m     71\u001b[0m \u001b[38;5;28;01mif\u001b[39;00m _TEST_MODE:\n\u001b[1;32m     72\u001b[0m     _store_test_result(\u001b[38;5;28;01mFalse\u001b[39;00m)\n\u001b[0;32m---> 73\u001b[0m \u001b[38;5;28;01mreturn\u001b[39;00m \u001b[43mop\u001b[49m\u001b[43m(\u001b[49m\u001b[43ma\u001b[49m\u001b[43m,\u001b[49m\u001b[43m \u001b[49m\u001b[43mb\u001b[49m\u001b[43m)\u001b[49m\n",
      "File \u001b[0;32m~/miniconda3/envs/wsn/lib/python3.12/site-packages/pandas/core/roperator.py:15\u001b[0m, in \u001b[0;36mrsub\u001b[0;34m(left, right)\u001b[0m\n\u001b[1;32m     14\u001b[0m \u001b[38;5;28;01mdef\u001b[39;00m \u001b[38;5;21mrsub\u001b[39m(left, right):\n\u001b[0;32m---> 15\u001b[0m     \u001b[38;5;28;01mreturn\u001b[39;00m \u001b[43mright\u001b[49m\u001b[43m \u001b[49m\u001b[38;5;241;43m-\u001b[39;49m\u001b[43m \u001b[49m\u001b[43mleft\u001b[49m\n",
      "\u001b[0;31mValueError\u001b[0m: operands could not be broadcast together with shapes (0,) (24203,) "
     ]
    }
   ],
   "source": [
    "\n",
    "    print('======================================')\n",
    "    print('---> Preparing QC node {} - {}'.format(node['id'],node['name']))\n",
    "\n",
    "    # Open the meteoIO configuration template (ini file)  \n",
    "    config_ini = ConfigObj('ini/'+node['meteoio_ini_template'])\n",
    "\n",
    "    # Loop through several version i.e. sensor types\n",
    "    for version in node['version']:\n",
    "        date_start = version['date_start']\n",
    "        date_end = version['date_end']\n",
    "        print('---> Version {} to {}'.format(format(date_start,\"%Y-%m-%d\"), format(date_end,\"%Y-%m-%d\")))\n",
    "        \n",
    "        # Check if data_sios is empty\n",
    "        if type(version['data_sios']) is float:\n",
    "            if pd.isnull(version['data_sios']):\n",
    "                print('---> No data_sios')\n",
    "                continue\n",
    "            \n",
    "        if not version['QC_todo']:\n",
    "            print('---> Do not run QC')\n",
    "            continue\n",
    "        else:\n",
    "            # Query database\n",
    "            df = query.query('postgresql',\n",
    "                             name=node['id'],\n",
    "                             fields=version['data_sios'],\n",
    "                             time__gte=date_start,\n",
    "                             time__lte=date_end,\n",
    "                             limit=2000000000000)\n",
    "            print('---> Downloading {}'.format(version['data_sios']))\n",
    "\n",
    "            ## Formatting\n",
    "            # Replace Nones in empty lists by NaNs \n",
    "            df = df.fillna(value=np.nan)\n",
    "            # Assign NaNs to -9999 values\n",
    "            df = df.replace('-9999',np.nan)\n",
    "            # Remove column with time as number\n",
    "            del df['time']\n",
    "\n",
    "            ## Snow depth calibration\n",
    "            if \"mb_distance\" in version['data_sios']:\n",
    "                print('---> Snow depth calibration')\n",
    "                df['mb_distance'] = calibration_snow(df['mb_distance'],node['snow'],node['date_last_melt'])\n",
    "            else:\n",
    "                print('---> No snow depth data: skip calibration')\n",
    "\n",
    "            ## Handling filenames\n",
    "            fname = 'aws-{}-{}-{}'.format(node['id'],\n",
    "                                      format(date_start,\"%Y%m%d\"),\n",
    "                                      format(date_end,\"%Y%m%d\"))\n",
    "            fname_csv = '{}/{}.csv'.format(folder_input, fname)\n",
    "            fname_out ='{}.nc'.format(fname)\n",
    "\n",
    "            ## Delete existing files\n",
    "            path_out = '{}/{}'.format(folder_output, fname_out)\n",
    "            if os.path.exists(path_out):\n",
    "                os.remove(path_out)\n",
    "                print('---> Deleted existing file: {}'.format(path_out))\n",
    "\n",
    "            ## Save to CSV\n",
    "            print('---> Save data output in: {}'.format(fname_csv))\n",
    "            df.to_csv(fname_csv)\n",
    "\n",
    "            ## Save custom ini\n",
    "            # filename ini\n",
    "            fname_ini = 'ini/{}.ini'.format(fname)\n",
    "            if os.path.exists(fname_ini):\n",
    "                os.remove(fname_ini)\n",
    "                print('---> Deleted existing file: {}'.format(fname_ini))\n",
    "            print('---> Copy and fill meteoIO configurations: {}'.format(fname_ini))\n",
    "\n",
    "            # Copy and load configuration file template for meteoIO\n",
    "            shutil.copyfile('ini/'+node['meteoio_ini_template'],fname_ini)\n",
    "            config_ini = ConfigObj(fname_ini)\n",
    "\n",
    "            # [Input]\n",
    "            config_ini['Input']['METEOPATH']=folder_input\n",
    "            config_ini['Input']['STATION1']='{}.csv'.format(fname) \n",
    "            config_ini['Input']['CSV_UNITS_OFFSET']='0 {}'.format(' '.join([ str(dict_corres[d][2]) for d in version['data_sios'] ]))\n",
    "            config_ini['Input']['CSV_UNITS_MULTIPLIER']='1 {}'.format(' '.join([str(dict_corres[d][1]) for d in version['data_sios'] ]))\n",
    "            config_ini['Input']['CSV_FIELDS']='TIMESTAMP {}'.format(' '.join([dict_corres[d][0]  for d in version['data_sios'] ]))\n",
    "            config_ini['Input']['CSV_NAME']=node['id']\n",
    "            config_ini['Input']['CSV_ID']=node['id']\n",
    "            config_ini['Input']['POSITION']='xy({},{},{})'.format(node['location']['easting'],\n",
    "                                                                  node['location']['northing'],\n",
    "                                                                  node['location']['elevation'])\n",
    "            # [Output]\n",
    "            config_ini['Output']['METEOPATH']=folder_output\n",
    "            config_ini['Output']['METEOFILE']='{}.nc'.format(fname)\n",
    "            config_ini['Output']['NC_CREATOR']=conf['ACDD']['CREATOR']\n",
    "            config_ini['Output']['NC_SUMMARY']='Station {} from {}'.format(node['id'],conf['network']['description'])\n",
    "            config_ini['Output']['NC_ID']=node['id']\n",
    "            config_ini['Output']['ACDD_CREATOR']=conf['ACDD']['CREATOR']\n",
    "            \n",
    "            # Add ACDD values\n",
    "            for ACDD,value in conf['ACDD'].items():\n",
    "                if not ACDD=='WRITE':\n",
    "                    config_ini['Output']['ACDD_'+ACDD]=value\n",
    "\n",
    "            # write and copy ini - and remove double quotes\n",
    "            #config_ini.write()\n",
    "            #if platform == \"linux\" or platform == \"linux2\":\n",
    "            #    subprocess.run(['sed -i \\'s/\"//g\\' {}'.format(fname_ini)], shell=True)\n",
    "            #elif platform == \"darwin\":\n",
    "            #    subprocess.run(['sed -i \\'\\' \\'s/\"//g\\' {}'.format(fname_ini)], shell=True)\n",
    "            #shutil.copyfile(fname_ini,'io.ini')\n",
    "            print('---> Save meteoIO configurations and make io.ini file')\n",
    "\n",
    "            # run MeteoIO (need to alias data_converter)\n",
    "            sampling_rate = 10 # in minutes\n",
    "            command = 'data_converter {} {} {}'.format(format(date_start,\"%Y-%m-%dT%H:%M:%S\"),format(date_end,\"%Y-%m-%dT%H:%M:%S\"),sampling_rate)\n",
    "            print('---> command: {}'.format(command))\n",
    "            #time.sleep(4)\n",
    "            #subprocess.run([command], shell=True)\n",
    "            print('---> Netcdf output: {}'.format(path_out))\n",
    "df"
   ]
  },
  {
   "cell_type": "code",
   "execution_count": null,
   "id": "324232ea-e72c-43b3-8f55-5f8c0f7d00eb",
   "metadata": {},
   "outputs": [],
   "source": [
    "#'xy({},{},{})'.format(node['location']['easting'],node['location']['northing'],node['location']['elevation'])\n",
    "#'xy({},{},{})'.format(node['location']['easting'],node['location']['northing'],node['location']['elevation'])\n",
    "config_ini['Input']['POSITION']='xy('+str(node['location']['easting'])+','+str(node['location']['northing'])+','+str(node['location']['elevation'])+')'\n",
    "config_ini['Input']['POSITION']"
   ]
  },
  {
   "cell_type": "code",
   "execution_count": 55,
   "id": "80d8c139",
   "metadata": {},
   "outputs": [
    {
     "data": {
      "text/plain": [
       "True"
      ]
     },
     "execution_count": 55,
     "metadata": {},
     "output_type": "execute_result"
    }
   ],
   "source": [
    "type(version['data_sios']) is float"
   ]
  },
  {
   "cell_type": "markdown",
   "id": "7c83129e-59a4-4cc7-86fe-89f8f665c0e7",
   "metadata": {},
   "source": [
    "## Calibration version 0"
   ]
  },
  {
   "cell_type": "code",
   "execution_count": null,
   "id": "123b3340-da69-4ccf-8075-1b627147fe06",
   "metadata": {},
   "outputs": [],
   "source": [
    "#if len(date_snow)==len(node['snow']['depth']): date_snow.insert(0,df.index[1].date())\n",
    "#if len(date_snow)==len(node['snow']['depth']): date_snow.insert(0,df.index.min().date())\n",
    "\n",
    "# Extract dates defining a hydrological year (sept. - sept)\n",
    "date_snow=node['snow']['year_hydro']\n",
    "\n",
    "# Compute median value and assign to new column for output\n",
    "df['mb_median'] = df.mb_distance.apply(lambda x: np.median(np.array(x)))\n",
    "df['mb_median_corrected'] = df['mb_median']\n",
    "\n",
    "# loop through hydrological year to calibrate snow depth\n",
    "for d in range(1,len(date_snow)):\n",
    "    \n",
    "    # Constrain loop to calibrate only period with data\n",
    "    if date_snow[d] < df.index.min().date(): break\n",
    "    if date_snow[d-1] > df.index.max().date(): break\n",
    "    \n",
    "    # Compute distance between sensor and reference surface i.e. ice or last summer surface\n",
    "    height_sensor_to_ice = node['snow']['dist_to_sensor'][d-1] + node['snow']['depth'][d-1]\n",
    "    \n",
    "    print('---> Process snow depth from {} to {}'.format(format(date_snow[d-1],\"%Y-%m-%d\"), format(date_snow[d],\"%Y-%m-%d\")))\n",
    "    print('     Calibration reference surface to sensor: {} mm on {} '.format(height_sensor_to_ice, format(node['snow']['date'][d-1],\"%Y-%m-%d\")))\n",
    "    #print(pd.isna(node['snow']['dist_to_sensor'][d-1]))\n",
    "    \n",
    "    # Calibration of snow depth - Remove negative value i.e. ice melt\n",
    "    snow_depth = height_sensor_to_ice - df.mb_median[date_snow[d-1]:date_snow[d]]\n",
    "    snow_depth[snow_depth<0]= 0\n",
    "    \n",
    "    # Assign in dataframe\n",
    "    df.mb_median_corrected[date_snow[d-1]:date_snow[d]] = snow_depth\n",
    "\n",
    "df['mb_median'].plot()\n",
    "df['mb_median_corrected'].plot()"
   ]
  },
  {
   "cell_type": "code",
   "execution_count": null,
   "id": "df4643e9-e68e-4056-8127-6d9da1c57e93",
   "metadata": {},
   "outputs": [],
   "source": [
    "########################################\n",
    "# Extract dates defining a hydrological year (sept. - sept)\n",
    "date_snow=node['snow']['year_hydro']\n",
    "\n",
    "# Compute median value and assign to new column for output\n",
    "df['mb_median'] = df.mb_distance.apply(lambda x: np.median(np.array(x)))\n",
    "\n",
    "# loop through hydrological year to calibrate snow depth\n",
    "for d in range(1,len(date_snow)):\n",
    "\n",
    "    # Constrain loop to calibrate only period with data\n",
    "    if date_snow[d] < df.index.min().date(): break\n",
    "    if date_snow[d-1] > df.index.max().date(): break\n",
    "\n",
    "    # Compute distance between sensor and reference surface i.e. ice or last summer surface\n",
    "    height_sensor_to_ice = node['snow']['dist_to_sensor'][d-1] + node['snow']['depth'][d-1]\n",
    "\n",
    "    print('---> Process snow depth from {} to {}'.format(format(date_snow[d-1],\"%Y-%m-%d\"), format(date_snow[d],\"%Y-%m-%d\")))\n",
    "    logging.debug('     Calibration reference surface to sensor: {} mm on {} '.format(height_sensor_to_ice, format(node['snow']['date'][d-1],\"%Y-%m-%d\")))\n",
    "\n",
    "    # Calibration of snow depth - Remove negative value i.e. ice melt\n",
    "    snow_depth = height_sensor_to_ice - df.mb_median[date_snow[d-1]:date_snow[d]]\n",
    "    snow_depth[snow_depth<0]= 0\n",
    "\n",
    "    # Assign in dataframe\n",
    "    df.mb_median[date_snow[d-1]:date_snow[d]] = snow_depth\n",
    "########################################"
   ]
  },
  {
   "cell_type": "code",
   "execution_count": null,
   "id": "0ffa6b6e-d9af-4e72-9663-ae1fc0ee60ea",
   "metadata": {},
   "outputs": [],
   "source": [
    "df2=query.query('postgresql',name='sw-001',fields=['mb_distance'],#'tmp_temperature', \n",
    "                                     time__gte=datetime.datetime(2019, 4, 11),\n",
    "                                     time__lte=datetime.datetime(2022, 1, 1),\n",
    "                                     limit=2000000000000)\n",
    "print(df2.columns)\n",
    "\n",
    "df2['mb_median'] = df2.mb_distance.apply(lambda x: np.median(np.array(x)))\n",
    "plt.plot(df2['mb_median'])\n",
    "plt.show()"
   ]
  },
  {
   "cell_type": "markdown",
   "id": "a9721ee4-63c4-49a9-bd7f-db56fc8f1c16",
   "metadata": {},
   "source": [
    "## Calibration version 1"
   ]
  },
  {
   "cell_type": "code",
   "execution_count": null,
   "id": "9645b7a0-d359-4a72-9a8e-5bbf65a51c62",
   "metadata": {},
   "outputs": [],
   "source": [
    "def calibration_snow(df,node_snow,year_hydro):\n",
    "    ##########################\n",
    "    # Snow depth calibration #\n",
    "    ##########################\n",
    "    \n",
    "    # Extract dates defining a hydrological year (sept. - sept)\n",
    "    #date_snow=node_snow['year_hydro']\n",
    "\n",
    "    # Compute median value and assign to new column for output\n",
    "    df = df.apply(lambda x: np.median(np.array(x)))\n",
    "\n",
    "    # loop through hydrological year to calibrate snow depth\n",
    "    for d in range(1,len(year_hydro)):\n",
    "\n",
    "        # Constrain loop to calibrate only period with data\n",
    "        if year_hydro[d] < df.index.min().date(): continue\n",
    "        if year_hydro[d-1] > df.index.max().date(): continue\n",
    "\n",
    "        # Compute distance between sensor and reference surface i.e. ice or last summer surface\n",
    "        height_sensor_to_ice = node_snow['dist_to_sensor'][d-1] + node_snow['depth'][d-1]\n",
    "\n",
    "        print( '     Process snow depth from {} to {}'.format(format(year_hydro[d-1],\"%Y-%m-%d\"), format(year_hydro[d],\"%Y-%m-%d\")))\n",
    "        logging.debug('     Calibration reference surface to sensor: {} mm on {} '.format(height_sensor_to_ice, format(node_snow['date'][d-1],\"%Y-%m-%d\")))\n",
    "\n",
    "        # Calibration of snow depth - Remove negative value i.e. ice melt\n",
    "        snow_depth = height_sensor_to_ice - df[year_hydro[d-1]:year_hydro[d]]\n",
    "        snow_depth[snow_depth<0] = 0\n",
    "\n",
    "        # Assign in dataframe\n",
    "        df[year_hydro[d-1]:year_hydro[d]] = snow_depth\n",
    "    return df\n",
    "    ##########################\n",
    "    \n",
    "#df['mb_distance'] = calibration_snow(df['mb_distance'],node['snow'], conf['network']['year_hydro'])\n",
    "#df['mb_distance'].plot()\n",
    "#node['snow']"
   ]
  },
  {
   "cell_type": "markdown",
   "id": "6ce7e1b7-27ea-4903-8bd3-a99e0a18df75",
   "metadata": {},
   "source": [
    "## Calibration version 2"
   ]
  },
  {
   "cell_type": "code",
   "execution_count": null,
   "id": "041fe362-534c-4b17-9b41-b55f0f75ddc8",
   "metadata": {},
   "outputs": [],
   "source": [
    "df2 = df['mb_distance']\n",
    "node_snow = node['snow']\n",
    "year_hydro = conf['network']['year_hydro']\n",
    "df2 = df2.apply(lambda x: np.median(np.array(x)))\n",
    "node_snow"
   ]
  },
  {
   "cell_type": "code",
   "execution_count": null,
   "id": "5c437460-c928-4983-abf9-0992a6b8fc76",
   "metadata": {},
   "outputs": [],
   "source": [
    "def calibration_snow(df,node_snow,year_hydro):\n",
    "    ##########################\n",
    "    # Snow depth calibration #\n",
    "    ##########################\n",
    "    \n",
    "    # Time span\n",
    "    date_start = df2.index.min().date()\n",
    "    date_end = df2.index.max().date()\n",
    "    print('Data range: {} - {}'.format(date_start,date_end))\n",
    "    \n",
    "    # Extract dates defining a hydrological year (sept. - sept)\n",
    "    #date_snow=node_snow['year_hydro']\n",
    "\n",
    "    # Compute median value and assign to new column for output\n",
    "    df = df.apply(lambda x: np.median(np.array(x)))\n",
    "\n",
    "    # loop through hydrological year to calibrate snow depth\n",
    "    for d in range(1,len(year_hydro)):\n",
    "        \n",
    "        print('Hydrological year: {} - {}'.format(year_hydro[d-1],year_hydro[d]))\n",
    "        #print('Last melt day: {}'.format(year_hydro[d]))\n",
    "\n",
    "        # Constrain loop to calibrate only period with data\n",
    "        if any(( year_hydro[d] < date_start, year_hydro[d-1] > date_end )):\n",
    "            print(\"No data for hydrological year\")\n",
    "            continue\n",
    "\n",
    "        # Find calibration parameters matching the hydrological year\n",
    "        extract = [(date >= year_hydro[d-1] and date <= year_hydro[d]) for date in node_snow['date']]\n",
    "        if not any(extract):\n",
    "            print(\"No calibration data for hydrological year\")\n",
    "            continue\n",
    "        date_snow = np.extract(extract,node_snow['date'])\n",
    "        dist_to_sensor = np.extract(extract,node_snow['dist_to_sensor'])\n",
    "        snow_depth = np.extract(extract,node_snow['depth'])\n",
    "\n",
    "        # Compute distance between sensor and reference surface i.e. ice or last summer surface\n",
    "        height_sensor_to_ice = dist_to_sensor + snow_depth\n",
    "        print('     {} + {} = {}'.format(dist_to_sensor, snow_depth, height_sensor_to_ice))\n",
    "\n",
    "        print('     Process snow depth from {} to {}'.format(format(year_hydro[d-1],\"%Y-%m-%d\"), format(year_hydro[d],\"%Y-%m-%d\")))\n",
    "        print('     Calibration reference surface to sensor: {} mm on {} '.format(height_sensor_to_ice, date_snow))\n",
    "\n",
    "        # Calibration of snow depth - Remove negative value i.e. ice melt\n",
    "        snow_depth = height_sensor_to_ice - df2[year_hydro[d-1]:year_hydro[d]]\n",
    "        snow_depth[snow_depth<0] = 0\n",
    "\n",
    "        # Assign in dataframe\n",
    "        df2[year_hydro[d-1]:year_hydro[d]] = snow_depth\n",
    "        #df2.plot()\n",
    "                                              \n",
    "    return df\n",
    "    ##########################\n",
    "    \n",
    "df['mb_distance'] = calibration_snow(df['mb_distance'],node['snow'], conf['network']['year_hydro'])\n",
    "df['mb_distance'].plot()\n",
    "#node['snow']"
   ]
  },
  {
   "cell_type": "markdown",
   "id": "6a04388c-34e0-4b93-8680-235383e0299d",
   "metadata": {},
   "source": [
    "### Test"
   ]
  },
  {
   "cell_type": "code",
   "execution_count": null,
   "id": "d6b7064a-ea1b-465e-91fb-9fef028b4d50",
   "metadata": {},
   "outputs": [],
   "source": [
    "    date_start = df2.index.min().date()\n",
    "    date_end = df2.index.max().date()\n",
    "    print('year_hydro: {} - {} ... data_span {} - {}'.format(year_hydro[d-1],year_hydro[d],date_start,date_end))\n",
    "\n",
    "    # Constrain loop to calibrate only period with data\n",
    "    if any(( year_hydro[d] < date_start, year_hydro[d-1] > date_end )):\n",
    "        print(\"No data for hydrological year\")\n",
    "    \n",
    "    # Find calibration parameters matching the hydrological year\n",
    "    extract = [(date >= year_hydro[d-1] and date <= year_hydro[d]) for date in node_snow['date']]\n",
    "    if not any(extract):\n",
    "        print(\"No calibration data for hydrological year\")\n",
    "\n",
    "    date_snow = np.extract(extract,node_snow['date'])\n",
    "    dist_to_sensor = np.extract(extract,node_snow['dist_to_sensor'])\n",
    "    snow_depth = np.extract(extract,node_snow['depth'])\n",
    "    \n",
    "    print('{} {}'.format(dist_to_sensor, snow_depth))\n",
    "    print('{}: {}'.format(date_snow, dist_to_sensor + snow_depth))"
   ]
  },
  {
   "cell_type": "markdown",
   "id": "0a3d1585-7db2-4365-a45f-fe807b65e6cd",
   "metadata": {},
   "source": [
    "## Calibration version 3"
   ]
  },
  {
   "cell_type": "code",
   "execution_count": 99,
   "id": "06d62e7e-2c75-4e05-b86d-8e947d1a70ae",
   "metadata": {},
   "outputs": [],
   "source": [
    "df2 = df['mb_distance']\n",
    "node_snow = node['snow']\n",
    "year_hydro = node['date_last_melt']\n",
    "date_start = df.index.min().date()\n",
    "date_end = df.index.max().date()\n",
    "#node_snow"
   ]
  },
  {
   "cell_type": "code",
   "execution_count": 100,
   "id": "951cc273-9cf6-495e-93d4-65f01813b30e",
   "metadata": {},
   "outputs": [
    {
     "name": "stdout",
     "output_type": "stream",
     "text": [
      "     Data range: 2023-04-30 - 2024-04-30\n",
      "     Period 2020-09-01 - 2021-09-26: No data for hydrological year\n",
      "     Period 2021-09-26 - 2022-09-01: No data for hydrological year\n",
      "     Period 2022-09-01 - 2023-09-01: Apply snow calibration ... 2770 + 590 + 50 = 3410 mm on 2023-04-13\n",
      "     Period 2023-09-01 - 2024-09-01: Apply snow calibration ... [] + [] + [] = [] mm on []\n"
     ]
    },
    {
     "ename": "ValueError",
     "evalue": "operands could not be broadcast together with shapes (0,) (24203,) ",
     "output_type": "error",
     "traceback": [
      "\u001b[0;31m---------------------------------------------------------------------------\u001b[0m",
      "\u001b[0;31mValueError\u001b[0m                                Traceback (most recent call last)",
      "Cell \u001b[0;32mIn[100], line 60\u001b[0m\n\u001b[1;32m     58\u001b[0m     \u001b[38;5;28;01mreturn\u001b[39;00m df\n\u001b[1;32m     59\u001b[0m     \u001b[38;5;66;03m##########################\u001b[39;00m\n\u001b[0;32m---> 60\u001b[0m df2[\u001b[38;5;124m'\u001b[39m\u001b[38;5;124mmb_distance\u001b[39m\u001b[38;5;124m'\u001b[39m] \u001b[38;5;241m=\u001b[39m \u001b[43mcalibration_snow\u001b[49m\u001b[43m(\u001b[49m\u001b[43mdf\u001b[49m\u001b[43m[\u001b[49m\u001b[38;5;124;43m'\u001b[39;49m\u001b[38;5;124;43mmb_distance\u001b[39;49m\u001b[38;5;124;43m'\u001b[39;49m\u001b[43m]\u001b[49m\u001b[43m,\u001b[49m\u001b[43mnode\u001b[49m\u001b[43m[\u001b[49m\u001b[38;5;124;43m'\u001b[39;49m\u001b[38;5;124;43msnow\u001b[39;49m\u001b[38;5;124;43m'\u001b[39;49m\u001b[43m]\u001b[49m\u001b[43m,\u001b[49m\u001b[43m \u001b[49m\u001b[43mnode\u001b[49m\u001b[43m[\u001b[49m\u001b[38;5;124;43m'\u001b[39;49m\u001b[38;5;124;43mdate_last_melt\u001b[39;49m\u001b[38;5;124;43m'\u001b[39;49m\u001b[43m]\u001b[49m\u001b[43m)\u001b[49m\n\u001b[1;32m     61\u001b[0m df2[\u001b[38;5;124m'\u001b[39m\u001b[38;5;124mmb_distance\u001b[39m\u001b[38;5;124m'\u001b[39m]\u001b[38;5;241m.\u001b[39mplot()\n",
      "Cell \u001b[0;32mIn[100], line 51\u001b[0m, in \u001b[0;36mcalibration_snow\u001b[0;34m(df, node_snow, year_hydro)\u001b[0m\n\u001b[1;32m     47\u001b[0m \u001b[38;5;28mprint\u001b[39m(\u001b[38;5;124m'\u001b[39m\u001b[38;5;132;01m{}\u001b[39;00m\u001b[38;5;124m Apply snow calibration ... \u001b[39m\u001b[38;5;132;01m{}\u001b[39;00m\u001b[38;5;124m + \u001b[39m\u001b[38;5;132;01m{}\u001b[39;00m\u001b[38;5;124m + \u001b[39m\u001b[38;5;132;01m{}\u001b[39;00m\u001b[38;5;124m = \u001b[39m\u001b[38;5;132;01m{}\u001b[39;00m\u001b[38;5;124m mm on \u001b[39m\u001b[38;5;132;01m{}\u001b[39;00m\u001b[38;5;124m'\u001b[39m\u001b[38;5;241m.\u001b[39mformat(str_hydro_year, dist_surf_sensor, snow_depth,\n\u001b[1;32m     48\u001b[0m                                                                    offset, height_sensor_to_ice, date_snow))\n\u001b[1;32m     50\u001b[0m \u001b[38;5;66;03m# Calibration of snow depth - Remove negative value i.e. ice melt\u001b[39;00m\n\u001b[0;32m---> 51\u001b[0m snow_depth \u001b[38;5;241m=\u001b[39m \u001b[43mheight_sensor_to_ice\u001b[49m\u001b[43m \u001b[49m\u001b[38;5;241;43m-\u001b[39;49m\u001b[43m \u001b[49m\u001b[43mdf\u001b[49m\u001b[43m[\u001b[49m\u001b[43myear_hydro\u001b[49m\u001b[43m[\u001b[49m\u001b[43md\u001b[49m\u001b[38;5;241;43m-\u001b[39;49m\u001b[38;5;241;43m1\u001b[39;49m\u001b[43m]\u001b[49m\u001b[43m:\u001b[49m\u001b[43myear_hydro\u001b[49m\u001b[43m[\u001b[49m\u001b[43md\u001b[49m\u001b[43m]\u001b[49m\u001b[43m]\u001b[49m\n\u001b[1;32m     52\u001b[0m snow_depth[snow_depth\u001b[38;5;241m<\u001b[39m\u001b[38;5;241m0\u001b[39m] \u001b[38;5;241m=\u001b[39m \u001b[38;5;241m0\u001b[39m\n\u001b[1;32m     54\u001b[0m \u001b[38;5;66;03m# Assign in dataframe\u001b[39;00m\n",
      "File \u001b[0;32m~/miniconda3/envs/wsn/lib/python3.12/site-packages/pandas/core/ops/common.py:76\u001b[0m, in \u001b[0;36m_unpack_zerodim_and_defer.<locals>.new_method\u001b[0;34m(self, other)\u001b[0m\n\u001b[1;32m     72\u001b[0m             \u001b[38;5;28;01mreturn\u001b[39;00m \u001b[38;5;28mNotImplemented\u001b[39m\n\u001b[1;32m     74\u001b[0m other \u001b[38;5;241m=\u001b[39m item_from_zerodim(other)\n\u001b[0;32m---> 76\u001b[0m \u001b[38;5;28;01mreturn\u001b[39;00m \u001b[43mmethod\u001b[49m\u001b[43m(\u001b[49m\u001b[38;5;28;43mself\u001b[39;49m\u001b[43m,\u001b[49m\u001b[43m \u001b[49m\u001b[43mother\u001b[49m\u001b[43m)\u001b[49m\n",
      "File \u001b[0;32m~/miniconda3/envs/wsn/lib/python3.12/site-packages/pandas/core/arraylike.py:198\u001b[0m, in \u001b[0;36mOpsMixin.__rsub__\u001b[0;34m(self, other)\u001b[0m\n\u001b[1;32m    196\u001b[0m \u001b[38;5;129m@unpack_zerodim_and_defer\u001b[39m(\u001b[38;5;124m\"\u001b[39m\u001b[38;5;124m__rsub__\u001b[39m\u001b[38;5;124m\"\u001b[39m)\n\u001b[1;32m    197\u001b[0m \u001b[38;5;28;01mdef\u001b[39;00m \u001b[38;5;21m__rsub__\u001b[39m(\u001b[38;5;28mself\u001b[39m, other):\n\u001b[0;32m--> 198\u001b[0m     \u001b[38;5;28;01mreturn\u001b[39;00m \u001b[38;5;28;43mself\u001b[39;49m\u001b[38;5;241;43m.\u001b[39;49m\u001b[43m_arith_method\u001b[49m\u001b[43m(\u001b[49m\u001b[43mother\u001b[49m\u001b[43m,\u001b[49m\u001b[43m \u001b[49m\u001b[43mroperator\u001b[49m\u001b[38;5;241;43m.\u001b[39;49m\u001b[43mrsub\u001b[49m\u001b[43m)\u001b[49m\n",
      "File \u001b[0;32m~/miniconda3/envs/wsn/lib/python3.12/site-packages/pandas/core/series.py:6126\u001b[0m, in \u001b[0;36mSeries._arith_method\u001b[0;34m(self, other, op)\u001b[0m\n\u001b[1;32m   6124\u001b[0m \u001b[38;5;28;01mdef\u001b[39;00m \u001b[38;5;21m_arith_method\u001b[39m(\u001b[38;5;28mself\u001b[39m, other, op):\n\u001b[1;32m   6125\u001b[0m     \u001b[38;5;28mself\u001b[39m, other \u001b[38;5;241m=\u001b[39m \u001b[38;5;28mself\u001b[39m\u001b[38;5;241m.\u001b[39m_align_for_op(other)\n\u001b[0;32m-> 6126\u001b[0m     \u001b[38;5;28;01mreturn\u001b[39;00m \u001b[43mbase\u001b[49m\u001b[38;5;241;43m.\u001b[39;49m\u001b[43mIndexOpsMixin\u001b[49m\u001b[38;5;241;43m.\u001b[39;49m\u001b[43m_arith_method\u001b[49m\u001b[43m(\u001b[49m\u001b[38;5;28;43mself\u001b[39;49m\u001b[43m,\u001b[49m\u001b[43m \u001b[49m\u001b[43mother\u001b[49m\u001b[43m,\u001b[49m\u001b[43m \u001b[49m\u001b[43mop\u001b[49m\u001b[43m)\u001b[49m\n",
      "File \u001b[0;32m~/miniconda3/envs/wsn/lib/python3.12/site-packages/pandas/core/base.py:1382\u001b[0m, in \u001b[0;36mIndexOpsMixin._arith_method\u001b[0;34m(self, other, op)\u001b[0m\n\u001b[1;32m   1379\u001b[0m     rvalues \u001b[38;5;241m=\u001b[39m np\u001b[38;5;241m.\u001b[39marange(rvalues\u001b[38;5;241m.\u001b[39mstart, rvalues\u001b[38;5;241m.\u001b[39mstop, rvalues\u001b[38;5;241m.\u001b[39mstep)\n\u001b[1;32m   1381\u001b[0m \u001b[38;5;28;01mwith\u001b[39;00m np\u001b[38;5;241m.\u001b[39merrstate(\u001b[38;5;28mall\u001b[39m\u001b[38;5;241m=\u001b[39m\u001b[38;5;124m\"\u001b[39m\u001b[38;5;124mignore\u001b[39m\u001b[38;5;124m\"\u001b[39m):\n\u001b[0;32m-> 1382\u001b[0m     result \u001b[38;5;241m=\u001b[39m \u001b[43mops\u001b[49m\u001b[38;5;241;43m.\u001b[39;49m\u001b[43marithmetic_op\u001b[49m\u001b[43m(\u001b[49m\u001b[43mlvalues\u001b[49m\u001b[43m,\u001b[49m\u001b[43m \u001b[49m\u001b[43mrvalues\u001b[49m\u001b[43m,\u001b[49m\u001b[43m \u001b[49m\u001b[43mop\u001b[49m\u001b[43m)\u001b[49m\n\u001b[1;32m   1384\u001b[0m \u001b[38;5;28;01mreturn\u001b[39;00m \u001b[38;5;28mself\u001b[39m\u001b[38;5;241m.\u001b[39m_construct_result(result, name\u001b[38;5;241m=\u001b[39mres_name)\n",
      "File \u001b[0;32m~/miniconda3/envs/wsn/lib/python3.12/site-packages/pandas/core/ops/array_ops.py:283\u001b[0m, in \u001b[0;36marithmetic_op\u001b[0;34m(left, right, op)\u001b[0m\n\u001b[1;32m    279\u001b[0m     _bool_arith_check(op, left, right)  \u001b[38;5;66;03m# type: ignore[arg-type]\u001b[39;00m\n\u001b[1;32m    281\u001b[0m     \u001b[38;5;66;03m# error: Argument 1 to \"_na_arithmetic_op\" has incompatible type\u001b[39;00m\n\u001b[1;32m    282\u001b[0m     \u001b[38;5;66;03m# \"Union[ExtensionArray, ndarray[Any, Any]]\"; expected \"ndarray[Any, Any]\"\u001b[39;00m\n\u001b[0;32m--> 283\u001b[0m     res_values \u001b[38;5;241m=\u001b[39m \u001b[43m_na_arithmetic_op\u001b[49m\u001b[43m(\u001b[49m\u001b[43mleft\u001b[49m\u001b[43m,\u001b[49m\u001b[43m \u001b[49m\u001b[43mright\u001b[49m\u001b[43m,\u001b[49m\u001b[43m \u001b[49m\u001b[43mop\u001b[49m\u001b[43m)\u001b[49m  \u001b[38;5;66;03m# type: ignore[arg-type]\u001b[39;00m\n\u001b[1;32m    285\u001b[0m \u001b[38;5;28;01mreturn\u001b[39;00m res_values\n",
      "File \u001b[0;32m~/miniconda3/envs/wsn/lib/python3.12/site-packages/pandas/core/ops/array_ops.py:218\u001b[0m, in \u001b[0;36m_na_arithmetic_op\u001b[0;34m(left, right, op, is_cmp)\u001b[0m\n\u001b[1;32m    215\u001b[0m     func \u001b[38;5;241m=\u001b[39m partial(expressions\u001b[38;5;241m.\u001b[39mevaluate, op)\n\u001b[1;32m    217\u001b[0m \u001b[38;5;28;01mtry\u001b[39;00m:\n\u001b[0;32m--> 218\u001b[0m     result \u001b[38;5;241m=\u001b[39m \u001b[43mfunc\u001b[49m\u001b[43m(\u001b[49m\u001b[43mleft\u001b[49m\u001b[43m,\u001b[49m\u001b[43m \u001b[49m\u001b[43mright\u001b[49m\u001b[43m)\u001b[49m\n\u001b[1;32m    219\u001b[0m \u001b[38;5;28;01mexcept\u001b[39;00m \u001b[38;5;167;01mTypeError\u001b[39;00m:\n\u001b[1;32m    220\u001b[0m     \u001b[38;5;28;01mif\u001b[39;00m \u001b[38;5;129;01mnot\u001b[39;00m is_cmp \u001b[38;5;129;01mand\u001b[39;00m (\n\u001b[1;32m    221\u001b[0m         left\u001b[38;5;241m.\u001b[39mdtype \u001b[38;5;241m==\u001b[39m \u001b[38;5;28mobject\u001b[39m \u001b[38;5;129;01mor\u001b[39;00m \u001b[38;5;28mgetattr\u001b[39m(right, \u001b[38;5;124m\"\u001b[39m\u001b[38;5;124mdtype\u001b[39m\u001b[38;5;124m\"\u001b[39m, \u001b[38;5;28;01mNone\u001b[39;00m) \u001b[38;5;241m==\u001b[39m \u001b[38;5;28mobject\u001b[39m\n\u001b[1;32m    222\u001b[0m     ):\n\u001b[0;32m   (...)\u001b[0m\n\u001b[1;32m    225\u001b[0m         \u001b[38;5;66;03m# Don't do this for comparisons, as that will handle complex numbers\u001b[39;00m\n\u001b[1;32m    226\u001b[0m         \u001b[38;5;66;03m#  incorrectly, see GH#32047\u001b[39;00m\n",
      "File \u001b[0;32m~/miniconda3/envs/wsn/lib/python3.12/site-packages/pandas/core/computation/expressions.py:242\u001b[0m, in \u001b[0;36mevaluate\u001b[0;34m(op, a, b, use_numexpr)\u001b[0m\n\u001b[1;32m    239\u001b[0m \u001b[38;5;28;01mif\u001b[39;00m op_str \u001b[38;5;129;01mis\u001b[39;00m \u001b[38;5;129;01mnot\u001b[39;00m \u001b[38;5;28;01mNone\u001b[39;00m:\n\u001b[1;32m    240\u001b[0m     \u001b[38;5;28;01mif\u001b[39;00m use_numexpr:\n\u001b[1;32m    241\u001b[0m         \u001b[38;5;66;03m# error: \"None\" not callable\u001b[39;00m\n\u001b[0;32m--> 242\u001b[0m         \u001b[38;5;28;01mreturn\u001b[39;00m \u001b[43m_evaluate\u001b[49m\u001b[43m(\u001b[49m\u001b[43mop\u001b[49m\u001b[43m,\u001b[49m\u001b[43m \u001b[49m\u001b[43mop_str\u001b[49m\u001b[43m,\u001b[49m\u001b[43m \u001b[49m\u001b[43ma\u001b[49m\u001b[43m,\u001b[49m\u001b[43m \u001b[49m\u001b[43mb\u001b[49m\u001b[43m)\u001b[49m  \u001b[38;5;66;03m# type: ignore[misc]\u001b[39;00m\n\u001b[1;32m    243\u001b[0m \u001b[38;5;28;01mreturn\u001b[39;00m _evaluate_standard(op, op_str, a, b)\n",
      "File \u001b[0;32m~/miniconda3/envs/wsn/lib/python3.12/site-packages/pandas/core/computation/expressions.py:73\u001b[0m, in \u001b[0;36m_evaluate_standard\u001b[0;34m(op, op_str, a, b)\u001b[0m\n\u001b[1;32m     71\u001b[0m \u001b[38;5;28;01mif\u001b[39;00m _TEST_MODE:\n\u001b[1;32m     72\u001b[0m     _store_test_result(\u001b[38;5;28;01mFalse\u001b[39;00m)\n\u001b[0;32m---> 73\u001b[0m \u001b[38;5;28;01mreturn\u001b[39;00m \u001b[43mop\u001b[49m\u001b[43m(\u001b[49m\u001b[43ma\u001b[49m\u001b[43m,\u001b[49m\u001b[43m \u001b[49m\u001b[43mb\u001b[49m\u001b[43m)\u001b[49m\n",
      "File \u001b[0;32m~/miniconda3/envs/wsn/lib/python3.12/site-packages/pandas/core/roperator.py:15\u001b[0m, in \u001b[0;36mrsub\u001b[0;34m(left, right)\u001b[0m\n\u001b[1;32m     14\u001b[0m \u001b[38;5;28;01mdef\u001b[39;00m \u001b[38;5;21mrsub\u001b[39m(left, right):\n\u001b[0;32m---> 15\u001b[0m     \u001b[38;5;28;01mreturn\u001b[39;00m \u001b[43mright\u001b[49m\u001b[43m \u001b[49m\u001b[38;5;241;43m-\u001b[39;49m\u001b[43m \u001b[49m\u001b[43mleft\u001b[49m\n",
      "\u001b[0;31mValueError\u001b[0m: operands could not be broadcast together with shapes (0,) (24203,) "
     ]
    }
   ],
   "source": [
    "def calibration_snow(df,node_snow,year_hydro):\n",
    "    ##########################\n",
    "    # Snow depth calibration #\n",
    "    ##########################\n",
    "    \n",
    "    # Time span\n",
    "    date_start = df.index.min().date()\n",
    "    date_end = df.index.max().date()\n",
    "    print('     Data range: {} - {}'.format(date_start,date_end))\n",
    "\n",
    "    # Compute median value and assign to new column for output\n",
    "    df = df.apply(lambda x: np.median(np.array(x)))\n",
    "\n",
    "    # Extract hydrological station \n",
    "    year_hydro = []\n",
    "    for node_last_melt in node['date_last_melt']:\n",
    "        year_hydro.append(node_last_melt['date'])\n",
    "\n",
    "    # loop through hydrological year to calibrate snow depth\n",
    "    for d in range(1,len(year_hydro)):\n",
    "\n",
    "        # Constrain loop to calibrate only period with data\n",
    "        str_hydro_year = '     Period {} - {}:'.format(year_hydro[d-1],year_hydro[d])\n",
    "        if any(( year_hydro[d] < date_start, year_hydro[d-1] > date_end )):\n",
    "            print('{} No data for hydrological year'.format(str_hydro_year))\n",
    "            continue\n",
    "\n",
    "        # Find calibration parameters matching the hydrological year\n",
    "        date_snow = []\n",
    "        dist_surf_sensor= []\n",
    "        snow_depth = []\n",
    "        offset = []       \n",
    "        for node_snow in node['snow']: \n",
    "            if node_snow['usage'] == 'calibration':\n",
    "                date = node_snow['date']\n",
    "                if date >= year_hydro[d-1] and date <= year_hydro[d]:\n",
    "                    date_snow = date\n",
    "                    dist_surf_sensor = node_snow['dist_surf_sensor']\n",
    "                    snow_depth = node_snow['snow_depth']\n",
    "                    offset = node_snow['offset']\n",
    "                    if node_snow['dist_surf_sensor'] is None or node_snow['snow_depth'] is None:\n",
    "                        print(\"{} No calibration data for hydrological year\".format(str_hydro_year))\n",
    "                        continue\n",
    "\n",
    "        # Compute distance between sensor and reference surface i.e. ice or last summer surface\n",
    "        height_sensor_to_ice = dist_surf_sensor + offset + snow_depth\n",
    "        print('{} Apply snow calibration ... {} + {} + {} = {} mm on {}'.format(str_hydro_year, dist_surf_sensor, snow_depth,\n",
    "                                                                           offset, height_sensor_to_ice, date_snow))\n",
    "\n",
    "        # Calibration of snow depth - Remove negative value i.e. ice melt\n",
    "        snow_depth = height_sensor_to_ice - df[year_hydro[d-1]:year_hydro[d]]\n",
    "        snow_depth[snow_depth<0] = 0\n",
    "\n",
    "        # Assign in dataframe\n",
    "        df[year_hydro[d-1]:year_hydro[d]] = snow_depth\n",
    "        #df.plot()\n",
    "                                              \n",
    "    return df\n",
    "    ##########################\n",
    "df2['mb_distance'] = calibration_snow(df['mb_distance'],node['snow'], node['date_last_melt'])\n",
    "df2['mb_distance'].plot()"
   ]
  },
  {
   "cell_type": "code",
   "execution_count": 10,
   "id": "f64af133-fb62-4154-ae5d-72a8ec594561",
   "metadata": {},
   "outputs": [],
   "source": [
    "QC_todo = None\n",
    "if QC_todo: print('True')"
   ]
  },
  {
   "cell_type": "code",
   "execution_count": 142,
   "id": "6175e36d-0389-4d0e-83bf-23b7302fc952",
   "metadata": {},
   "outputs": [
    {
     "data": {
      "text/plain": [
       "[1370]"
      ]
     },
     "execution_count": 144,
     "metadata": {},
     "output_type": "execute_result"
    }
   ],
   "source": [
    "date_snow = []\n",
    "dist_surf_sensor= []\n",
    "snow_depth = []\n",
    "for node_snow in node['snow']: \n",
    "    if node_snow['usage'] == 'calibration':\n",
    "        date = node_snow['date']\n",
    "        date_snow.append(date)\n",
    "        if date >= year_hydro[d-1] and date <= year_hydro[d]:\n",
    "            dist_surf_sensor.append(node_snow['dist_surf_sensor'])\n",
    "            snow_depth.append(node_snow['snow_depth'])\n",
    "date_snow #dist_surf_sensor #snow_depth"
   ]
  },
  {
   "cell_type": "code",
   "execution_count": 174,
   "id": "207eadbb-1fc0-4054-adb0-44befb2b0fcb",
   "metadata": {},
   "outputs": [
    {
     "name": "stdout",
     "output_type": "stream",
     "text": [
      "     Data range: 2021-04-29 - 2022-04-09\n",
      "     Hydrological year: 2018-09-01 - 2019-09-14: No data for hydrological year\n",
      "     Hydrological year: 2019-09-14 - 2020-09-01: No data for hydrological year\n",
      "     Hydrological year: 2020-09-01 - 2021-09-25: Apply snow calibration ... 50 + 1440 = 1490 mm on 2021-04-29\n",
      "     Hydrological year: 2021-09-25 - 2022-09-01: Apply snow calibration ... -3 + 1600 = 1597 mm on 2022-04-09\n",
      "     Hydrological year: 2022-09-01 - 2023-09-01: No data for hydrological year\n"
     ]
    },
    {
     "data": {
      "text/plain": [
       "<AxesSubplot:xlabel='time'>"
      ]
     },
     "execution_count": 174,
     "metadata": {},
     "output_type": "execute_result"
    },
    {
     "data": {
      "image/png": "[encoded data removed]",
      "text/plain": [
       "<Figure size 432x288 with 1 Axes>"
      ]
     },
     "metadata": {
      "needs_background": "light"
     },
     "output_type": "display_data"
    }
   ],
   "source": [
    "df2['mb_distance'] = calibration_snow(df['mb_distance'],node['snow'],node['date_last_melt'])\n",
    "df2['mb_distance'].plot()"
   ]
  },
  {
   "cell_type": "markdown",
   "id": "9e76049c-e2e4-40fb-bd31-25c78a5e63e6",
   "metadata": {},
   "source": [
    "## Metadata handling for MeteoIO"
   ]
  },
  {
   "cell_type": "code",
   "execution_count": null,
   "id": "b5e2976b-9062-4d6a-9628-6ed083a58430",
   "metadata": {},
   "outputs": [],
   "source": [
    "\n",
    "#df[version['data_sios']]\n",
    "#node['location']\n",
    "#node['network']['description']\n",
    "#'xy({},{},{})'.format(node['location']['easting'],node['location']['northing'],node['location']['elevation'])\n",
    "\n",
    "# Test dictionary\n",
    "meteoio_data = [ dict_corres[d][0] for d in version['data_sios'] ]\n",
    "meteoio_data_corr = [ dict_corres[d][1] for d in version['data_sios'] ]\n",
    "meteoio_data_scale = [ dict_corres[d][2] for d in version['data_sios'] ]\n",
    "print(meteoio_data)\n",
    "print(meteoio_data_corr)\n",
    "print(meteoio_data_scale)\n",
    "print(' '.join([     dict_corres[d][0]  for d in version['data_sios'] ]))\n",
    "print(' '.join([ str(dict_corres[d][1]) for d in version['data_sios'] ]))\n",
    "print(' '.join([ str(dict_corres[d][2]) for d in version['data_sios'] ]))\n",
    "'TIMESTAMP {}'.format(' '.join([dict_corres[d][0]  for d in version['data_sios'] ]))\n",
    "'0 {}'.format(' '.join([str(dict_corres[d][1]) for d in version['data_sios'] ]))\n",
    "'1 {}'.format(' '.join([ str(dict_corres[d][2]) for d in version['data_sios'] ]))\n",
    "\n",
    "print(config_ini['Input']['CSV_FIELDS'])\n",
    "print(config_ini['Input']['CSV_UNITS_OFFSET'])\n",
    "print(config_ini['Input']['CSV_UNITS_MULTIPLIER'])\n",
    "#config_ini['Input']['CSV_FIELDS']='TIMESTAMP {}'.format(' '.join(data_meteoio))\n",
    "config_ini['Input']['CSV_FIELDS']='TIMESTAMP {}'.format(' '.join([dict_corres[d][0]  for d in version['data_sios'] ]))\n",
    "config_ini['Input']['CSV_UNITS_MULTIPLIER']='1 {}'.format(' '.join([str(dict_corres[d][1]) for d in version['data_sios'] ]))\n",
    "config_ini['Input']['CSV_UNITS_OFFSET']='0 {}'.format(' '.join([ str(dict_corres[d][2]) for d in version['data_sios'] ]))"
   ]
  },
  {
   "cell_type": "code",
   "execution_count": null,
   "id": "28ecfad5-0376-4544-b9db-adadb39255ec",
   "metadata": {},
   "outputs": [],
   "source": []
  },
  {
   "cell_type": "code",
   "execution_count": null,
   "id": "7f86249f-ae5f-413e-9301-c17d92c63ccd",
   "metadata": {},
   "outputs": [],
   "source": []
  }
 ],
 "metadata": {
  "kernelspec": {
   "display_name": "Python 3 (ipykernel)",
   "language": "python",
   "name": "python3"
  },
  "language_info": {
   "codemirror_mode": {
    "name": "ipython",
    "version": 3
   },
   "file_extension": ".py",
   "mimetype": "text/x-python",
   "name": "python",
   "nbconvert_exporter": "python",
   "pygments_lexer": "ipython3",
   "version": "3.12.2"
  }
 },
 "nbformat": 4,
 "nbformat_minor": 5
}
